{
 "cells": [
  {
   "cell_type": "markdown",
   "metadata": {},
   "source": [
    "## Задание 9.5. Модуль ML-6 (HW-03)"
   ]
  },
  {
   "cell_type": "markdown",
   "metadata": {},
   "source": [
    "Обучите модель линейной регрессии на найденных двумя способами трёх важных признаках и сравните полученные результаты."
   ]
  },
  {
   "cell_type": "markdown",
   "metadata": {},
   "source": [
    "**Этапы выполнения:**\n",
    "\n",
    "* Выделить три столбца-признака для обучения, выбранные RFE.\n",
    "* Выделить три столбца-признака для обучения, выбранные SelectKBest.\n",
    "* Обучить регрессию на первых трёх столбцах, оценив качество модели на тесте.\n",
    "* Обучить регрессию на вторых трёх столбцах, оценив качество модели на тесте.\n",
    "* Произвести сравнение выбранных метрик в форме комментария. Дать ответ на вопрос «Какой метод отбора признаков показал наилучший результат на тестовой выборке?»"
   ]
  },
  {
   "cell_type": "code",
   "execution_count": 1,
   "metadata": {},
   "outputs": [],
   "source": [
    "# загружаем библиотеки\n",
    "import pandas as pd\n",
    "\n",
    "from sklearn.model_selection import train_test_split\n",
    "from sklearn.linear_model import LinearRegression\n",
    "from sklearn.metrics import mean_absolute_error"
   ]
  },
  {
   "cell_type": "code",
   "execution_count": 2,
   "metadata": {},
   "outputs": [],
   "source": [
    "#импортируем данные\n",
    "data = pd.read_excel('data/data_ford_price.xlsx')"
   ]
  },
  {
   "cell_type": "code",
   "execution_count": 3,
   "metadata": {},
   "outputs": [],
   "source": [
    "# выполняеем предобработку данных, удаляем пропуски, отделяем результирующий признак от остальных\n",
    "data = data[['price','year', 'cylinders', 'odometer', 'lat', 'long', 'weather']]\n",
    "data.dropna(inplace = True)\n",
    "y = data['price']\n",
    "x = data.drop(columns='price')"
   ]
  },
  {
   "cell_type": "code",
   "execution_count": 4,
   "metadata": {},
   "outputs": [],
   "source": [
    "# делим датасет на тренировочную и тестовую выборки\n",
    "X_train, X_test, y_train, y_test = train_test_split(x, y, test_size=0.3, random_state=42)"
   ]
  },
  {
   "cell_type": "markdown",
   "metadata": {},
   "source": [
    "### **Метод рекурсивного исключения признаков (RFE)**"
   ]
  },
  {
   "cell_type": "code",
   "execution_count": 5,
   "metadata": {},
   "outputs": [],
   "source": [
    "from sklearn.feature_selection import RFE"
   ]
  },
  {
   "cell_type": "code",
   "execution_count": 7,
   "metadata": {},
   "outputs": [
    {
     "data": {
      "text/plain": [
       "array(['year', 'cylinders', 'lat'], dtype=object)"
      ]
     },
     "execution_count": 7,
     "metadata": {},
     "output_type": "execute_result"
    }
   ],
   "source": [
    "# выделим три наиболее значимых признака:\n",
    "estimator = LinearRegression()\n",
    "selector = RFE(estimator, n_features_to_select=3, step=1)\n",
    "selector = selector.fit(X_train, y_train)\n",
    " \n",
    "selector.get_feature_names_out()"
   ]
  },
  {
   "cell_type": "code",
   "execution_count": 8,
   "metadata": {},
   "outputs": [
    {
     "name": "stdout",
     "output_type": "stream",
     "text": [
      "MAE: 5206.677\n"
     ]
    }
   ],
   "source": [
    "# оставим только нужные признаки\n",
    "x = data[['year', 'cylinders', 'lat']]\n",
    "\n",
    "# делим датасет на тренировочную и тестовую выборки с учётом нового признака\n",
    "X_train, X_test, y_train, y_test = train_test_split(x, y, test_size=0.3, random_state=42)\n",
    "\n",
    "# обучаем модель\n",
    "model = LinearRegression()\n",
    "model.fit(X_train, y_train)\n",
    "y_predicted = model.predict(X_test)\n",
    "\n",
    "# оцениваем метрики\n",
    "mae = mean_absolute_error(y_test, y_predicted)\n",
    "print('MAE: %.3f' % mae)"
   ]
  },
  {
   "cell_type": "markdown",
   "metadata": {},
   "source": [
    "### **Выбор k лучших переменных: SelectKBest**"
   ]
  },
  {
   "cell_type": "code",
   "execution_count": 9,
   "metadata": {},
   "outputs": [],
   "source": [
    "from sklearn.feature_selection import SelectKBest, f_regression"
   ]
  },
  {
   "cell_type": "code",
   "execution_count": 12,
   "metadata": {},
   "outputs": [
    {
     "data": {
      "text/plain": [
       "array(['year', 'cylinders', 'odometer'], dtype=object)"
      ]
     },
     "execution_count": 12,
     "metadata": {},
     "output_type": "execute_result"
    }
   ],
   "source": [
    "data = data[['price','year', 'cylinders', 'odometer', 'lat', 'long', 'weather']]\n",
    "data.dropna(inplace = True)\n",
    "y = data['price']\n",
    "x = data.drop(columns='price')\n",
    "\n",
    "# делим датасет на тренировочную и тестовую выборки\n",
    "X_train, X_test, y_train, y_test = train_test_split(x, y, test_size=0.3, random_state=42)\n",
    "\n",
    "# выбираем оптимальные признаки\n",
    "selector = SelectKBest(f_regression, k=3)\n",
    "selector.fit(X_train, y_train)\n",
    " \n",
    "selector.get_feature_names_out()"
   ]
  },
  {
   "cell_type": "code",
   "execution_count": 13,
   "metadata": {},
   "outputs": [
    {
     "name": "stdout",
     "output_type": "stream",
     "text": [
      "MAE: 4800.916\n"
     ]
    }
   ],
   "source": [
    "# оставляем только нужные признаки\n",
    "x = data[['year', 'cylinders', 'odometer']]\n",
    "\n",
    "# делим датасет на тренировочную и тестовую выборки с учётом нового признака\n",
    "X_train, X_test, y_train, y_test = train_test_split(x, y, test_size=0.3, random_state=42)\n",
    "\n",
    "# обучаем модель\n",
    "model = LinearRegression()\n",
    "model.fit(X_train, y_train)\n",
    "y_predicted = model.predict(X_test)\n",
    "\n",
    "# оцениваем метрику\n",
    "mae = mean_absolute_error(y_test, y_predicted)\n",
    "print('MAE: %.3f' % mae)"
   ]
  },
  {
   "cell_type": "markdown",
   "metadata": {},
   "source": [
    "**Вывод:**\n",
    "\n",
    "**В ходе исследования было выявлено, что метод SelectKBest показал лучший результат на тестовой выборке. Он позволил достичь более низкого значения метрики MAE по сравнению с RFE. Отличие в результатах методов заключалось только в одном признаке: SelectKBest отметил 'odometer' на третьем месте, в то время как RFE выбрал 'lat'. Дальнейший анализ позволил сделать вывод о том, что пробег ('odometer') оказывает значительно большее влияние на цену автомобиля, чем координаты расположения ('lat'). Это подтверждается средней абсолютной ошибкой модели регрессии, обученной на первых трех столбцах, выбранных методом RFE, которая составила 5206.677. В то же время, модель, обученная на вторых трех столбцах, выбранных методом SelectKBest, показала меньшую среднюю абсолютную ошибку - 4800.916. Таким образом, на основании полученных результатов можно сделать вывод, что метод отбора признаков SelectKBest демонстрирует лучшие результаты на тестовой выборке. Меньшая средняя абсолютная ошибка указывает на более точное предсказание цены автомобиля. Это свидетельствует о том, что выбранные признаки, определенные методом SelectKBest, являются более информативными и релевантными для построения модели регрессии.**"
   ]
  }
 ],
 "metadata": {
  "kernelspec": {
   "display_name": "Python 3",
   "language": "python",
   "name": "python3"
  },
  "language_info": {
   "codemirror_mode": {
    "name": "ipython",
    "version": 3
   },
   "file_extension": ".py",
   "mimetype": "text/x-python",
   "name": "python",
   "nbconvert_exporter": "python",
   "pygments_lexer": "ipython3",
   "version": "3.11.3"
  },
  "orig_nbformat": 4
 },
 "nbformat": 4,
 "nbformat_minor": 2
}
