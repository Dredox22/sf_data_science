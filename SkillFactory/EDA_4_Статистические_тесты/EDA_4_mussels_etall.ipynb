{
  "cells": [
    {
      "cell_type": "code",
      "execution_count": 1,
      "metadata": {
        "id": "u1qRGDeFZFfg"
      },
      "outputs": [],
      "source": [
        "import pandas as pd\n",
        "from scipy.stats import ttest_ind\n",
        "from scipy.stats import shapiro\n",
        "\n",
        "import seaborn as sns\n",
        "import matplotlib.pyplot as plt\n",
        "%matplotlib inline \n",
        "\n"
      ]
    },
    {
      "cell_type": "code",
      "execution_count": 2,
      "metadata": {
        "id": "MAjdaK4tZFfl"
      },
      "outputs": [],
      "source": [
        "# Данные из модуля по мидиям, данные разной длинны - добавляем None:\n",
        "petersburg = [0.0974, 0.1352, 0.0817, 0.1016, 0.0968, 0.1064, 0.105, None]\n",
        "magadan = [0.1033, 0.0915, 0.0781, 0.0685, 0.0677, 0.0697, 0.0764, 0.0689]"
      ]
    },
    {
      "cell_type": "markdown",
      "metadata": {
        "id": "yJr1EKYwZFfm"
      },
      "source": [
        "### Задание 1 <br>\n",
        "Данные объединены в DataFrame - 5 баллов"
      ]
    },
    {
      "cell_type": "code",
      "execution_count": 3,
      "metadata": {
        "id": "PMmF6T27ZFfo"
      },
      "outputs": [],
      "source": [
        "mussels_df = pd.DataFrame({\n",
        "    'petersburg': petersburg,\n",
        "    'magadan': magadan\n",
        "})"
      ]
    },
    {
      "cell_type": "code",
      "execution_count": 4,
      "metadata": {
        "id": "Aa0_2JfZZFfp",
        "outputId": "573c7ec4-9d97-4e32-83d4-4ef4fae26f60",
        "colab": {
          "base_uri": "https://localhost:8080/",
          "height": 143
        }
      },
      "outputs": [
        {
          "output_type": "execute_result",
          "data": {
            "text/plain": [
              "   petersburg  magadan\n",
              "0      0.0974   0.1033\n",
              "1      0.1352   0.0915\n",
              "2      0.0817   0.0781"
            ],
            "text/html": [
              "\n",
              "  <div id=\"df-9ca50060-953e-42f1-877a-8f03d82757fd\">\n",
              "    <div class=\"colab-df-container\">\n",
              "      <div>\n",
              "<style scoped>\n",
              "    .dataframe tbody tr th:only-of-type {\n",
              "        vertical-align: middle;\n",
              "    }\n",
              "\n",
              "    .dataframe tbody tr th {\n",
              "        vertical-align: top;\n",
              "    }\n",
              "\n",
              "    .dataframe thead th {\n",
              "        text-align: right;\n",
              "    }\n",
              "</style>\n",
              "<table border=\"1\" class=\"dataframe\">\n",
              "  <thead>\n",
              "    <tr style=\"text-align: right;\">\n",
              "      <th></th>\n",
              "      <th>petersburg</th>\n",
              "      <th>magadan</th>\n",
              "    </tr>\n",
              "  </thead>\n",
              "  <tbody>\n",
              "    <tr>\n",
              "      <th>0</th>\n",
              "      <td>0.0974</td>\n",
              "      <td>0.1033</td>\n",
              "    </tr>\n",
              "    <tr>\n",
              "      <th>1</th>\n",
              "      <td>0.1352</td>\n",
              "      <td>0.0915</td>\n",
              "    </tr>\n",
              "    <tr>\n",
              "      <th>2</th>\n",
              "      <td>0.0817</td>\n",
              "      <td>0.0781</td>\n",
              "    </tr>\n",
              "  </tbody>\n",
              "</table>\n",
              "</div>\n",
              "      <button class=\"colab-df-convert\" onclick=\"convertToInteractive('df-9ca50060-953e-42f1-877a-8f03d82757fd')\"\n",
              "              title=\"Convert this dataframe to an interactive table.\"\n",
              "              style=\"display:none;\">\n",
              "        \n",
              "  <svg xmlns=\"http://www.w3.org/2000/svg\" height=\"24px\"viewBox=\"0 0 24 24\"\n",
              "       width=\"24px\">\n",
              "    <path d=\"M0 0h24v24H0V0z\" fill=\"none\"/>\n",
              "    <path d=\"M18.56 5.44l.94 2.06.94-2.06 2.06-.94-2.06-.94-.94-2.06-.94 2.06-2.06.94zm-11 1L8.5 8.5l.94-2.06 2.06-.94-2.06-.94L8.5 2.5l-.94 2.06-2.06.94zm10 10l.94 2.06.94-2.06 2.06-.94-2.06-.94-.94-2.06-.94 2.06-2.06.94z\"/><path d=\"M17.41 7.96l-1.37-1.37c-.4-.4-.92-.59-1.43-.59-.52 0-1.04.2-1.43.59L10.3 9.45l-7.72 7.72c-.78.78-.78 2.05 0 2.83L4 21.41c.39.39.9.59 1.41.59.51 0 1.02-.2 1.41-.59l7.78-7.78 2.81-2.81c.8-.78.8-2.07 0-2.86zM5.41 20L4 18.59l7.72-7.72 1.47 1.35L5.41 20z\"/>\n",
              "  </svg>\n",
              "      </button>\n",
              "      \n",
              "  <style>\n",
              "    .colab-df-container {\n",
              "      display:flex;\n",
              "      flex-wrap:wrap;\n",
              "      gap: 12px;\n",
              "    }\n",
              "\n",
              "    .colab-df-convert {\n",
              "      background-color: #E8F0FE;\n",
              "      border: none;\n",
              "      border-radius: 50%;\n",
              "      cursor: pointer;\n",
              "      display: none;\n",
              "      fill: #1967D2;\n",
              "      height: 32px;\n",
              "      padding: 0 0 0 0;\n",
              "      width: 32px;\n",
              "    }\n",
              "\n",
              "    .colab-df-convert:hover {\n",
              "      background-color: #E2EBFA;\n",
              "      box-shadow: 0px 1px 2px rgba(60, 64, 67, 0.3), 0px 1px 3px 1px rgba(60, 64, 67, 0.15);\n",
              "      fill: #174EA6;\n",
              "    }\n",
              "\n",
              "    [theme=dark] .colab-df-convert {\n",
              "      background-color: #3B4455;\n",
              "      fill: #D2E3FC;\n",
              "    }\n",
              "\n",
              "    [theme=dark] .colab-df-convert:hover {\n",
              "      background-color: #434B5C;\n",
              "      box-shadow: 0px 1px 3px 1px rgba(0, 0, 0, 0.15);\n",
              "      filter: drop-shadow(0px 1px 2px rgba(0, 0, 0, 0.3));\n",
              "      fill: #FFFFFF;\n",
              "    }\n",
              "  </style>\n",
              "\n",
              "      <script>\n",
              "        const buttonEl =\n",
              "          document.querySelector('#df-9ca50060-953e-42f1-877a-8f03d82757fd button.colab-df-convert');\n",
              "        buttonEl.style.display =\n",
              "          google.colab.kernel.accessAllowed ? 'block' : 'none';\n",
              "\n",
              "        async function convertToInteractive(key) {\n",
              "          const element = document.querySelector('#df-9ca50060-953e-42f1-877a-8f03d82757fd');\n",
              "          const dataTable =\n",
              "            await google.colab.kernel.invokeFunction('convertToInteractive',\n",
              "                                                     [key], {});\n",
              "          if (!dataTable) return;\n",
              "\n",
              "          const docLinkHtml = 'Like what you see? Visit the ' +\n",
              "            '<a target=\"_blank\" href=https://colab.research.google.com/notebooks/data_table.ipynb>data table notebook</a>'\n",
              "            + ' to learn more about interactive tables.';\n",
              "          element.innerHTML = '';\n",
              "          dataTable['output_type'] = 'display_data';\n",
              "          await google.colab.output.renderOutput(dataTable, element);\n",
              "          const docLink = document.createElement('div');\n",
              "          docLink.innerHTML = docLinkHtml;\n",
              "          element.appendChild(docLink);\n",
              "        }\n",
              "      </script>\n",
              "    </div>\n",
              "  </div>\n",
              "  "
            ]
          },
          "metadata": {},
          "execution_count": 4
        }
      ],
      "source": [
        "mussels_df.head(3)"
      ]
    },
    {
      "cell_type": "code",
      "execution_count": 5,
      "metadata": {
        "id": "DSNk-IwxZFfr"
      },
      "outputs": [],
      "source": [
        "# заменим известное нам пустое значение медианным показателем\n",
        "mussels_df = mussels_df.fillna(mussels_df['petersburg'].median())"
      ]
    },
    {
      "cell_type": "markdown",
      "metadata": {
        "id": "xwIxovV_ZFfr"
      },
      "source": [
        "### Задание 2 <br>\n",
        "Проведён тест на корреляцию - 5 баллов"
      ]
    },
    {
      "cell_type": "code",
      "execution_count": 6,
      "metadata": {
        "id": "kX7CKl8YZFfs",
        "outputId": "35ad1c4f-2ca5-4fc6-a93e-01df4b295f11",
        "colab": {
          "base_uri": "https://localhost:8080/",
          "height": 466
        }
      },
      "outputs": [
        {
          "output_type": "execute_result",
          "data": {
            "text/plain": [
              "<Axes: xlabel='magadan', ylabel='petersburg'>"
            ]
          },
          "metadata": {},
          "execution_count": 6
        },
        {
          "output_type": "display_data",
          "data": {
            "text/plain": [
              "<Figure size 640x480 with 1 Axes>"
            ],
            "image/png": "[encoded data removed]"
          },
          "metadata": {}
        }
      ],
      "source": [
        "# для начала посмотрим на графическое представление\n",
        "sns.scatterplot(data=mussels_df, x='magadan', y='petersburg')"
      ]
    },
    {
      "cell_type": "markdown",
      "metadata": {
        "id": "UjRNvIY9ZFft"
      },
      "source": [
        "Вывод: Судя по графику корреляция будет незначительной"
      ]
    },
    {
      "cell_type": "code",
      "execution_count": 7,
      "metadata": {
        "id": "yZ62OClVZFft",
        "outputId": "39a7ef48-86ae-4f00-f051-39e0c8754c20",
        "colab": {
          "base_uri": "https://localhost:8080/",
          "height": 735
        }
      },
      "outputs": [
        {
          "output_type": "execute_result",
          "data": {
            "text/plain": [
              "<matplotlib.legend.Legend at 0x7f8b1180f700>"
            ]
          },
          "metadata": {},
          "execution_count": 7
        },
        {
          "output_type": "display_data",
          "data": {
            "text/plain": [
              "<Figure size 1000x800 with 1 Axes>"
            ],
            "image/png": "[encoded data removed]"
          },
          "metadata": {}
        }
      ],
      "source": [
        "fig, (ax1) = plt.subplots(ncols=1, figsize=(10, 8))\n",
        "ax1.set_title('Распределение данных')\n",
        "\n",
        "sns.kdeplot(mussels_df['petersburg'], ax=ax1, label ='Петербург')\n",
        "sns.kdeplot(mussels_df['magadan'], ax=ax1, label ='Магадан')\n",
        "\n",
        "plt.legend()"
      ]
    },
    {
      "cell_type": "code",
      "execution_count": 8,
      "metadata": {
        "id": "lz81e-bkZFfu",
        "outputId": "8c7eb93b-1dfa-4e0d-8172-8e16fb561a2a",
        "colab": {
          "base_uri": "https://localhost:8080/"
        }
      },
      "outputs": [
        {
          "output_type": "stream",
          "name": "stdout",
          "text": [
            "Расчет показателя корреляции Пирсона составляет: 0.257\n"
          ]
        }
      ],
      "source": [
        "mussels_corr = mussels_df[['petersburg', 'magadan']].corr()['petersburg'][1]\n",
        "print('Расчет показателя корреляции Пирсона составляет: {0:.3f}'.format(mussels_corr))"
      ]
    },
    {
      "cell_type": "markdown",
      "metadata": {
        "id": "j_lf57NPZFfv"
      },
      "source": [
        "Вывод: как и ожидалось (с учетом графиков) кореляция низкая, связь данных очень слабая."
      ]
    },
    {
      "cell_type": "markdown",
      "metadata": {
        "id": "mjdBeoyfZFfv"
      },
      "source": [
        "### Задание 3 <br>\n",
        "Обоснован выбор теста на корреляцию - 7 баллов"
      ]
    },
    {
      "cell_type": "markdown",
      "metadata": {
        "id": "AvjDXhTjZFfw"
      },
      "source": [
        "Для расчёта уровня корреляции выбрана корреляция Пирсона (она стоит по умолчанию в методе .corr() )\n",
        "\n",
        "Выбор обусловлен следующими фактами:\n",
        "1. Опираясь на графики - распределение нормальное, с небольшим смещением в право\n",
        "2. данные не являются категориальными\n",
        "3. Опираясь на графики - по графику выбросы отсутствуют"
      ]
    },
    {
      "cell_type": "markdown",
      "metadata": {
        "id": "-KnAe8-XZFfw"
      },
      "source": [
        "### Задание 4 <br>\n",
        "Сделан правильный вывод по гипотезе - 3 балла\n",
        "\n",
        "<span style=\"color:green\"><b>Ответьте на вопрос: Какова разница в среднем размере мидии в зависимости от города-производителя</b></span> <br><br>\n"
      ]
    },
    {
      "cell_type": "markdown",
      "metadata": {
        "id": "ivTqFzRGZFfx"
      },
      "source": [
        "Т.к. нас интересует средний размер мидии, тогда :\n",
        "1. Альтернативная гипотеза: Существует разница между средним размером раковины мидий в Петербурге и Магадане.\n",
        "2. Нулевая гипотеза: Средний размер раковины мидии в Петербурге и Магадане одинаковый. \n",
        "\n",
        "Выбор нулевой гипотезы обусловлено тем, что зависимости должны быть уравнены, т.к. по определению нулевая гипотеза предполагает отсутствие разницы между параметрами или распределениями выборки. Так как нет задачи определить какие раковины меньше, а какие больше, то мы ставим гипотезу по принципу \"Двусторонний тест\"."
      ]
    },
    {
      "cell_type": "markdown",
      "metadata": {
        "id": "GMDtogfkZFfx"
      },
      "source": [
        "Ответим на вопрос и рассчитаем разницу средних величин раковины мидии из Петербурга и Магадана"
      ]
    },
    {
      "cell_type": "code",
      "execution_count": 9,
      "metadata": {
        "id": "BL_WE9qAZFfx",
        "outputId": "3185ea3e-d7dc-47b7-b65a-7d6a8338bc64",
        "colab": {
          "base_uri": "https://localhost:8080/"
        }
      },
      "outputs": [
        {
          "output_type": "stream",
          "name": "stdout",
          "text": [
            "Разница между средним размером равокины мидии из Петербурга и Магадана составляет: 0.025\n"
          ]
        }
      ],
      "source": [
        "mussels_delta = abs(mussels_df['petersburg'].mean() - mussels_df['magadan'].mean())\n",
        "print('Разница между средним размером равокины мидии из Петербурга и Магадана составляет: {0:.3f}'.format(mussels_delta))"
      ]
    },
    {
      "cell_type": "markdown",
      "metadata": {
        "id": "sLPKQI-3ZFfy"
      },
      "source": [
        "### Задание 5 <br>\n",
        "Проведён тест на сравнение выборок - 7 баллов"
      ]
    },
    {
      "cell_type": "code",
      "execution_count": 12,
      "metadata": {
        "id": "wFx6f0KmZFfy"
      },
      "outputs": [],
      "source": [
        "# устанавливаем основные параметры, в том числе стандартный размер alpha\n",
        "\n",
        "H0 = 'Средний размер раковины мидии в Петербурге и Магадане одинаковый'\n",
        "Ha = 'Существует разница между средним размером раковины мидий в Петербурге и Магадане'\n",
        "\n",
        "alpha = 0.05"
      ]
    },
    {
      "cell_type": "code",
      "execution_count": 13,
      "metadata": {
        "id": "iGDZnl0gZFfy",
        "outputId": "8d24a73a-5303-4de9-c37d-0d9dd422a03f",
        "colab": {
          "base_uri": "https://localhost:8080/"
        }
      },
      "outputs": [
        {
          "output_type": "stream",
          "name": "stdout",
          "text": [
            "\n",
            "*** Результаты независимого T-теста ***\n",
            "0.0 <= 0.05. Мы отвергаем нулевую гипотезу. Существует разница между средним размером раковины мидий в Петербурге и Магадане\n"
          ]
        }
      ],
      "source": [
        "def t_test(df):\n",
        "    print('\\n' + \"*** Результаты независимого T-теста ***\")\n",
        "    test_results = ttest_ind(df['petersburg'], df['magadan'], equal_var=True)\n",
        "\n",
        "    p = round(test_results[1],2)\n",
        "\n",
        "    if p>alpha:\n",
        "        print(f\"{p} > {alpha}. Мы не можем отвергнуть нулевую гипотезу. {H0}\")\n",
        "    else:\n",
        "        print(f\"{p} <= {alpha}. Мы отвергаем нулевую гипотезу. {Ha}\")\n",
        "\n",
        "t_test(mussels_df)"
      ]
    },
    {
      "cell_type": "markdown",
      "metadata": {
        "id": "vP0XqQ5jZFfz"
      },
      "source": [
        "### Задание 6 <br>\n",
        "Обоснован выбор теста на сравнение - 7 баллов"
      ]
    },
    {
      "cell_type": "markdown",
      "metadata": {
        "id": "yNEGAt7oZFfz"
      },
      "source": [
        "Выбор теста обусловлен следующим алгоритмом:\n",
        "\n",
        "<left> <img src = https://lms.skillfactory.ru/assets/courseware/v1/69e3bc927ae293c1ad78ad4c1fe30ed4/asset-v1:SkillFactory+DSPR-2.0+14JULY2021+type@asset+block/dst-eda-4-10.png alt=\"drawing\" style=\"width:800px;\">"
      ]
    },
    {
      "cell_type": "markdown",
      "metadata": {
        "id": "kg_7CFgpZFfz"
      },
      "source": [
        "а именно:"
      ]
    },
    {
      "cell_type": "code",
      "execution_count": 14,
      "metadata": {
        "id": "XzgfDiXkZFfz",
        "outputId": "0c9ffd08-f1a5-4351-c4cc-fc8ed1715083",
        "colab": {
          "base_uri": "https://localhost:8080/"
        }
      },
      "outputs": [
        {
          "output_type": "stream",
          "name": "stdout",
          "text": [
            "Данные распределены нормально\n"
          ]
        }
      ],
      "source": [
        "_, p = shapiro(mussels_df)\n",
        "print(('Данные не распределены нормально', 'Данные распределены нормально')[p > alpha])"
      ]
    },
    {
      "cell_type": "markdown",
      "metadata": {
        "id": "KDthNkg5ZFfz"
      },
      "source": [
        "<style>\n",
        "  p {\n",
        "  font-family: Verdana, Arial, Helvetica, sans-serif; \n",
        "  font-size: 10pt; /* Размер шрифта в пунктах */ \n",
        "  }\n",
        "</style>\n",
        "\n",
        "1.Как видим выше данне распределены нормально<br>\n",
        "2.Тип количественный (не категориальный)<br>\n",
        "3.В сравнении 2 группы<br>\n",
        "4.Объектов в выборке менее 30\n",
        "\n",
        "Следовательно оптимальный инструмент - Т-тест"
      ]
    },
    {
      "cell_type": "markdown",
      "metadata": {
        "id": "p1VPy4yNZFf0"
      },
      "source": [
        "### Задание 7 <br>\n",
        "Сделан правильный вывод по гипотезе - 3 балла"
      ]
    },
    {
      "cell_type": "markdown",
      "metadata": {
        "id": "H7o1rUxOZFf0"
      },
      "source": [
        "Выводы: \n",
        "1. Согласно произведенных расчётов, низкий уровень корреляции указывает на отсутствие взаимосвязи между размером раковины мидий в Санкт-Петербурге и Магадане;\n",
        "2. Мы подтвердили гипотезу, что существует разница между средним размером раковины мидий в Петербурге и Магадане;\n",
        "3. Гипотеза является истинной т.к. **P-value** (вероятность обнаружения наблюдаемых результатов, когда нулевая гипотеза ($H_0$) верна.) соответствует нулю.\n"
      ]
    }
  ],
  "metadata": {
    "kernelspec": {
      "display_name": "Python 3",
      "language": "python",
      "name": "python3"
    },
    "language_info": {
      "codemirror_mode": {
        "name": "ipython",
        "version": 3
      },
      "file_extension": ".py",
      "mimetype": "text/x-python",
      "name": "python",
      "nbconvert_exporter": "python",
      "pygments_lexer": "ipython3",
      "version": "3.11.0"
    },
    "orig_nbformat": 4,
    "vscode": {
      "interpreter": {
        "hash": "4646517596322d2e2271aba8c0bbf3a559574584862abd7aab31f06154ce1913"
      }
    },
    "colab": {
      "provenance": []
    }
  },
  "nbformat": 4,
  "nbformat_minor": 0
}