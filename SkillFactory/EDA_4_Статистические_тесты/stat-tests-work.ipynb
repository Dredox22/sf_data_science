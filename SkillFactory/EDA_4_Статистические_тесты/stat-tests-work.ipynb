{
 "cells": [
  {
   "cell_type": "markdown",
   "metadata": {
    "id": "OHVffejibt2_"
   },
   "source": [
    "# Финальное задание модуля EDA-4 #\n",
    "\n",
    "## Популярные статистические тесты в Python ##\n",
    "\n",
    "Описание задания приведено в файле [README.md](README.md)"
   ]
  },
  {
   "cell_type": "code",
   "execution_count": 40,
   "metadata": {
    "executionInfo": {
     "elapsed": 11,
     "status": "ok",
     "timestamp": 1642089015807,
     "user": {
      "displayName": "Ketrin Trofimova",
      "photoUrl": "https://lh3.googleusercontent.com/a/default-user=s64",
      "userId": "05400058012601189465"
     },
     "user_tz": -180
    },
    "id": "KduVFzA8a6FL"
   },
   "outputs": [],
   "source": [
    "import pandas as pd\n",
    "import matplotlib.pyplot as plt\n",
    "from scipy.stats import shapiro, normaltest\n",
    "from scipy.stats import pearsonr, spearmanr, kendalltau\n",
    "from scipy.stats import ttest_ind, mannwhitneyu, f_oneway, wilcoxon\n",
    "from scipy.stats import probplot"
   ]
  },
  {
   "cell_type": "markdown",
   "metadata": {
    "id": "-vBWXginfhcC"
   },
   "source": [
    "### Исходные массивы данных ###"
   ]
  },
  {
   "cell_type": "code",
   "execution_count": 41,
   "metadata": {
    "id": "g_Ew2HTZfyOF"
   },
   "outputs": [],
   "source": [
    "petersburg = [0.0974, 0.1352, 0.0817, 0.1016, 0.0968, 0.1064, 0.105]\n",
    "magadan = [0.1033, 0.0915, 0.0781, 0.0685, 0.0677, 0.0697, 0.0764, 0.0689]"
   ]
  },
  {
   "cell_type": "markdown",
   "metadata": {},
   "source": [
    "### 1) Объединение двух массивов в DataFrame ###"
   ]
  },
  {
   "cell_type": "code",
   "execution_count": 42,
   "metadata": {},
   "outputs": [
    {
     "data": {
      "text/html": [
       "<div>\n",
       "<style scoped>\n",
       "    .dataframe tbody tr th:only-of-type {\n",
       "        vertical-align: middle;\n",
       "    }\n",
       "\n",
       "    .dataframe tbody tr th {\n",
       "        vertical-align: top;\n",
       "    }\n",
       "\n",
       "    .dataframe thead th {\n",
       "        text-align: right;\n",
       "    }\n",
       "</style>\n",
       "<table border=\"1\" class=\"dataframe\">\n",
       "  <thead>\n",
       "    <tr style=\"text-align: right;\">\n",
       "      <th></th>\n",
       "      <th>petersburg</th>\n",
       "      <th>magadan</th>\n",
       "    </tr>\n",
       "  </thead>\n",
       "  <tbody>\n",
       "    <tr>\n",
       "      <th>0</th>\n",
       "      <td>0.0974</td>\n",
       "      <td>0.1033</td>\n",
       "    </tr>\n",
       "    <tr>\n",
       "      <th>1</th>\n",
       "      <td>0.1352</td>\n",
       "      <td>0.0915</td>\n",
       "    </tr>\n",
       "    <tr>\n",
       "      <th>2</th>\n",
       "      <td>0.0817</td>\n",
       "      <td>0.0781</td>\n",
       "    </tr>\n",
       "    <tr>\n",
       "      <th>3</th>\n",
       "      <td>0.1016</td>\n",
       "      <td>0.0685</td>\n",
       "    </tr>\n",
       "    <tr>\n",
       "      <th>4</th>\n",
       "      <td>0.0968</td>\n",
       "      <td>0.0677</td>\n",
       "    </tr>\n",
       "    <tr>\n",
       "      <th>5</th>\n",
       "      <td>0.1064</td>\n",
       "      <td>0.0697</td>\n",
       "    </tr>\n",
       "    <tr>\n",
       "      <th>6</th>\n",
       "      <td>0.1050</td>\n",
       "      <td>0.0764</td>\n",
       "    </tr>\n",
       "    <tr>\n",
       "      <th>7</th>\n",
       "      <td>NaN</td>\n",
       "      <td>0.0689</td>\n",
       "    </tr>\n",
       "  </tbody>\n",
       "</table>\n",
       "</div>"
      ],
      "text/plain": [
       "   petersburg  magadan\n",
       "0      0.0974   0.1033\n",
       "1      0.1352   0.0915\n",
       "2      0.0817   0.0781\n",
       "3      0.1016   0.0685\n",
       "4      0.0968   0.0677\n",
       "5      0.1064   0.0697\n",
       "6      0.1050   0.0764\n",
       "7         NaN   0.0689"
      ]
     },
     "metadata": {},
     "output_type": "display_data"
    },
    {
     "name": "stdout",
     "output_type": "stream",
     "text": [
      "<class 'pandas.core.frame.DataFrame'>\n",
      "RangeIndex: 8 entries, 0 to 7\n",
      "Data columns (total 2 columns):\n",
      " #   Column      Non-Null Count  Dtype  \n",
      "---  ------      --------------  -----  \n",
      " 0   petersburg  7 non-null      float64\n",
      " 1   magadan     8 non-null      float64\n",
      "dtypes: float64(2)\n",
      "memory usage: 256.0 bytes\n"
     ]
    },
    {
     "data": {
      "text/plain": [
       "None"
      ]
     },
     "metadata": {},
     "output_type": "display_data"
    }
   ],
   "source": [
    "petersburg_ser = pd.Series(data=petersburg, dtype=float, name='petersburg')\n",
    "magadan_ser = pd.Series(data=magadan, dtype=float, name='magadan')\n",
    "main_df = pd.DataFrame(data={'petersburg': petersburg_ser, 'magadan': magadan_ser})\n",
    "display(main_df)\n",
    "display(main_df.info())"
   ]
  },
  {
   "cell_type": "markdown",
   "metadata": {},
   "source": [
    "В данных по Санкт-Петербургу не хватает данных. Можно в отдельном датафрейме заполнить пустые ячейки медианным значением."
   ]
  },
  {
   "cell_type": "code",
   "execution_count": 43,
   "metadata": {},
   "outputs": [
    {
     "data": {
      "text/html": [
       "<div>\n",
       "<style scoped>\n",
       "    .dataframe tbody tr th:only-of-type {\n",
       "        vertical-align: middle;\n",
       "    }\n",
       "\n",
       "    .dataframe tbody tr th {\n",
       "        vertical-align: top;\n",
       "    }\n",
       "\n",
       "    .dataframe thead th {\n",
       "        text-align: right;\n",
       "    }\n",
       "</style>\n",
       "<table border=\"1\" class=\"dataframe\">\n",
       "  <thead>\n",
       "    <tr style=\"text-align: right;\">\n",
       "      <th></th>\n",
       "      <th>petersburg</th>\n",
       "      <th>magadan</th>\n",
       "    </tr>\n",
       "  </thead>\n",
       "  <tbody>\n",
       "    <tr>\n",
       "      <th>0</th>\n",
       "      <td>0.0974</td>\n",
       "      <td>0.1033</td>\n",
       "    </tr>\n",
       "    <tr>\n",
       "      <th>1</th>\n",
       "      <td>0.1352</td>\n",
       "      <td>0.0915</td>\n",
       "    </tr>\n",
       "    <tr>\n",
       "      <th>2</th>\n",
       "      <td>0.0817</td>\n",
       "      <td>0.0781</td>\n",
       "    </tr>\n",
       "    <tr>\n",
       "      <th>3</th>\n",
       "      <td>0.1016</td>\n",
       "      <td>0.0685</td>\n",
       "    </tr>\n",
       "    <tr>\n",
       "      <th>4</th>\n",
       "      <td>0.0968</td>\n",
       "      <td>0.0677</td>\n",
       "    </tr>\n",
       "    <tr>\n",
       "      <th>5</th>\n",
       "      <td>0.1064</td>\n",
       "      <td>0.0697</td>\n",
       "    </tr>\n",
       "    <tr>\n",
       "      <th>6</th>\n",
       "      <td>0.1050</td>\n",
       "      <td>0.0764</td>\n",
       "    </tr>\n",
       "    <tr>\n",
       "      <th>7</th>\n",
       "      <td>0.1016</td>\n",
       "      <td>0.0689</td>\n",
       "    </tr>\n",
       "  </tbody>\n",
       "</table>\n",
       "</div>"
      ],
      "text/plain": [
       "   petersburg  magadan\n",
       "0      0.0974   0.1033\n",
       "1      0.1352   0.0915\n",
       "2      0.0817   0.0781\n",
       "3      0.1016   0.0685\n",
       "4      0.0968   0.0677\n",
       "5      0.1064   0.0697\n",
       "6      0.1050   0.0764\n",
       "7      0.1016   0.0689"
      ]
     },
     "metadata": {},
     "output_type": "display_data"
    }
   ],
   "source": [
    "full_df = main_df.copy()\n",
    "full_df['petersburg'].fillna(round(full_df['petersburg'].median(), 4), inplace=True)\n",
    "display(full_df)"
   ]
  },
  {
   "cell_type": "markdown",
   "metadata": {},
   "source": [
    "### 2) Тесты на нормальное распределение ##\n",
    "\n",
    "Для эксперимента можно провести как тест Шапиро-Уилка, так и тест Д'Агостино. Здесь и далее уровень значимости устанавливается $\\alpha=0,10$\n",
    "\n",
    "Итак, тест Шапиро-Уилка:"
   ]
  },
  {
   "cell_type": "code",
   "execution_count": 44,
   "metadata": {},
   "outputs": [
    {
     "name": "stdout",
     "output_type": "stream",
     "text": [
      "Санкт-Перербург: p-value = 0.242, значит распределение нормальное\n",
      "Магадан: p-value = 0.036, значит распределение не является нормальным\n"
     ]
    }
   ],
   "source": [
    "def shapiro_test(data_dict):\n",
    "    H0 = 'распределение нормальное'\n",
    "    H1 = 'распределение не является нормальным'\n",
    "    alpha = 0.1\n",
    "    for city_ in data_dict.keys():\n",
    "        stat, p_val = shapiro(data_dict[city_])\n",
    "        if p_val > alpha:\n",
    "            print(f'{city_}: p-value = {round(p_val, 3)}, значит {H0}')\n",
    "        else:\n",
    "            print(f'{city_}: p-value = {round(p_val, 3)}, значит {H1}')\n",
    "\n",
    "shapiro_test({'Санкт-Перербург': petersburg, 'Магадан': magadan})"
   ]
  },
  {
   "cell_type": "markdown",
   "metadata": {},
   "source": [
    "Тест Д'Агостино требует минимум 8 измерений, поэтому для Санкт-Петербурга можно попробовать данные с добавленным медианным значением из **`full_df`** в качестве недостающего.\n",
    "\n",
    "Для наглядности можно дополнительно посмотреть, насколько результат может исказиться при такой добавке:"
   ]
  },
  {
   "cell_type": "code",
   "execution_count": 45,
   "metadata": {},
   "outputs": [
    {
     "data": {
      "image/png": "[encoded data removed]",
      "text/plain": [
       "<Figure size 720x576 with 1 Axes>"
      ]
     },
     "metadata": {
      "needs_background": "light"
     },
     "output_type": "display_data"
    }
   ],
   "source": [
    "import matplotlib.pyplot as plt\n",
    "import seaborn as sns\n",
    "\n",
    "fig, (ax1) = plt.subplots(ncols=1, figsize=(10, 8))\n",
    "ax1.set_title('Проверка искажения результата при добавке медианного значения')\n",
    "sns.kdeplot(petersburg, ax=ax1, label='petersburg')\n",
    "sns.kdeplot(full_df['petersburg'], ax=ax1, label='petersburg-with-median')\n",
    "plt.legend();"
   ]
  },
  {
   "cell_type": "markdown",
   "metadata": {},
   "source": [
    "Видно, что добавка медианного значения не сильно влияет на форму распределения плотности вероятности, которое заметно отличается от нормального.\n",
    "\n",
    "Итак, тест Д'Агостино:"
   ]
  },
  {
   "cell_type": "code",
   "execution_count": 47,
   "metadata": {},
   "outputs": [
    {
     "name": "stdout",
     "output_type": "stream",
     "text": [
      "Санкт-Перербург: p-value = 0.035, значит распределение не является нормальным\n",
      "Магадан: p-value = 0.154, значит распределение нормальное\n"
     ]
    }
   ],
   "source": [
    "def dagostino_test(data_dict):\n",
    "    H0 = 'распределение нормальное'\n",
    "    H1 = 'распределение не является нормальным'\n",
    "    alpha = 0.1\n",
    "    for city_ in data_dict.keys():\n",
    "        stat, p_val = normaltest(data_dict[city_])\n",
    "        if p_val > alpha:\n",
    "            print(f'{city_}: p-value = {round(p_val, 3)}, значит {H0}')\n",
    "        else:\n",
    "            print(f'{city_}: p-value = {round(p_val, 3)}, значит {H1}')\n",
    "\n",
    "dagostino_test({'Санкт-Перербург': full_df['petersburg'], 'Магадан': magadan})"
   ]
  },
  {
   "cell_type": "markdown",
   "metadata": {},
   "source": [
    "В обоих тестах одна из групп данных не проходит тест на нормальность. Следовательно, тест Пирсона не подходит, надо использовать непараметрические тесты."
   ]
  },
  {
   "cell_type": "code",
   "execution_count": 48,
   "metadata": {},
   "outputs": [
    {
     "data": {
      "image/png": "[encoded data removed]",
      "text/plain": [
       "<Figure size 432x288 with 2 Axes>"
      ]
     },
     "metadata": {
      "needs_background": "light"
     },
     "output_type": "display_data"
    }
   ],
   "source": [
    "plt.subplot(1, 2, 1)\n",
    "probplot(petersburg, plot=plt)\n",
    "\n",
    "plt.subplot(1, 2, 2)\n",
    "probplot(magadan, plot=plt)\n",
    "\n",
    "plt.tight_layout()\n",
    "plt.show();"
   ]
  },
  {
   "cell_type": "markdown",
   "metadata": {},
   "source": [
    "В добавок ко всему, **q-q plot** опять показывает слабый намёк на нормальность распределения, опять недостаточно, хотя об этом можно порассуждать в конце задания."
   ]
  },
  {
   "cell_type": "markdown",
   "metadata": {},
   "source": [
    "### 3) Тест на корреляцию и его обоснование ###"
   ]
  },
  {
   "cell_type": "markdown",
   "metadata": {},
   "source": [
    "- Корреляция Пирсона работает для нормального распределения количественных данных, поэтому она не годится, надо использовать непараметрические тесты.\n",
    "- Можно использовать для сравнения тесты Спирмена и Кендалла. Хотя они предназначены не для количественных (как здесь), а категориальных переменных (плюс ещё&nbsp;&mdash; ранжированных), однако данных у нас так мало, что можно, как в спорном случае, условно считать их категориями.\n",
    "\n",
    "Тесты Спирмена и Кендалла стандартным методом **Pandas** продублируем методами из **ScyPy**. Заодно убедимся, что они равнозначны. Придётся использовать данные из **`full_df`** (Без NaN-значений)."
   ]
  },
  {
   "cell_type": "code",
   "execution_count": 49,
   "metadata": {},
   "outputs": [
    {
     "data": {
      "text/html": [
       "<div>\n",
       "<style scoped>\n",
       "    .dataframe tbody tr th:only-of-type {\n",
       "        vertical-align: middle;\n",
       "    }\n",
       "\n",
       "    .dataframe tbody tr th {\n",
       "        vertical-align: top;\n",
       "    }\n",
       "\n",
       "    .dataframe thead th {\n",
       "        text-align: right;\n",
       "    }\n",
       "</style>\n",
       "<table border=\"1\" class=\"dataframe\">\n",
       "  <thead>\n",
       "    <tr style=\"text-align: right;\">\n",
       "      <th></th>\n",
       "      <th>petersburg</th>\n",
       "      <th>magadan</th>\n",
       "    </tr>\n",
       "  </thead>\n",
       "  <tbody>\n",
       "    <tr>\n",
       "      <th>petersburg</th>\n",
       "      <td>1.000000</td>\n",
       "      <td>0.155691</td>\n",
       "    </tr>\n",
       "    <tr>\n",
       "      <th>magadan</th>\n",
       "      <td>0.155691</td>\n",
       "      <td>1.000000</td>\n",
       "    </tr>\n",
       "  </tbody>\n",
       "</table>\n",
       "</div>"
      ],
      "text/plain": [
       "            petersburg   magadan\n",
       "petersburg    1.000000  0.155691\n",
       "magadan       0.155691  1.000000"
      ]
     },
     "metadata": {},
     "output_type": "display_data"
    },
    {
     "name": "stdout",
     "output_type": "stream",
     "text": [
      "Коэффициент корелляции Спирмена = 0.155691\n"
     ]
    }
   ],
   "source": [
    "display(full_df.corr(method='spearman'))\n",
    "\n",
    "corr, p = spearmanr(full_df['petersburg'], magadan, alternative='two-sided')\n",
    "print(f'Коэффициент корелляции Спирмена = {round(corr, 6)}')"
   ]
  },
  {
   "cell_type": "code",
   "execution_count": 50,
   "metadata": {},
   "outputs": [
    {
     "data": {
      "text/html": [
       "<div>\n",
       "<style scoped>\n",
       "    .dataframe tbody tr th:only-of-type {\n",
       "        vertical-align: middle;\n",
       "    }\n",
       "\n",
       "    .dataframe tbody tr th {\n",
       "        vertical-align: top;\n",
       "    }\n",
       "\n",
       "    .dataframe thead th {\n",
       "        text-align: right;\n",
       "    }\n",
       "</style>\n",
       "<table border=\"1\" class=\"dataframe\">\n",
       "  <thead>\n",
       "    <tr style=\"text-align: right;\">\n",
       "      <th></th>\n",
       "      <th>petersburg</th>\n",
       "      <th>magadan</th>\n",
       "    </tr>\n",
       "  </thead>\n",
       "  <tbody>\n",
       "    <tr>\n",
       "      <th>petersburg</th>\n",
       "      <td>1.000000</td>\n",
       "      <td>0.181848</td>\n",
       "    </tr>\n",
       "    <tr>\n",
       "      <th>magadan</th>\n",
       "      <td>0.181848</td>\n",
       "      <td>1.000000</td>\n",
       "    </tr>\n",
       "  </tbody>\n",
       "</table>\n",
       "</div>"
      ],
      "text/plain": [
       "            petersburg   magadan\n",
       "petersburg    1.000000  0.181848\n",
       "magadan       0.181848  1.000000"
      ]
     },
     "metadata": {},
     "output_type": "display_data"
    },
    {
     "name": "stdout",
     "output_type": "stream",
     "text": [
      "Коэффициент корелляции Кендалла = 0.181848\n"
     ]
    }
   ],
   "source": [
    "display(full_df.corr(method='kendall'))\n",
    "\n",
    "corr, p = kendalltau(full_df['petersburg'], magadan, alternative='two-sided')\n",
    "print(f'Коэффициент корелляции Кендалла = {round(corr, 6)}')"
   ]
  },
  {
   "cell_type": "markdown",
   "metadata": {},
   "source": [
    "### 4) Вывод по гипотезе о корелляции данных ###"
   ]
  },
  {
   "cell_type": "markdown",
   "metadata": {},
   "source": [
    "1. Распределение по обоим наборам данных принимаем отличным от нормального.\n",
    "2. В любом случае (Спирман и Кендалл) коэффициент корелляции <&nbsp;0,3. То есть связь очень слабая или отсутствует."
   ]
  },
  {
   "cell_type": "markdown",
   "metadata": {},
   "source": [
    "### 5) Тесты на сравнение выборок и их обоснование ###"
   ]
  },
  {
   "cell_type": "markdown",
   "metadata": {},
   "source": [
    "Независимый T-тест проверяет разницу между одной и той же зависимой количественной переменной (размер раковины) из разных совокупностей (то есть одна независимая категориальная переменная&nbsp;&mdash; географическое место). Кроме того,, T-тест используется на выборках размером меньше 30. То есть как раз наш случай, будем его использовать."
   ]
  },
  {
   "cell_type": "code",
   "execution_count": 51,
   "metadata": {},
   "outputs": [
    {
     "name": "stdout",
     "output_type": "stream",
     "text": [
      "p-value = 0.005: Есть разница в размерах мидий из Санкт-Петербурга и Магадана\n"
     ]
    }
   ],
   "source": [
    "H0 = 'Нет разницы в размерах мидий из Санкт-Петербурга и Магадана'\n",
    "H1 = 'Есть разница в размерах мидий из Санкт-Петербурга и Магадана'\n",
    "alpha = 0.1\n",
    "stat, p_value = ttest_ind(petersburg, magadan)\n",
    "if p_value > alpha:\n",
    "    print(f'p-value = {round(p_value, 3)}: {H0}')\n",
    "else:\n",
    "    print(f'p-value = {round(p_value, 3)}: {H1}')"
   ]
  },
  {
   "cell_type": "markdown",
   "metadata": {},
   "source": [
    "Аналогичный результат выдаёт U-тест Манна-Уитни (также непараметрический):"
   ]
  },
  {
   "cell_type": "code",
   "execution_count": 52,
   "metadata": {},
   "outputs": [
    {
     "name": "stdout",
     "output_type": "stream",
     "text": [
      "p-value = 0.006: Есть разница в размерах мидий из Санкт-Петербурга и Магадана\n"
     ]
    }
   ],
   "source": [
    "H0 = 'Нет разницы в размерах мидий из Санкт-Петербурга и Магадана'\n",
    "H1 = 'Есть разница в размерах мидий из Санкт-Петербурга и Магадана'\n",
    "alpha = 0.1\n",
    "stat, p_value = mannwhitneyu(petersburg, magadan)\n",
    "if p_value > alpha:\n",
    "    print(f'p-value = {round(p_value, 3)}: {H0}')\n",
    "else:\n",
    "    print(f'p-value = {round(p_value, 3)}: {H1}')"
   ]
  },
  {
   "cell_type": "markdown",
   "metadata": {},
   "source": [
    "### 6) Вывод по гипотезе о разных средних размерах мидий из разных городов ###"
   ]
  },
  {
   "cell_type": "markdown",
   "metadata": {},
   "source": [
    "Мы отвергаем нулевую гипотезу о равенстве размеров мидий из разных городов. Есть значимая разница между средним размером раковины мидий в Санкт-Петербурге и Магадане."
   ]
  },
  {
   "cell_type": "code",
   "execution_count": 53,
   "metadata": {},
   "outputs": [
    {
     "name": "stdout",
     "output_type": "stream",
     "text": [
      "В среднем размер мидий из Магадана на 25% меньше, чем размер мидий из Санкт-Петербурга\n"
     ]
    }
   ],
   "source": [
    "diff_pc = round((main_df['petersburg'].mean() - main_df['magadan'].mean()) / main_df['petersburg'].mean() * 100)\n",
    "print(f'В среднем размер мидий из Магадана на {diff_pc}% меньше, чем размер мидий из Санкт-Петербурга')"
   ]
  },
  {
   "cell_type": "markdown",
   "metadata": {},
   "source": [
    "## Дополнительные выводы ##"
   ]
  },
  {
   "cell_type": "markdown",
   "metadata": {},
   "source": [
    "Интересно то, что принятие нулевой гипотезы о нормальном распределении размеров мидий приводит к тому же результату из-за мизерности количества измерений. Ведь с точки зрения здравого смысла, размер мидий так же должен подчиняться нормальному распределению, как и рост человека и многие другие природные параметры.\n",
    "\n",
    "При работе на таком датасете наглядность различий используемых тестов как-то смазывается."
   ]
  },
  {
   "cell_type": "code",
   "execution_count": 54,
   "metadata": {},
   "outputs": [
    {
     "data": {
      "text/html": [
       "<div>\n",
       "<style scoped>\n",
       "    .dataframe tbody tr th:only-of-type {\n",
       "        vertical-align: middle;\n",
       "    }\n",
       "\n",
       "    .dataframe tbody tr th {\n",
       "        vertical-align: top;\n",
       "    }\n",
       "\n",
       "    .dataframe thead th {\n",
       "        text-align: right;\n",
       "    }\n",
       "</style>\n",
       "<table border=\"1\" class=\"dataframe\">\n",
       "  <thead>\n",
       "    <tr style=\"text-align: right;\">\n",
       "      <th></th>\n",
       "      <th>petersburg</th>\n",
       "      <th>magadan</th>\n",
       "    </tr>\n",
       "  </thead>\n",
       "  <tbody>\n",
       "    <tr>\n",
       "      <th>count</th>\n",
       "      <td>7.000000</td>\n",
       "      <td>8.000000</td>\n",
       "    </tr>\n",
       "    <tr>\n",
       "      <th>mean</th>\n",
       "      <td>0.103443</td>\n",
       "      <td>0.078012</td>\n",
       "    </tr>\n",
       "    <tr>\n",
       "      <th>std</th>\n",
       "      <td>0.016209</td>\n",
       "      <td>0.012945</td>\n",
       "    </tr>\n",
       "    <tr>\n",
       "      <th>min</th>\n",
       "      <td>0.081700</td>\n",
       "      <td>0.067700</td>\n",
       "    </tr>\n",
       "    <tr>\n",
       "      <th>25%</th>\n",
       "      <td>0.097100</td>\n",
       "      <td>0.068800</td>\n",
       "    </tr>\n",
       "    <tr>\n",
       "      <th>50%</th>\n",
       "      <td>0.101600</td>\n",
       "      <td>0.073050</td>\n",
       "    </tr>\n",
       "    <tr>\n",
       "      <th>75%</th>\n",
       "      <td>0.105700</td>\n",
       "      <td>0.081450</td>\n",
       "    </tr>\n",
       "    <tr>\n",
       "      <th>max</th>\n",
       "      <td>0.135200</td>\n",
       "      <td>0.103300</td>\n",
       "    </tr>\n",
       "  </tbody>\n",
       "</table>\n",
       "</div>"
      ],
      "text/plain": [
       "       petersburg   magadan\n",
       "count    7.000000  8.000000\n",
       "mean     0.103443  0.078012\n",
       "std      0.016209  0.012945\n",
       "min      0.081700  0.067700\n",
       "25%      0.097100  0.068800\n",
       "50%      0.101600  0.073050\n",
       "75%      0.105700  0.081450\n",
       "max      0.135200  0.103300"
      ]
     },
     "metadata": {},
     "output_type": "display_data"
    },
    {
     "name": "stdout",
     "output_type": "stream",
     "text": [
      "Среднеквадратичное отклонение для Санкт-Петербурга - 16% от среднего значения\n",
      "Среднеквадратичное отклонение для Магадана - 17% от среднего значения\n"
     ]
    }
   ],
   "source": [
    "display(main_df.describe())\n",
    "std_p_pc = round(main_df['petersburg'].std() / main_df['petersburg'].mean() * 100)\n",
    "std_m_pc = round(main_df['magadan'].std() / main_df['magadan'].mean() * 100)\n",
    "print(f'Среднеквадратичное отклонение для Санкт-Петербурга - {std_p_pc}% от среднего значения')\n",
    "print(f'Среднеквадратичное отклонение для Магадана - {std_m_pc}% от среднего значения')"
   ]
  },
  {
   "cell_type": "markdown",
   "metadata": {},
   "source": [
    "Рассуждая оценочно, если стандартное отклонение составляет 16%, то отклонения значений (неважно&nbsp;&mdash; ошибочных от истинных, или истинных от среднего, как в этом случае) могут быть разбросаны в диапазоне $\\pm40$% (так как $\\sqrt{0,16}=0,4$). Поэтому нормальное распределение можно и \"разглядеть\" на графиках. Следовательно, ничто не запрещает нам волевым усилием задать уровень значимости (нижний предел ошибки I рода), например $\\alpha=0,01$ и \"подогнать\" дальнейшие выводы под нормальное распределение."
   ]
  },
  {
   "cell_type": "code",
   "execution_count": 55,
   "metadata": {},
   "outputs": [
    {
     "data": {
      "text/html": [
       "<div>\n",
       "<style scoped>\n",
       "    .dataframe tbody tr th:only-of-type {\n",
       "        vertical-align: middle;\n",
       "    }\n",
       "\n",
       "    .dataframe tbody tr th {\n",
       "        vertical-align: top;\n",
       "    }\n",
       "\n",
       "    .dataframe thead th {\n",
       "        text-align: right;\n",
       "    }\n",
       "</style>\n",
       "<table border=\"1\" class=\"dataframe\">\n",
       "  <thead>\n",
       "    <tr style=\"text-align: right;\">\n",
       "      <th></th>\n",
       "      <th>petersburg</th>\n",
       "      <th>magadan</th>\n",
       "    </tr>\n",
       "  </thead>\n",
       "  <tbody>\n",
       "    <tr>\n",
       "      <th>petersburg</th>\n",
       "      <td>1.000000</td>\n",
       "      <td>0.256665</td>\n",
       "    </tr>\n",
       "    <tr>\n",
       "      <th>magadan</th>\n",
       "      <td>0.256665</td>\n",
       "      <td>1.000000</td>\n",
       "    </tr>\n",
       "  </tbody>\n",
       "</table>\n",
       "</div>"
      ],
      "text/plain": [
       "            petersburg   magadan\n",
       "petersburg    1.000000  0.256665\n",
       "magadan       0.256665  1.000000"
      ]
     },
     "execution_count": 55,
     "metadata": {},
     "output_type": "execute_result"
    }
   ],
   "source": [
    "full_df.corr(method='pearson')"
   ]
  },
  {
   "cell_type": "markdown",
   "metadata": {},
   "source": [
    "То есть тест Пирсона всё равно показывает слабую или отсутствующую корреляцию."
   ]
  },
  {
   "cell_type": "markdown",
   "metadata": {},
   "source": [
    "Тест ANOVA (проверяет нулевую гипотезу о том, что две или более групп имеют одинаковое среднее значение генеральной совокупности) выдаёт такой же результат по гипотезе о размерах мидий:"
   ]
  },
  {
   "cell_type": "code",
   "execution_count": 56,
   "metadata": {},
   "outputs": [
    {
     "name": "stdout",
     "output_type": "stream",
     "text": [
      "p-value = 0.005: Есть разница в размерах мидий из Санкт-Петербурга и Магадана\n"
     ]
    }
   ],
   "source": [
    "H0 = 'Нет разницы в размерах мидий из Санкт-Петербурга и Магадана'\n",
    "H1 = 'Есть разница в размерах мидий из Санкт-Петербурга и Магадана'\n",
    "alpha = 0.1\n",
    "stat, p_value = f_oneway(petersburg, magadan)\n",
    "if p_value > alpha:\n",
    "    print(f'p-value = {round(p_value, 3)}: {H0}')\n",
    "else:\n",
    "    print(f'p-value = {round(p_value, 3)}: {H1}')"
   ]
  },
  {
   "cell_type": "code",
   "execution_count": null,
   "metadata": {},
   "outputs": [],
   "source": []
  }
 ],
 "metadata": {
  "colab": {
   "collapsed_sections": [],
   "name": "Статистические_тесты.ipynb",
   "provenance": []
  },
  "kernelspec": {
   "display_name": "Python 3",
   "language": "python",
   "name": "python3"
  },
  "language_info": {
   "codemirror_mode": {
    "name": "ipython",
    "version": 3
   },
   "file_extension": ".py",
   "mimetype": "text/x-python",
   "name": "python",
   "nbconvert_exporter": "python",
   "pygments_lexer": "ipython3",
   "version": "3.9.13"
  }
 },
 "nbformat": 4,
 "nbformat_minor": 1
}
