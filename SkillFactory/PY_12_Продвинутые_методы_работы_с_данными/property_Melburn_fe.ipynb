{
 "cells": [
  {
   "cell_type": "code",
   "execution_count": 10,
   "metadata": {},
   "outputs": [
    {
     "name": "stdout",
     "output_type": "stream",
     "text": [
      "<class 'pandas.core.frame.DataFrame'>\n",
      "RangeIndex: 13580 entries, 0 to 13579\n",
      "Data columns (total 26 columns):\n",
      " #   Column           Non-Null Count  Dtype  \n",
      "---  ------           --------------  -----  \n",
      " 0   Suburb           13580 non-null  object \n",
      " 1   Rooms            13580 non-null  int64  \n",
      " 2   Type             13580 non-null  object \n",
      " 3   Price            13580 non-null  float64\n",
      " 4   Method           13580 non-null  object \n",
      " 5   SellerG          13580 non-null  object \n",
      " 6   Date             13580 non-null  object \n",
      " 7   Distance         13580 non-null  float64\n",
      " 8   Postcode         13580 non-null  int64  \n",
      " 9   Bedroom          13580 non-null  int64  \n",
      " 10  Bathroom         13580 non-null  int64  \n",
      " 11  Car              13580 non-null  int64  \n",
      " 12  Landsize         13580 non-null  float64\n",
      " 13  BuildingArea     13580 non-null  float64\n",
      " 14  CouncilArea      12211 non-null  object \n",
      " 15  Lattitude        13580 non-null  float64\n",
      " 16  Longtitude       13580 non-null  float64\n",
      " 17  Regionname       13580 non-null  object \n",
      " 18  Propertycount    13580 non-null  int64  \n",
      " 19  MeanRoomsSquare  13580 non-null  float64\n",
      " 20  AreaRatio        13580 non-null  float64\n",
      " 21  MonthSale        13580 non-null  int64  \n",
      " 22  AgeBuilding      13580 non-null  int64  \n",
      " 23  WeekdaySale      13580 non-null  int64  \n",
      " 24  StreetType       13580 non-null  object \n",
      " 25  Weekend          13580 non-null  int64  \n",
      "dtypes: float64(8), int64(10), object(8)\n",
      "memory usage: 2.7+ MB\n"
     ]
    },
    {
     "data": {
      "text/plain": [
       "None"
      ]
     },
     "metadata": {},
     "output_type": "display_data"
    },
    {
     "name": "stdout",
     "output_type": "stream",
     "text": [
      "4359\n",
      "<class 'pandas.core.frame.DataFrame'>\n",
      "RangeIndex: 13580 entries, 0 to 13579\n",
      "Data columns (total 26 columns):\n",
      " #   Column           Non-Null Count  Dtype         \n",
      "---  ------           --------------  -----         \n",
      " 0   Suburb           13580 non-null  category      \n",
      " 1   Rooms            13580 non-null  int64         \n",
      " 2   Type             13580 non-null  category      \n",
      " 3   Price            13580 non-null  float64       \n",
      " 4   Method           13580 non-null  category      \n",
      " 5   SellerG          13580 non-null  category      \n",
      " 6   Date             13580 non-null  datetime64[ns]\n",
      " 7   Distance         13580 non-null  float64       \n",
      " 8   Postcode         13580 non-null  int64         \n",
      " 9   Bedroom          13580 non-null  int64         \n",
      " 10  Bathroom         13580 non-null  int64         \n",
      " 11  Car              13580 non-null  int64         \n",
      " 12  Landsize         13580 non-null  float64       \n",
      " 13  BuildingArea     13580 non-null  float64       \n",
      " 14  CouncilArea      12211 non-null  category      \n",
      " 15  Lattitude        13580 non-null  float64       \n",
      " 16  Longtitude       13580 non-null  float64       \n",
      " 17  Regionname       13580 non-null  category      \n",
      " 18  Propertycount    13580 non-null  int64         \n",
      " 19  MeanRoomsSquare  13580 non-null  float64       \n",
      " 20  AreaRatio        13580 non-null  float64       \n",
      " 21  MonthSale        13580 non-null  category      \n",
      " 22  AgeBuilding      13580 non-null  int64         \n",
      " 23  WeekdaySale      13580 non-null  category      \n",
      " 24  StreetType       13580 non-null  category      \n",
      " 25  Weekend          13580 non-null  category      \n",
      "dtypes: category(10), datetime64[ns](1), float64(8), int64(7)\n",
      "memory usage: 1.8 MB\n"
     ]
    },
    {
     "data": {
      "text/plain": [
       "None"
      ]
     },
     "metadata": {},
     "output_type": "display_data"
    },
    {
     "data": {
      "text/plain": [
       "1300000"
      ]
     },
     "execution_count": 10,
     "metadata": {},
     "output_type": "execute_result"
    }
   ],
   "source": [
    "# Прочитаем датасет и выведем первые пять его строк:\n",
    "\n",
    "import pandas as pd\n",
    "\n",
    "melb_df = pd.read_csv('data/melb_data_fe.csv')\n",
    "melb_df.head()\n",
    "\n",
    "# Давайте посмотрим на информацию о столбцах с помощью метода info():\n",
    "\n",
    "display(melb_df.info())\n",
    "\n",
    "# Преобразуем столбец Date в формат datetime и выделим квартал (quarter) продажи объектов недвижимости.\n",
    "# Найдём второй по популярности квартал продажи\n",
    "\n",
    "melb_df['Date'] = pd.to_datetime(melb_df['Date'])\n",
    "quarters = melb_df['Date'].dt.quarter\n",
    "print(quarters.value_counts().iloc[1])\n",
    "\n",
    "# Преобразуем все столбцы, в которых меньше 150 уникальных значений, в тип данных category,\n",
    "# исключив из преобразования столбцы Date, Rooms, Bedroom, Bathroom, Car.\n",
    "\n",
    "cols_to_exclude = ['Date', 'Rooms', 'Bedroom', 'Bathroom', 'Car'] \n",
    "max_unique_count = 150 \n",
    "for col in melb_df.columns: \n",
    "    if melb_df[col].nunique() < max_unique_count and col not in cols_to_exclude: \n",
    "        melb_df[col] = melb_df[col].astype('category')\n",
    "display(melb_df.info())\n",
    "\n",
    "# МЕТОД SORT_VALUES()\n",
    "\n",
    "# СОРТИРОВКА ПО ЗНАЧЕНИЯМ ОДНОГО СТОЛБЦА\n",
    "\n",
    "# Отсортируем таблицу по возрастанию цены объектов недвижимости (Price):\n",
    "\n",
    "melb_df.sort_values(by='Price').head(10)\n",
    "\n",
    "# А теперь отсортируем таблицу по убыванию (от самой последней до самой первой) даты продажи объекта (Date). \n",
    "# Для этого выставим параметр ascending на False:\n",
    "\n",
    "melb_df.sort_values(by='Date', ascending=False)\n",
    "\n",
    "# СОРТИРОВКА ПО ЗНАЧЕНИЯМ НЕСКОЛЬКИХ СТОЛБЦОВ\n",
    "\n",
    "# Для сортировки по значениям нескольких столбцов необходимо передать названия этих столбцов в параметр by в виде списка.\n",
    "# При этом важно обращать внимание на порядок следования столбцов.\n",
    "\n",
    "# отсортируем таблицу сначала по возрастанию расстояния от центра города (Distance),\n",
    "# а затем — по возрастанию цены объекта (Price). Для того чтобы вывод был более наглядным,\n",
    "# выделим каждую десятую строку из столбцов Distance и Price результирующей таблицы:\n",
    "\n",
    "melb_df.sort_values(by=['Distance', 'Price']).loc[::10, ['Distance', 'Price']]\n",
    "\n",
    "# Мы получили таблицу, отсортированную по возрастанию расстояния до центра города. \n",
    "# Если встречаются объекты недвижимости, у которых расстояние оказывается одинаковым, \n",
    "# то внутри такой группы производится сортировка по цене объекта.\n",
    "\n",
    "# КОМБИНИРОВАНИЕ СОРТИРОВКИ С ФИЛЬТРАЦИЕЙ\n",
    "\n",
    "# Предположим, компания McGrath поручила нам восстановить хронологию продаж таунхаусов,\n",
    "# у которых площадь участка существенно больше площади здания, чтобы понять,\n",
    "# как часто компания справляется с таким сложным видом объектов. Объекты, проданные в один и тот же день,\n",
    "# мы бы хотели сортировать по значению коэффициента соотношения площадей.\n",
    "\n",
    "# Найдём информацию о таунхаусах (Type), проданных компанией (SellerG) McGrath,\n",
    "# у которых коэффициент соотношения площадей здания и участка (AreaRatio) меньше -0.8.\n",
    "# Результат отсортируем по дате продажи (Date) в порядке возрастания,\n",
    "# а после проведём сортировку по убыванию коэффициента соотношения площадей. Также обновим старые индексы на новые,\n",
    "# установив параметр ignore_index на True. Для наглядности результата выберем из таблицы только столбцы Data и AreaRatio: \n",
    "\n",
    "mask1 = melb_df['AreaRatio'] < -0.8\n",
    "mask2 = melb_df['Type'] == 'townhouse'\n",
    "mask3 = melb_df['SellerG'] == 'McGrath'\n",
    "melb_df[mask1 & mask2 & mask3].sort_values(\n",
    "    by=['Date', 'AreaRatio'],\n",
    "    ascending=[True, False],\n",
    "    ignore_index=True\n",
    ").loc[:, ['Date', 'AreaRatio']]\n",
    "\n",
    "# Отсортируем таблицу по столбцу AreaRatio с параметром ascending=False (по убыванию).\n",
    "# Выставим параметр ignore_index на True, чтобы заменить индексы на новые.\n",
    "# С помощью метода loc извлечем значение столбца BuildingArea в строке с индексом 1558.\n",
    "\n",
    "int(melb_df.sort_values(\n",
    "    by='AreaRatio', \n",
    "    ignore_index=True,\n",
    "    ascending=False\n",
    ").loc[1558, 'BuildingArea'])\n",
    "\n",
    "# Произведем фильтрацию таблицы и отберите строки по условиям «тип здания — таунхаус» и «число жилых комнат больше 2».\n",
    "# Отсортируем полученную таблицу по столбцу Rooms с параметром ascending=True (по возрастанию)\n",
    "и по средней площади комнат с параметром ascending=False (по убыванию).\n",
    "# Выставим параметр ignore_index на True, чтобы заменить индексы на новые.\n",
    "# С помощью метода loc извлечем значение столбца Price в строке с индексом 18.\n",
    "\n",
    "mask1 = melb_df['Type'] == 'townhouse'\n",
    "mask2 = melb_df['Rooms'] > 2\n",
    "int(melb_df[mask1&mask2].sort_values(\n",
    "    by=['Rooms', 'MeanRoomsSquare'],\n",
    "    ascending=[True, False],\n",
    "    ignore_index=True\n",
    ").loc[18, 'Price'])"
   ]
  }
 ],
 "metadata": {
  "kernelspec": {
   "display_name": "Python 3.10.5 64-bit",
   "language": "python",
   "name": "python3"
  },
  "language_info": {
   "codemirror_mode": {
    "name": "ipython",
    "version": 3
   },
   "file_extension": ".py",
   "mimetype": "text/x-python",
   "name": "python",
   "nbconvert_exporter": "python",
   "pygments_lexer": "ipython3",
   "version": "3.10.5"
  },
  "orig_nbformat": 4,
  "vscode": {
   "interpreter": {
    "hash": "a8698f73bc8614c8f1502f26e9b5373a6966bd4b4d74167ce8954941b9f8a95f"
   }
  }
 },
 "nbformat": 4,
 "nbformat_minor": 2
}
