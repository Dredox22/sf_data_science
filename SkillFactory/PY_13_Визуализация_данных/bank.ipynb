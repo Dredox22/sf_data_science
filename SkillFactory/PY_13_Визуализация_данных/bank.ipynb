{
 "cells": [
  {
   "cell_type": "markdown",
   "metadata": {},
   "source": [
    "# <center>9. Закрепление знаний"
   ]
  },
  {
   "cell_type": "code",
   "execution_count": 1,
   "metadata": {},
   "outputs": [
    {
     "data": {
      "text/html": [
       "<div>\n",
       "<style scoped>\n",
       "    .dataframe tbody tr th:only-of-type {\n",
       "        vertical-align: middle;\n",
       "    }\n",
       "\n",
       "    .dataframe tbody tr th {\n",
       "        vertical-align: top;\n",
       "    }\n",
       "\n",
       "    .dataframe thead th {\n",
       "        text-align: right;\n",
       "    }\n",
       "</style>\n",
       "<table border=\"1\" class=\"dataframe\">\n",
       "  <thead>\n",
       "    <tr style=\"text-align: right;\">\n",
       "      <th></th>\n",
       "      <th>RowNumber</th>\n",
       "      <th>CustomerId</th>\n",
       "      <th>Surname</th>\n",
       "      <th>CreditScore</th>\n",
       "      <th>Geography</th>\n",
       "      <th>Gender</th>\n",
       "      <th>Age</th>\n",
       "      <th>Tenure</th>\n",
       "      <th>Balance</th>\n",
       "      <th>NumOfProducts</th>\n",
       "      <th>HasCrCard</th>\n",
       "      <th>IsActiveMember</th>\n",
       "      <th>EstimatedSalary</th>\n",
       "      <th>Exited</th>\n",
       "    </tr>\n",
       "  </thead>\n",
       "  <tbody>\n",
       "    <tr>\n",
       "      <th>0</th>\n",
       "      <td>1</td>\n",
       "      <td>15634602</td>\n",
       "      <td>Hargrave</td>\n",
       "      <td>619</td>\n",
       "      <td>France</td>\n",
       "      <td>Female</td>\n",
       "      <td>42</td>\n",
       "      <td>2</td>\n",
       "      <td>0.00</td>\n",
       "      <td>1</td>\n",
       "      <td>1</td>\n",
       "      <td>1</td>\n",
       "      <td>101348.88</td>\n",
       "      <td>1</td>\n",
       "    </tr>\n",
       "    <tr>\n",
       "      <th>1</th>\n",
       "      <td>2</td>\n",
       "      <td>15647311</td>\n",
       "      <td>Hill</td>\n",
       "      <td>608</td>\n",
       "      <td>Spain</td>\n",
       "      <td>Female</td>\n",
       "      <td>41</td>\n",
       "      <td>1</td>\n",
       "      <td>83807.86</td>\n",
       "      <td>1</td>\n",
       "      <td>0</td>\n",
       "      <td>1</td>\n",
       "      <td>112542.58</td>\n",
       "      <td>0</td>\n",
       "    </tr>\n",
       "    <tr>\n",
       "      <th>2</th>\n",
       "      <td>3</td>\n",
       "      <td>15619304</td>\n",
       "      <td>Onio</td>\n",
       "      <td>502</td>\n",
       "      <td>France</td>\n",
       "      <td>Female</td>\n",
       "      <td>42</td>\n",
       "      <td>8</td>\n",
       "      <td>159660.80</td>\n",
       "      <td>3</td>\n",
       "      <td>1</td>\n",
       "      <td>0</td>\n",
       "      <td>113931.57</td>\n",
       "      <td>1</td>\n",
       "    </tr>\n",
       "    <tr>\n",
       "      <th>3</th>\n",
       "      <td>4</td>\n",
       "      <td>15701354</td>\n",
       "      <td>Boni</td>\n",
       "      <td>699</td>\n",
       "      <td>France</td>\n",
       "      <td>Female</td>\n",
       "      <td>39</td>\n",
       "      <td>1</td>\n",
       "      <td>0.00</td>\n",
       "      <td>2</td>\n",
       "      <td>0</td>\n",
       "      <td>0</td>\n",
       "      <td>93826.63</td>\n",
       "      <td>0</td>\n",
       "    </tr>\n",
       "    <tr>\n",
       "      <th>4</th>\n",
       "      <td>5</td>\n",
       "      <td>15737888</td>\n",
       "      <td>Mitchell</td>\n",
       "      <td>850</td>\n",
       "      <td>Spain</td>\n",
       "      <td>Female</td>\n",
       "      <td>43</td>\n",
       "      <td>2</td>\n",
       "      <td>125510.82</td>\n",
       "      <td>1</td>\n",
       "      <td>1</td>\n",
       "      <td>1</td>\n",
       "      <td>79084.10</td>\n",
       "      <td>0</td>\n",
       "    </tr>\n",
       "  </tbody>\n",
       "</table>\n",
       "</div>"
      ],
      "text/plain": [
       "   RowNumber  CustomerId   Surname  CreditScore Geography  Gender  Age  \\\n",
       "0          1    15634602  Hargrave          619    France  Female   42   \n",
       "1          2    15647311      Hill          608     Spain  Female   41   \n",
       "2          3    15619304      Onio          502    France  Female   42   \n",
       "3          4    15701354      Boni          699    France  Female   39   \n",
       "4          5    15737888  Mitchell          850     Spain  Female   43   \n",
       "\n",
       "   Tenure    Balance  NumOfProducts  HasCrCard  IsActiveMember  \\\n",
       "0       2       0.00              1          1               1   \n",
       "1       1   83807.86              1          0               1   \n",
       "2       8  159660.80              3          1               0   \n",
       "3       1       0.00              2          0               0   \n",
       "4       2  125510.82              1          1               1   \n",
       "\n",
       "   EstimatedSalary  Exited  \n",
       "0        101348.88       1  \n",
       "1        112542.58       0  \n",
       "2        113931.57       1  \n",
       "3         93826.63       0  \n",
       "4         79084.10       0  "
      ]
     },
     "execution_count": 1,
     "metadata": {},
     "output_type": "execute_result"
    }
   ],
   "source": [
    "import pandas as pd\n",
    "import numpy as np\n",
    "import matplotlib.pyplot as plt\n",
    "%matplotlib inline\n",
    "plt.style.use('default')\n",
    "import seaborn as sns\n",
    "import plotly\n",
    "import plotly.express as px\n",
    "\n",
    "churn_data = pd.read_csv('data/churn.csv')\n",
    "churn_data.head()"
   ]
  },
  {
   "cell_type": "code",
   "execution_count": 2,
   "metadata": {},
   "outputs": [
    {
     "name": "stdout",
     "output_type": "stream",
     "text": [
      "<class 'pandas.core.frame.DataFrame'>\n",
      "RangeIndex: 10000 entries, 0 to 9999\n",
      "Data columns (total 14 columns):\n",
      " #   Column           Non-Null Count  Dtype  \n",
      "---  ------           --------------  -----  \n",
      " 0   RowNumber        10000 non-null  int64  \n",
      " 1   CustomerId       10000 non-null  int64  \n",
      " 2   Surname          10000 non-null  object \n",
      " 3   CreditScore      10000 non-null  int64  \n",
      " 4   Geography        10000 non-null  object \n",
      " 5   Gender           10000 non-null  object \n",
      " 6   Age              10000 non-null  int64  \n",
      " 7   Tenure           10000 non-null  int64  \n",
      " 8   Balance          10000 non-null  float64\n",
      " 9   NumOfProducts    10000 non-null  int64  \n",
      " 10  HasCrCard        10000 non-null  int64  \n",
      " 11  IsActiveMember   10000 non-null  int64  \n",
      " 12  EstimatedSalary  10000 non-null  float64\n",
      " 13  Exited           10000 non-null  int64  \n",
      "dtypes: float64(2), int64(9), object(3)\n",
      "memory usage: 1.1+ MB\n"
     ]
    }
   ],
   "source": [
    "#выведем информацию о таблице\n",
    "churn_data.info()"
   ]
  },
  {
   "cell_type": "markdown",
   "metadata": {},
   "source": [
    "Столбцы таблицы:\n",
    "\n",
    "1. RowNumber — номер строки таблицы (это лишняя информация, поэтому можете сразу от неё избавиться)\n",
    "2. CustomerId — идентификатор клиента\n",
    "3. Surname — фамилия клиента\n",
    "4. CreditScore — кредитный рейтинг клиента (чем он выше, тем больше клиент брал кредитов и возвращал их)\n",
    "5. Geography — страна клиента (банк международный)\n",
    "6. Gender — пол клиента\n",
    "7. Age — возраст клиента\n",
    "8. Tenure — сколько лет клиент пользуется услугами банка\n",
    "9. Balance — баланс на счетах клиента в банке\n",
    "10. NumOfProducts — количество услуг банка, которые приобрёл клиент\n",
    "11. HasCrCard — есть ли у клиента кредитная карта (1 — да, 0 — нет)\n",
    "12. IsActiveMember — есть ли у клиента статус активного клиента банка (1 — да, 0 — нет)\n",
    "13. EstimatedSalary — предполагаемая заработная плата клиента\n",
    "14. Exited — статус лояльности (1 — ушедший клиент, 0 — лояльный клиент)"
   ]
  },
  {
   "cell_type": "code",
   "execution_count": 3,
   "metadata": {},
   "outputs": [
    {
     "data": {
      "text/html": [
       "<div>\n",
       "<style scoped>\n",
       "    .dataframe tbody tr th:only-of-type {\n",
       "        vertical-align: middle;\n",
       "    }\n",
       "\n",
       "    .dataframe tbody tr th {\n",
       "        vertical-align: top;\n",
       "    }\n",
       "\n",
       "    .dataframe thead th {\n",
       "        text-align: right;\n",
       "    }\n",
       "</style>\n",
       "<table border=\"1\" class=\"dataframe\">\n",
       "  <thead>\n",
       "    <tr style=\"text-align: right;\">\n",
       "      <th></th>\n",
       "      <th>CustomerId</th>\n",
       "      <th>Surname</th>\n",
       "      <th>CreditScore</th>\n",
       "      <th>Geography</th>\n",
       "      <th>Gender</th>\n",
       "      <th>Age</th>\n",
       "      <th>Tenure</th>\n",
       "      <th>Balance</th>\n",
       "      <th>NumOfProducts</th>\n",
       "      <th>HasCrCard</th>\n",
       "      <th>IsActiveMember</th>\n",
       "      <th>EstimatedSalary</th>\n",
       "      <th>Exited</th>\n",
       "    </tr>\n",
       "  </thead>\n",
       "  <tbody>\n",
       "    <tr>\n",
       "      <th>0</th>\n",
       "      <td>15634602</td>\n",
       "      <td>Hargrave</td>\n",
       "      <td>619</td>\n",
       "      <td>France</td>\n",
       "      <td>Female</td>\n",
       "      <td>42</td>\n",
       "      <td>2</td>\n",
       "      <td>0.00</td>\n",
       "      <td>1</td>\n",
       "      <td>1</td>\n",
       "      <td>1</td>\n",
       "      <td>101348.88</td>\n",
       "      <td>1</td>\n",
       "    </tr>\n",
       "    <tr>\n",
       "      <th>1</th>\n",
       "      <td>15647311</td>\n",
       "      <td>Hill</td>\n",
       "      <td>608</td>\n",
       "      <td>Spain</td>\n",
       "      <td>Female</td>\n",
       "      <td>41</td>\n",
       "      <td>1</td>\n",
       "      <td>83807.86</td>\n",
       "      <td>1</td>\n",
       "      <td>0</td>\n",
       "      <td>1</td>\n",
       "      <td>112542.58</td>\n",
       "      <td>0</td>\n",
       "    </tr>\n",
       "    <tr>\n",
       "      <th>2</th>\n",
       "      <td>15619304</td>\n",
       "      <td>Onio</td>\n",
       "      <td>502</td>\n",
       "      <td>France</td>\n",
       "      <td>Female</td>\n",
       "      <td>42</td>\n",
       "      <td>8</td>\n",
       "      <td>159660.80</td>\n",
       "      <td>3</td>\n",
       "      <td>1</td>\n",
       "      <td>0</td>\n",
       "      <td>113931.57</td>\n",
       "      <td>1</td>\n",
       "    </tr>\n",
       "    <tr>\n",
       "      <th>3</th>\n",
       "      <td>15701354</td>\n",
       "      <td>Boni</td>\n",
       "      <td>699</td>\n",
       "      <td>France</td>\n",
       "      <td>Female</td>\n",
       "      <td>39</td>\n",
       "      <td>1</td>\n",
       "      <td>0.00</td>\n",
       "      <td>2</td>\n",
       "      <td>0</td>\n",
       "      <td>0</td>\n",
       "      <td>93826.63</td>\n",
       "      <td>0</td>\n",
       "    </tr>\n",
       "    <tr>\n",
       "      <th>4</th>\n",
       "      <td>15737888</td>\n",
       "      <td>Mitchell</td>\n",
       "      <td>850</td>\n",
       "      <td>Spain</td>\n",
       "      <td>Female</td>\n",
       "      <td>43</td>\n",
       "      <td>2</td>\n",
       "      <td>125510.82</td>\n",
       "      <td>1</td>\n",
       "      <td>1</td>\n",
       "      <td>1</td>\n",
       "      <td>79084.10</td>\n",
       "      <td>0</td>\n",
       "    </tr>\n",
       "  </tbody>\n",
       "</table>\n",
       "</div>"
      ],
      "text/plain": [
       "   CustomerId   Surname  CreditScore Geography  Gender  Age  Tenure  \\\n",
       "0    15634602  Hargrave          619    France  Female   42       2   \n",
       "1    15647311      Hill          608     Spain  Female   41       1   \n",
       "2    15619304      Onio          502    France  Female   42       8   \n",
       "3    15701354      Boni          699    France  Female   39       1   \n",
       "4    15737888  Mitchell          850     Spain  Female   43       2   \n",
       "\n",
       "     Balance  NumOfProducts  HasCrCard  IsActiveMember  EstimatedSalary  \\\n",
       "0       0.00              1          1               1        101348.88   \n",
       "1   83807.86              1          0               1        112542.58   \n",
       "2  159660.80              3          1               0        113931.57   \n",
       "3       0.00              2          0               0         93826.63   \n",
       "4  125510.82              1          1               1         79084.10   \n",
       "\n",
       "   Exited  \n",
       "0       1  \n",
       "1       0  \n",
       "2       1  \n",
       "3       0  \n",
       "4       0  "
      ]
     },
     "execution_count": 3,
     "metadata": {},
     "output_type": "execute_result"
    }
   ],
   "source": [
    "#удалим RowNumber - это лишняя информация, от нее можно сразу избавиться\n",
    "churn_data = churn_data.drop(['RowNumber'], axis=1)\n",
    "churn_data.head()"
   ]
  },
  {
   "cell_type": "code",
   "execution_count": 4,
   "metadata": {},
   "outputs": [],
   "source": [
    "copied_df = churn_data.copy()"
   ]
  },
  {
   "cell_type": "markdown",
   "metadata": {},
   "source": [
    "Итак, банк обращается к вам за помощью: он хочет разработать кампанию лояльности по удержанию клиентов, но для этого ему необходимо, чтобы вы выяснили основные причины оттока клиентов. Иными словами, нужно установить, чем ушедшие клиенты отличаются от лояльных и как между собой связаны различные признаки, определяющие клиентов.\n",
    "\n",
    "После разведывательного анализа, с целью выявления наиболее важных признаков оттока, банк сможет построить модель машинного обучения, которая будет прогнозировать уход клиента."
   ]
  },
  {
   "cell_type": "markdown",
   "metadata": {},
   "source": [
    "### <center>9.1. Каково соотношение ушедших и лояльных клиентов?"
   ]
  },
  {
   "cell_type": "markdown",
   "metadata": {},
   "source": [
    "Попробуем использовать два метода"
   ]
  },
  {
   "cell_type": "code",
   "execution_count": 41,
   "metadata": {},
   "outputs": [],
   "source": [
    "# Построим круговую диаграмму в Plotly\n",
    "# задаём имена значениям\n",
    "churn_data['exited_status'] = churn_data['Exited'].map({0:'Лояльные клиенты', 1:'Ушедшие клиенты'})\n",
    "# создаем круговую диграмму\n",
    "fig = px.pie(\n",
    "    data_frame=churn_data,\n",
    "    names='exited_status',\n",
    "    title='Соотношение ушедших и лояльных клиентов',\n",
    "    width=550,\n",
    "    height=550,\n",
    "    )\n",
    "\n",
    "fig.write_image(\"plotly/churn_status.png\")"
   ]
  },
  {
   "cell_type": "markdown",
   "metadata": {},
   "source": [
    "Вывод:\n",
    "На диаграмме мы видим два элемента: лояльные клиенты и ушедшие клиенты.\n",
    "В процентном соотношении ушедших клиентов 20.4%, что составляет 1/5 от общего числа клиентов.\n",
    "Это не кретично для банка, но показатель надо уменьшать, возможно введением бонусов для новых клиентов или увеличением процентной ставки."
   ]
  },
  {
   "cell_type": "markdown",
   "metadata": {},
   "source": [
    "### <center>9.2. Постройте график, показывающий распределение баланса пользователей, у которых на счету больше 2 500 долларов."
   ]
  },
  {
   "cell_type": "markdown",
   "metadata": {},
   "source": [
    "Распределение удобнее показать с помощью гистограммы, еще можно использовать \"ящик с усами\"."
   ]
  },
  {
   "cell_type": "code",
   "execution_count": 40,
   "metadata": {},
   "outputs": [],
   "source": [
    "# Построим гистограмму в Plotly\n",
    "# Зададим переменную для фильтрации клиентов согласно условию >2 500$\n",
    "filter_balance = churn_data.Balance > 2500\n",
    "churn_df_filter = churn_data[filter_balance]\n",
    "# построим график распределения баланса пользователей\n",
    "fig = px.histogram(\n",
    "    data_frame = churn_df_filter, # датафрейм\n",
    "    x='Balance', # ось абсцисс\n",
    "    color='exited_status', # расцветка в зависимости от статуса клиента\n",
    "    width=1100,\n",
    "    height=700, \n",
    "    title='Распределение баланса пользователей'\n",
    ")\n",
    "\n",
    "fig.write_image(\"plotly/churn_Balance.png\")"
   ]
  },
  {
   "cell_type": "code",
   "execution_count": 39,
   "metadata": {},
   "outputs": [],
   "source": [
    "fig = px.box(churn_df_filter,\n",
    "             x=\"Balance\",\n",
    "             title='Распределение баланса пользователей, у которых на счету больше 2 500 $'\n",
    "            )\n",
    "\n",
    "fig.write_image(\"plotly/churn_Balance_box.png\")"
   ]
  },
  {
   "cell_type": "markdown",
   "metadata": {},
   "source": [
    "Вывод:\n",
    "В основном у клиентов (с балансом > 2500 $ на счёте) баланс составляет от 41 до 198 тыс.дол., 50 % таких клиентов имеют на счёте от 100 до 140 тыс. дол., наибольшее количество в этой группе - около 2200 клиентов имеют на счёте 120 тыс.дол. - медианное значение. \n",
    "За границами \"усов\" имеются выбросы - нижние до 3.7 тыс.дол. и верхние до 250.9 тыс.дол. \n",
    "Значения относительно медианы распределены симметричо."
   ]
  },
  {
   "cell_type": "markdown",
   "metadata": {},
   "source": [
    "### <center>9.3. Посмотрите на распределение баланса клиента в разрезе признака оттока. Как различаются суммы на накопительном счёте ушедших и лояльных клиентов?"
   ]
  },
  {
   "cell_type": "code",
   "execution_count": 38,
   "metadata": {},
   "outputs": [],
   "source": [
    "copied_df['Loyalty'] = copied_df['Exited'].apply(lambda x: 'loyal' if x==0 else 'lost')\n",
    "fig = px.box(\n",
    "    data_frame=copied_df,\n",
    "    x='Balance',\n",
    "    y='Loyalty',\n",
    "    orientation='h',\n",
    "    color='Loyalty',\n",
    "    title='Распределение баланса клиента в разрезе признака оттока'   \n",
    ")\n",
    "fig.layout.xaxis.title.text = 'Баланс'\n",
    "fig.layout.yaxis.title.text = 'Статус лояльности'\n",
    "\n",
    "fig.write_image(\"plotly/Balance_Loyalty.png\")"
   ]
  },
  {
   "cell_type": "markdown",
   "metadata": {},
   "source": [
    "Вывод:\n",
    "График покаывает что счета с нулевым балансом есть в обеих группах клиентов, границы баланса :\n",
    "лояльных 0-221.5 тыс.дол., медиана 92 тыс.дол. (0-92 тыс.дол - 50% всех клиентов, 92-126 тыс.дол.-25%, 126-221.5 тыс.дол - 25%),\n",
    "ушедших 0-251 тыс.дол., медиана 109 тыс.дол. (0-38 тыс.дол - 25%, 38-109 тыс.дол.-25%,109-131 тыс.дол - 25%, 131-251 тыс.дол - 25%).\n",
    "Т.е. ушла четвертая часть клиентов, со значительными балансами на счетах. Возможно политика банка перестала устраивать более состоятельных, их перестал устраивать уровень безопасности и они стали боятся потерять свои вклады."
   ]
  },
  {
   "cell_type": "markdown",
   "metadata": {},
   "source": [
    "### <center>9.4. Посмотрите на распределение возраста в разрезе признака оттока. В какой группе больше потенциальных выбросов? На какую возрастную категорию клиентов стоит обратить внимание банку?"
   ]
  },
  {
   "cell_type": "code",
   "execution_count": 37,
   "metadata": {},
   "outputs": [],
   "source": [
    "fig = px.box(\n",
    "    data_frame=copied_df,\n",
    "    x='Age',\n",
    "    y='Loyalty',\n",
    "    orientation='h',\n",
    "    color='Loyalty',\n",
    "    title='Распределение возраста в разрезе признака оттока '   \n",
    ")\n",
    "fig.layout.xaxis.title.text = 'Возрастная категория клиентов'\n",
    "fig.layout.yaxis.title.text = 'Статус лояльности'\n",
    "\n",
    "fig.write_image(\"plotly/Age_Loyalty.png\")\n"
   ]
  },
  {
   "cell_type": "markdown",
   "metadata": {},
   "source": [
    "Вывод:\n",
    "Возраст лояльных клиентов 17-56 лет, 50% этой группы - 31-41 год, медианное значение возраста 36 лет. За верхней границей очень много выбросов - до 93 лет.\n",
    "Возраст ушедших клиентов - 18-70 лет, есть единичные выбросы за границами. 50% ушедших клиентов в возрасте - 37-51 год, 45 лет - медианное значение возраста.\n",
    "**Возможно банку следует обратить внимание на клиентов из возрастной группы - 37-51 год (С балансом на счетах от 38 до 132 тыс.дол.).**"
   ]
  },
  {
   "cell_type": "markdown",
   "metadata": {},
   "source": [
    "### <center>9.5. Постройте график, который показывает взаимосвязь кредитного рейтинга клиента и его предполагаемой зарплаты. Добавьте расцветку по признаку оттока клиентов. Какова взаимосвязь между признаками?"
   ]
  },
  {
   "cell_type": "code",
   "execution_count": 36,
   "metadata": {},
   "outputs": [],
   "source": [
    "# Построим диаграмму рассеяния в Plotly\n",
    "# задаём имена значениям\n",
    "copied_df['Loyalty'] = copied_df['Exited'].apply(lambda x: 'loyal' if x==0 else 'lost')\n",
    "# строим график\n",
    "fig = px.scatter(\n",
    "    data_frame = copied_df, #датафрейм\n",
    "    x='EstimatedSalary', #ось абсцисс\n",
    "    y='CreditScore', #ось ординат\n",
    "    color='Loyalty', #расцветка в зависимости от статуса клиента\n",
    "    width=1100,\n",
    "    height=700, \n",
    "    title='Взаимосвязь кредитного рейтинга клиента и его предполагаемой зарплаты в разрезе признака оттока клиентов'\n",
    ")\n",
    "fig.layout.xaxis.title.text = 'Размер предполагаемой зарплаты'\n",
    "fig.layout.yaxis.title.text = 'Кредитный рейтинг'\n",
    "\n",
    "fig.write_image(\"plotly/churn_credit.png\")"
   ]
  },
  {
   "cell_type": "markdown",
   "metadata": {},
   "source": [
    "Вывод:\n",
    "Из данного графика мы видим - что плотность распределения точек всех цветов на графике равномерная. То есть люди имеют высокий кредитный лимит как с маленькой зарплатой так и с большой, и так же низкий кредитный лимит - с маленькой зарплатой и с большой. \n",
    "Распределение кредитного рейтинга относительно предполагаемой зарплаты носит равномерный характер, зависимости не прослеживается ни у лояльных, ни у ушедших клиентов банка."
   ]
  },
  {
   "cell_type": "markdown",
   "metadata": {},
   "source": [
    "### <center>9.6. Кто чаще уходит, мужчины или женщины? Постройте график, который иллюстрирует это."
   ]
  },
  {
   "cell_type": "markdown",
   "metadata": {},
   "source": [
    "Подсказка:\n",
    "Процент ушедших клиентов в каждой группе можно рассчитать как среднее по столбцу Exited (так как 1 — это ушедшие клиенты, а 0 — лояльные, среднее арифметическое по столбцу обозначает долю ушедших клиентов)."
   ]
  },
  {
   "cell_type": "code",
   "execution_count": 35,
   "metadata": {},
   "outputs": [],
   "source": [
    "GendEx = churn_data.groupby('Gender')['Exited'].mean()  # это \"подсказка\"\n",
    "fig = px.pie(GendEx,\n",
    "             names=GendEx.index,\n",
    "             values=GendEx.values,\n",
    "             title='Соотношение в % ушедших мужчин и женщин',\n",
    "             width=550,\n",
    "             height=550,\n",
    "             )\n",
    "\n",
    "fig.write_image(\"plotly/Gender_Loyalty.png\")"
   ]
  },
  {
   "cell_type": "markdown",
   "metadata": {},
   "source": [
    "Вывод:\n",
    "На данном графике можно увидеть, что среди ушедших клиентов больше женщин."
   ]
  },
  {
   "cell_type": "markdown",
   "metadata": {},
   "source": [
    "### <center>9.7. Как отток клиентов зависит от числа приобретённых у банка услуг?"
   ]
  },
  {
   "cell_type": "code",
   "execution_count": 34,
   "metadata": {},
   "outputs": [],
   "source": [
    "#задаем переменную для построения диаграммы\n",
    "copied_df['Loyalty'] = copied_df['Exited'].apply(lambda x: 'loyal' if x==0 else 'lost')\n",
    "group_bar = copied_df.groupby('NumOfProducts')['Exited'].agg(['sum', 'count']).reset_index()\n",
    "group_bar.rename(columns={'sum': 'lost'}, inplace=True)\n",
    "group_bar['loyal'] = group_bar['count'] - group_bar['lost']\n",
    "group_bar.drop('count', axis=1, inplace=True)\n",
    "#строим многоуровневую столбчатую диаграмму зависимости оттока клиентов от числа приобретенных услуг\n",
    "fig = px.bar(\n",
    "    data_frame=group_bar,\n",
    "    x='NumOfProducts',\n",
    "    y=['loyal', 'lost'],\n",
    "    barmode='group',\n",
    "    height=500,\n",
    "    width=900,\n",
    "    title='Зависимость оттока клиентов от числа приобретенных услуг'\n",
    ")\n",
    "fig.layout.xaxis.title = 'Количество услуг банка'\n",
    "fig.layout.yaxis.title = 'Количество клиентов'\n",
    "fig.layout.legend.title = None\n",
    "\n",
    "fig.write_image(\"plotly/NumOfProducts.png\")"
   ]
  },
  {
   "cell_type": "markdown",
   "metadata": {},
   "source": [
    "Вывод:\n",
    "На полученной диаграмме видно, что максимальное количесвто приобретенных услуг было у ушедших клиентов (2 и 3 услуги). \n",
    "Большая часть ушедших клиентов приобретала одну услугу банка. Лояльные клиенты используют одну или две услуги банка.\n",
    "**Можно сделать вывод об имеющихся недостатках в предоставляемых услугах и их качестве.**"
   ]
  },
  {
   "cell_type": "markdown",
   "metadata": {},
   "source": [
    "### <center>9.8. Как влияет наличие статуса активного клиента на отток клиентов? Постройте диаграмму, иллюстрирующую это. Что бы вы предложили банку, чтобы уменьшить отток клиентов среди неактивных?"
   ]
  },
  {
   "cell_type": "code",
   "execution_count": 33,
   "metadata": {},
   "outputs": [],
   "source": [
    "active_member_loyalty = copied_df.groupby('IsActiveMember')['Exited'].agg(['sum', 'count']).reset_index()\n",
    "active_member_loyalty.rename(columns={'sum': 'lost'}, inplace=True)\n",
    "active_member_loyalty['loyal'] = active_member_loyalty['count'] - active_member_loyalty['lost']\n",
    "active_member_loyalty.drop('count', axis=1, inplace=True)\n",
    "active_member_loyalty.loc[0, 'IsActiveMember'] = 'inactive'\n",
    "active_member_loyalty.loc[1, 'IsActiveMember'] = 'active'\n",
    "\n",
    "fig = px.bar(active_member_loyalty, \n",
    "             x=\"IsActiveMember\", \n",
    "             y=[\"loyal\", \"lost\"],\n",
    "             barmode='group',\n",
    "             title='Влияние наличия статуса активного клиента на отток',\n",
    "             width=700,\n",
    "             height=500\n",
    ")\n",
    "fig.layout.xaxis.title = None\n",
    "fig.layout.yaxis.title = 'Количество клиентов'\n",
    "fig.layout.legend.title = None\n",
    "\n",
    "fig.write_image(\"plotly/active_member_loyalty.png\")"
   ]
  },
  {
   "cell_type": "markdown",
   "metadata": {},
   "source": [
    "Вывод:\n",
    "Из выше предоставленной диграммы становится понятно, что статус активного клиента вляет на отток следующим образом: среди активных клиентов число ушедших меньше, чем среди клиентов без статуса активный. Следует пересммотреть условия или программу лояльности для клиентов без наличия статуса активный. Можно предложить банку развивать доп. сервисы - введение различных бонусов за операции по карте: кэшбэк, процент на остаток по расчетному счету, бонусы на приобретение услуг у партнеров, - а также развитием сервиса по проведению различных платежей - страховки, билеты, переводы, оплаьа услуг ЖКХ без комиссии, предоставлением удобного доступа к различным финансовым инструментам (инвестиции)."
   ]
  },
  {
   "cell_type": "markdown",
   "metadata": {},
   "source": [
    "### <center>9.9. В какой стране доля ушедших клиентов больше? Постройте тепловую картограмму, которая покажет это соотношение на карте мира."
   ]
  },
  {
   "cell_type": "code",
   "execution_count": 32,
   "metadata": {},
   "outputs": [],
   "source": [
    "country_loyalty = copied_df.groupby('Geography', as_index=False)['Exited'].mean()\n",
    "country_loyalty['Lost rate, %'] = country_loyalty['Exited'] * 100\n",
    "\n",
    "fig = px.choropleth(\n",
    "    data_frame=country_loyalty, \n",
    "    locations=\"Geography\", \n",
    "    locationmode = \"country names\", \n",
    "    color=\"Lost rate, %\", \n",
    "    range_color=[0, 40],\n",
    "    title='Распределение оттока клиентов по странам', \n",
    "    scope='europe',\n",
    "    fitbounds='locations',\n",
    "    width=800, \n",
    "    height=800,\n",
    "    color_continuous_scale='Greens'\n",
    ")\n",
    "\n",
    "fig.write_image(\"plotly/country_loyalty.png\")\n"
   ]
  },
  {
   "cell_type": "markdown",
   "metadata": {},
   "source": [
    "Вывод:\n",
    "Наибольший отток клиентов в Германии: более 30%. Возможно в Германии есть большая конкуренция, другие банки предлагают более выгодные условия."
   ]
  },
  {
   "cell_type": "markdown",
   "metadata": {},
   "source": [
    "### <center>9.10.Найдите на тепловой карте категории клиентов, которые уходят чаще всего."
   ]
  },
  {
   "cell_type": "markdown",
   "metadata": {},
   "source": [
    "Переведите числовой признак CreditScore в категориальный. Для этого воспользуйтесь функцией get_credit_score_cat(), которая приведена ниже. Примените её к столбцу CreditScore и создайте новый признак CreditScoreCat — категории кредитного рейтинга."
   ]
  },
  {
   "cell_type": "code",
   "execution_count": 18,
   "metadata": {},
   "outputs": [
    {
     "data": {
      "text/plain": [
       "Good         3703\n",
       "Poor         2434\n",
       "Fair         2281\n",
       "Excellent     950\n",
       "Very_Poor     632\n",
       "Name: CreditScoreCat, dtype: int64"
      ]
     },
     "execution_count": 18,
     "metadata": {},
     "output_type": "execute_result"
    }
   ],
   "source": [
    "def get_credit_score_cat(credit_score):\n",
    "    if credit_score >= 300 and credit_score < 500:\n",
    "        return \"Very_Poor\"\n",
    "    elif credit_score >= 500 and credit_score < 601:\n",
    "        return \"Poor\"\n",
    "    elif credit_score >= 601 and credit_score < 661:\n",
    "        return \"Fair\"\n",
    "    elif credit_score >= 661 and credit_score < 781:\n",
    "        return \"Good\"\n",
    "    elif credit_score >= 781 and credit_score < 851:\n",
    "        return \"Excellent\"\n",
    "    elif credit_score >= 851:\n",
    "        return \"Top\"\n",
    "    elif credit_score < 300:\n",
    "        return \"Deep\"\n",
    "copied_df['CreditScoreCat'] = copied_df['CreditScore'].apply(get_credit_score_cat)\n",
    "copied_df['CreditScoreCat'].value_counts()\n"
   ]
  },
  {
   "cell_type": "markdown",
   "metadata": {},
   "source": [
    "Постройте сводную таблицу, строками которой являются категории кредитного рейтинга (CreditScoreCat), а столбцами — количество лет, в течение которых клиент пользуется услугами банка (Tenure). В ячейках сводной таблицы должно находиться среднее по признаку оттока (Exited) — доля ушедших пользователей."
   ]
  },
  {
   "cell_type": "code",
   "execution_count": 31,
   "metadata": {},
   "outputs": [],
   "source": [
    "credit_score_cat_loyalty = copied_df.pivot_table(\n",
    "    values='Exited',\n",
    "    index='CreditScoreCat',\n",
    "    columns='Tenure',\n",
    ")\n",
    "credit_score_cat_loyalty = (credit_score_cat_loyalty * 100).round(1)\n",
    "fig = px.imshow(\n",
    "    credit_score_cat_loyalty, \n",
    "    text_auto=True,\n",
    "    title='Тепловая карта категории клиентов в зависимости от кредитного рейтинга и клиентского стажа',\n",
    "    labels=dict(x='Стаж клиента в банке, лет', y='Категория кредитного рейтинга', color='Lost share %')\n",
    ")\n",
    "\n",
    "\n",
    "fig.write_image(\"plotly/credit_score_cat_loyalty.png\")\n"
   ]
  },
  {
   "cell_type": "markdown",
   "metadata": {},
   "source": [
    "Вывод:\n",
    "Чаще всего банк покидают новые клиенты с низким кредитным рейтингом 0 лет. Следующими по частоте банк покидают клиенты со средним сроком обслуживания 4 года и наибольшим 10 лет, и так же с низким кредитным рейтингом. Также довольно большой отток у клиентов с прекрасным рейтингом и стажем 0 или 9 лет. Можно заметить, что отток более \"стабилен\" по годам для средних показателей рейтинга, в то время как у клиентов с очень плохим или наоборот, прекрасным рейтингом отток резко колеблется от минимума к максимуму в зависимости от количества лет.\n"
   ]
  },
  {
   "cell_type": "markdown",
   "metadata": {},
   "source": [
    "**Итог:**\n",
    "**Четвёртая часть клиентов со значительными балансами на счетах(38-131 тыс.дол), возраст 38-51 год, большинство из них - женщины. Большая часть ушедшх клиентов из Германии. Также в основном приобретали 1 услугу, имели неактивный статус. Пользовались банком первый год или 9 и более лет с очень низким и самым высоким кредитным рейтингом, также на 3-4 год при низком кредитном рейтинге.** \n",
    "**Это может указывать на недостатки клиентского сервиса, качество, условия предоставления продуктов и услуг банка, отсутствием поощрений за долгосрочное сотрудничество, ориентированность на привлечение новых клиентов, отсутствием достаточного внимания к запросам уже имеющихся клиентов, отсутствие развития новых направлений банкинга.**"
   ]
  }
 ],
 "metadata": {
  "kernelspec": {
   "display_name": "Python 3.10.5 64-bit",
   "language": "python",
   "name": "python3"
  },
  "language_info": {
   "codemirror_mode": {
    "name": "ipython",
    "version": 3
   },
   "file_extension": ".py",
   "mimetype": "text/x-python",
   "name": "python",
   "nbconvert_exporter": "python",
   "pygments_lexer": "ipython3",
   "version": "3.10.5"
  },
  "orig_nbformat": 4,
  "vscode": {
   "interpreter": {
    "hash": "a8698f73bc8614c8f1502f26e9b5373a6966bd4b4d74167ce8954941b9f8a95f"
   }
  }
 },
 "nbformat": 4,
 "nbformat_minor": 2
}
