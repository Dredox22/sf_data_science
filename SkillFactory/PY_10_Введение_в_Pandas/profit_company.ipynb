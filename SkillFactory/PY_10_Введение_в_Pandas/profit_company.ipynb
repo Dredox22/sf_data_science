{
 "cells": [
  {
   "cell_type": "code",
   "execution_count": 3,
   "metadata": {},
   "outputs": [
    {
     "name": "stdout",
     "output_type": "stream",
     "text": [
      "-74\n"
     ]
    }
   ],
   "source": [
    "# Мы работаем аналитиком в компании ScienceYou.\n",
    "# Наша задача — проанализировать чистую прибыль(Разница между доходами и расходами нашей компании за определенный год).\n",
    "# Доходы (incomes), расходы (expenses) и годы (years), соответствующие им, предоставлены вам в виде списков.\n",
    "# Например:\n",
    "# incomes  = [478, 512, 196]\n",
    "# expenses = [156, 130, 270]\n",
    "# years    = [2018, 2019, 2020]\n",
    "\n",
    "import pandas as pd\n",
    "\n",
    "def create_companyDF(incomes, expenses, years):\n",
    "    # Создаем функцию create_companyDF(incomes, expenses, years),\n",
    "    # которая  возвращает DataFrame, составленный из входных данных\n",
    "    # со столбцами Incomes и Expenses и индексами,\n",
    "    # соответствующими годам рассматриваемого периода.\n",
    "    #Пример такого DataFrame представлен ниже:\n",
    "    #      Incomes\tExpenses\n",
    "    #2018\t478\t      156\n",
    "    #2019\t512\t      130\n",
    "    #2020\t196\t      270\n",
    "    df = pd.DataFrame({\n",
    "        'Incomes': incomes,\n",
    "        'Expenses': expenses\n",
    "        },\n",
    "        index = years\n",
    "    )\n",
    "    return df\n",
    "def get_profit(df, year):\n",
    "    # Также напишем функцию get_profit(df, year), которая возвращает разницу между доходом и расходом,\n",
    "    # записанными в таблице df, за год year. Учтём, что если информация за запрашиваемый год не указана\n",
    "    # в нашей таблице, нам необходимо вернуть None.\n",
    "    # Для проверки вхождения запрашиваемого года в перечень индексов таблицы yам поможет атрибут df.index,\n",
    "    # который возвращает список индексов таблицы.\n",
    "    if year in df.index:\n",
    "        profit = df.loc[year, 'Incomes'] - df.loc[year, 'Expenses']\n",
    "    else:\n",
    "        profit=None\n",
    "    return profit\n",
    "\n",
    "if __name__ == '__main__':\n",
    "    expenses = [156, 130, 270]\n",
    "    incomes = [478, 512, 196]\n",
    "    years = [2018, 2019, 2020]\n",
    "    \n",
    "    scienceyou = create_companyDF(incomes, expenses, years)\n",
    "    print(get_profit(scienceyou, 2020)) \n",
    "    # Расчитаем чистую прибыль компании ScienceYou за 2020 год, получим : -74\n"
   ]
  }
 ],
 "metadata": {
  "kernelspec": {
   "display_name": "Python 3.10.5 64-bit",
   "language": "python",
   "name": "python3"
  },
  "language_info": {
   "codemirror_mode": {
    "name": "ipython",
    "version": 3
   },
   "file_extension": ".py",
   "mimetype": "text/x-python",
   "name": "python",
   "nbconvert_exporter": "python",
   "pygments_lexer": "ipython3",
   "version": "3.10.5"
  },
  "orig_nbformat": 4,
  "vscode": {
   "interpreter": {
    "hash": "a8698f73bc8614c8f1502f26e9b5373a6966bd4b4d74167ce8954941b9f8a95f"
   }
  }
 },
 "nbformat": 4,
 "nbformat_minor": 2
}
