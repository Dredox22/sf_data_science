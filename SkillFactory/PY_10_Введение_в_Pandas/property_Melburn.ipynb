{
 "cells": [
  {
   "cell_type": "code",
   "execution_count": 4,
   "metadata": {},
   "outputs": [
    {
     "name": "stdout",
     "output_type": "stream",
     "text": [
      "1310000.0\n",
      "10/09/2016\n",
      "3\n"
     ]
    }
   ],
   "source": [
    "# Данные, с которыми мы будем работать — это обработанный датасет \n",
    "# об объектах недвижимости в Мельбурне (Австралия) и его пригородах\n",
    "# с учебного соревнования по анализу данных на Kaggle https://www.kaggle.com/dansbecker/melbourne-housing-snapshot\n",
    "# Прочитаем наши данные о недвижимости из csv-файла и запишем результирующий DataFrame в переменную melb_data:\n",
    "\n",
    "import pandas as pd\n",
    "melb_data = pd.read_csv('data/melb_data.csv', sep=',')\n",
    "\n",
    "# Найдем цену объекта недвижимости под индексом 15\n",
    "\n",
    "print(melb_data.loc[15, 'Price'])\n",
    "\n",
    "# Узнаем когда был продан объект под индексом 90\n",
    "\n",
    "print(melb_data.loc[90, 'Date'])\n",
    "\n",
    "# Вычислим во сколько раз площадь прилегающей территории, на которой находится здание с индексом 3521,\n",
    "# больше площади участка, на котором находится здание с индексом 1690\n",
    "\n",
    "print(round(melb_data.loc[3521, 'Landsize'] / melb_data.loc[1690, 'Landsize']))"
   ]
  }
 ],
 "metadata": {
  "kernelspec": {
   "display_name": "Python 3.10.5 64-bit",
   "language": "python",
   "name": "python3"
  },
  "language_info": {
   "codemirror_mode": {
    "name": "ipython",
    "version": 3
   },
   "file_extension": ".py",
   "mimetype": "text/x-python",
   "name": "python",
   "nbconvert_exporter": "python",
   "pygments_lexer": "ipython3",
   "version": "3.10.5"
  },
  "orig_nbformat": 4,
  "vscode": {
   "interpreter": {
    "hash": "a8698f73bc8614c8f1502f26e9b5373a6966bd4b4d74167ce8954941b9f8a95f"
   }
  }
 },
 "nbformat": 4,
 "nbformat_minor": 2
}
