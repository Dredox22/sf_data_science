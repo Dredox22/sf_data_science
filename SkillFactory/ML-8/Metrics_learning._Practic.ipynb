{
 "cells": [
  {
   "attachments": {},
   "cell_type": "markdown",
   "metadata": {
    "id": "a3YKMUpgSmtW"
   },
   "source": [
    "# Metrics learning. Практика."
   ]
  },
  {
   "attachments": {},
   "cell_type": "markdown",
   "metadata": {
    "id": "YLED39aLmZzT"
   },
   "source": [
    "В данном задании нам предстоит кластеризовать клиентов банка по характеру финансового поведения с продуктом банка (кредитная карта). "
   ]
  },
  {
   "attachments": {},
   "cell_type": "markdown",
   "metadata": {
    "id": "j6IddiYamZzX"
   },
   "source": [
    "## Загрузим необходимые данные и библиотеки"
   ]
  },
  {
   "cell_type": "code",
   "execution_count": null,
   "metadata": {
    "_cell_guid": "b1076dfc-b9ad-4769-8c92-a6c4dae69d19",
    "_uuid": "8f2839f25d086af736a60e9eeb907d3b93b6e0e5",
    "id": "zoRu9Fc-mZzY",
    "tags": []
   },
   "outputs": [],
   "source": [
    "import numpy as np \n",
    "import pandas as pd \n",
    "import matplotlib.pyplot as plt\n",
    "import seaborn as sns\n",
    "from sklearn.preprocessing import StandardScaler\n",
    "from sklearn.cluster import KMeans\n",
    "from sklearn.decomposition import PCA\n",
    "from sklearn.metrics.pairwise import cosine_similarity\n",
    "\n",
    "import warnings\n",
    "warnings.filterwarnings(action=\"ignore\")"
   ]
  },
  {
   "cell_type": "code",
   "execution_count": null,
   "metadata": {
    "id": "IYdTHLyhmZzZ",
    "tags": []
   },
   "outputs": [],
   "source": [
    "data= pd.read_csv(\"data/CC GENERAL.csv\")\n",
    "print(data.shape)\n",
    "data.head()"
   ]
  },
  {
   "attachments": {},
   "cell_type": "markdown",
   "metadata": {
    "id": "yysmOJ4EmZza"
   },
   "source": [
    "## Обработка данных"
   ]
  },
  {
   "attachments": {},
   "cell_type": "markdown",
   "metadata": {
    "id": "wTrNgt7KmZzb"
   },
   "source": [
    "Посмотрим на статистики, вызвав метод desribe."
   ]
  },
  {
   "cell_type": "code",
   "execution_count": null,
   "metadata": {
    "id": "Isv_LyFFmZzb",
    "tags": []
   },
   "outputs": [],
   "source": [
    "data.describe()"
   ]
  },
  {
   "attachments": {},
   "cell_type": "markdown",
   "metadata": {
    "id": "8OgaL3kFmZzc"
   },
   "source": [
    "Видим много выбросов, постараемся избавится от них, сделав диапазоны значений для различных колонок."
   ]
  },
  {
   "attachments": {},
   "cell_type": "markdown",
   "metadata": {
    "id": "0xD-42RlmZzc"
   },
   "source": [
    "## Работа с пропусками"
   ]
  },
  {
   "attachments": {},
   "cell_type": "markdown",
   "metadata": {
    "id": "HQLQG2mbmZzd"
   },
   "source": [
    "### Задание 8.1\n",
    "Выведите количество пропусков. количество пропусков в признаке `MINIMUM_PAYMENTS` используйте как ответ на задание 8.1"
   ]
  },
  {
   "cell_type": "code",
   "execution_count": null,
   "metadata": {
    "id": "5ekZ7h8lmZzd",
    "tags": []
   },
   "outputs": [],
   "source": [
    "#Ваш код здесь"
   ]
  },
  {
   "attachments": {},
   "cell_type": "markdown",
   "metadata": {
    "id": "3DWQHYA8mZze"
   },
   "source": [
    "Заполните значения `MINIMUM_PAYMENTS`, `CREDIT_LIMIT` средним значением:"
   ]
  },
  {
   "cell_type": "code",
   "execution_count": null,
   "metadata": {
    "id": "8zdpaLermZze",
    "tags": []
   },
   "outputs": [],
   "source": [
    "data.loc[(data['MINIMUM_PAYMENTS'].isnull()==True),'MINIMUM_PAYMENTS']=data['MINIMUM_PAYMENTS'].mean() # ваш код здесь  \n",
    "data.loc[(data['CREDIT_LIMIT'].isnull()==True),'CREDIT_LIMIT']= data['CREDIT_LIMIT'].mean() #ваш код "
   ]
  },
  {
   "attachments": {},
   "cell_type": "markdown",
   "metadata": {
    "id": "c0VDfsuBmZze"
   },
   "source": [
    "Проверим еще раз, что пропусков более нет"
   ]
  },
  {
   "cell_type": "code",
   "execution_count": null,
   "metadata": {
    "id": "rhGBjzDlmZzf",
    "tags": []
   },
   "outputs": [],
   "source": [
    "# ваш код здесь"
   ]
  },
  {
   "attachments": {},
   "cell_type": "markdown",
   "metadata": {
    "id": "M3BW-gS_mZzf"
   },
   "source": [
    "\n",
    "## Работа с выбросами\n",
    "\n",
    "Для работы с выбросами сделаем диапазоновые значения признаков, для этого будем использовать функцию"
   ]
  },
  {
   "cell_type": "code",
   "execution_count": null,
   "metadata": {
    "id": "tv-QmzGdmZzf",
    "tags": []
   },
   "outputs": [],
   "source": [
    "def add_range(df, columns, range_list, onesided = True):\n",
    "    for column in columns:\n",
    "        name = column + '_range'\n",
    "        df[name] = 0\n",
    "        for i in range(len(range_list)-1):\n",
    "            df.loc[(df[column] > range_list[i])&(df[column] <= range_list[i+1]), name] = i+1\n",
    "            if onesided:\n",
    "                df.loc[(df[column] >range_list[-1]), name] = len(range_list)\n",
    "    df.drop(columns, axis = 1, inplace = True)"
   ]
  },
  {
   "cell_type": "code",
   "execution_count": null,
   "metadata": {
    "id": "mdK6AcjPmZzg",
    "tags": []
   },
   "outputs": [],
   "source": [
    "add_range(data,['BALANCE', 'PURCHASES', 'ONEOFF_PURCHASES', 'INSTALLMENTS_PURCHASES', 'CASH_ADVANCE', 'CREDIT_LIMIT',\n",
    "        'PAYMENTS', 'MINIMUM_PAYMENTS'], [0,500,1000,3000,5000,10000])"
   ]
  },
  {
   "cell_type": "code",
   "execution_count": null,
   "metadata": {
    "id": "mLQXdjoXmZzg",
    "tags": []
   },
   "outputs": [],
   "source": [
    "add_range(data,['BALANCE_FREQUENCY', 'PURCHASES_FREQUENCY', 'ONEOFF_PURCHASES_FREQUENCY', 'PURCHASES_INSTALLMENTS_FREQUENCY', \n",
    "         'CASH_ADVANCE_FREQUENCY', 'PRC_FULL_PAYMENT'] , np.linspace(0,1,11),onesided=False)"
   ]
  },
  {
   "cell_type": "code",
   "execution_count": null,
   "metadata": {
    "id": "omuCFv8TmZzg",
    "tags": []
   },
   "outputs": [],
   "source": [
    "add_range(data,['PURCHASES_TRX', 'CASH_ADVANCE_TRX'] ,[0,5,10,15,20,30,50,100] ,onesided=False)"
   ]
  },
  {
   "cell_type": "code",
   "execution_count": null,
   "metadata": {
    "id": "jumkU29LmZzh",
    "tags": []
   },
   "outputs": [],
   "source": [
    "data.drop(['CUST_ID'], axis=1, inplace=True)\n",
    "\n",
    "X= np.asarray(data)"
   ]
  },
  {
   "attachments": {},
   "cell_type": "markdown",
   "metadata": {
    "id": "t86RFcxFmZzh"
   },
   "source": [
    "### Стандартизация данных"
   ]
  },
  {
   "cell_type": "code",
   "execution_count": null,
   "metadata": {
    "id": "Idz-FOfXmZzh",
    "tags": []
   },
   "outputs": [],
   "source": [
    "scale = StandardScaler()\n",
    "X = scale.fit_transform(X)\n",
    "X.shape"
   ]
  },
  {
   "attachments": {},
   "cell_type": "markdown",
   "metadata": {
    "id": "XGWFRngHmZzh"
   },
   "source": [
    "Определимся с количеством кластеров"
   ]
  },
  {
   "attachments": {},
   "cell_type": "markdown",
   "metadata": {
    "id": "vhMNKVgwmZzi"
   },
   "source": [
    "### Задание 8.2\n",
    "Используя `KElbowVisualizer` из модуля `yellowbrick.cluster` определите оптимальное количество кластеров. Для этого на вход `KElbowVisualizer` подайте модель `Kmeans`, максимальное количество кластеров следует ограничить до `k=20`. Ответом на задание является количество кластеров. "
   ]
  },
  {
   "cell_type": "code",
   "execution_count": null,
   "metadata": {
    "id": "Bs_PacMOmZzi"
   },
   "outputs": [],
   "source": [
    "from yellowbrick.cluster import KElbowVisualizer\n",
    "\n",
    "#ваш код"
   ]
  },
  {
   "attachments": {},
   "cell_type": "markdown",
   "metadata": {
    "id": "SHeCixQ0mZzi"
   },
   "source": [
    "Для корректной работы в дальнейшем предлагается внести ответ в качестве переменной"
   ]
  },
  {
   "cell_type": "code",
   "execution_count": null,
   "metadata": {
    "id": "nrRHGVdzmZzi",
    "tags": []
   },
   "outputs": [],
   "source": [
    "k_clust = # сюда вставить ответ на задачу 8.2"
   ]
  },
  {
   "attachments": {},
   "cell_type": "markdown",
   "metadata": {
    "id": "1AdB_YbkmZzj"
   },
   "source": [
    "## Кластеризация"
   ]
  },
  {
   "attachments": {},
   "cell_type": "markdown",
   "metadata": {
    "id": "m9QxdnPZmZzj"
   },
   "source": [
    "Обучите модель `Kmeans`с количеством кластеров, полученном в задании 6.2, с помощью метода"
   ]
  },
  {
   "cell_type": "code",
   "execution_count": null,
   "metadata": {
    "id": "2OMRiVFGmZzj",
    "tags": []
   },
   "outputs": [],
   "source": [
    "kmean= KMeans(k_clust)\n",
    "kmean.fit(X) \n",
    "labels=kmean.labels_"
   ]
  },
  {
   "cell_type": "code",
   "execution_count": null,
   "metadata": {
    "id": "auwdxvL6mZzj",
    "tags": []
   },
   "outputs": [],
   "source": [
    "clusters=pd.concat([data, pd.DataFrame({'cluster':labels})], axis=1)\n",
    "clusters.head()"
   ]
  },
  {
   "attachments": {},
   "cell_type": "markdown",
   "metadata": {
    "id": "WuOsw3xkmZzj"
   },
   "source": [
    "## Анализ результатов кластеризации"
   ]
  },
  {
   "cell_type": "code",
   "execution_count": null,
   "metadata": {
    "id": "V_3rBuPCmZzj",
    "tags": []
   },
   "outputs": [],
   "source": [
    "#раскомментируйте код для получения информации о распределениях признаков для каждого кластера\n",
    "# for c in clusters:\n",
    "#     grid= sns.FacetGrid(clusters, col='cluster')\n",
    "#     grid.map(plt.hist, c)"
   ]
  },
  {
   "attachments": {},
   "cell_type": "markdown",
   "metadata": {
    "id": "11SwzmglmZzj"
   },
   "source": [
    "#### Место для ваших выводов"
   ]
  },
  {
   "attachments": {},
   "cell_type": "markdown",
   "metadata": {
    "id": "uHxf5eLamZzk"
   },
   "source": [
    "Визуализируем кластеры, предварительно уменьшив разменость с помощью PCA до 2-х\n"
   ]
  },
  {
   "cell_type": "code",
   "execution_count": null,
   "metadata": {
    "id": "SJDHvG0ymZzk",
    "tags": []
   },
   "outputs": [],
   "source": [
    "pca = PCA(2)\n",
    "pca.fit(X)\n",
    "X_PCA = pca.transform(X)\n",
    "X_PCA.shape"
   ]
  },
  {
   "attachments": {},
   "cell_type": "markdown",
   "metadata": {
    "id": "CI9CtnWdmZzk"
   },
   "source": [
    "### Задача 8.3 \n",
    "C помощью атрибута `explained_variance_ratio_` выведите процент объясненной дисперсии по обоим из осей. В качестве ответа внесите максимальное значение, округленное до десятых."
   ]
  },
  {
   "cell_type": "code",
   "execution_count": null,
   "metadata": {
    "id": "LGWYcts8mZzk"
   },
   "outputs": [],
   "source": [
    "# ваш код здесь"
   ]
  },
  {
   "cell_type": "code",
   "execution_count": null,
   "metadata": {
    "id": "Uv21FS4ZmZzk",
    "tags": []
   },
   "outputs": [],
   "source": [
    "x, y = X_PCA[:, 0], X_PCA[:, 1]\n",
    "\n",
    "colors = {0: 'red',\n",
    "          1: 'blue',\n",
    "          2: 'green', \n",
    "          3: 'yellow', \n",
    "          4: 'orange',  \n",
    "          5:'purple',\n",
    "          6:'fuchsia',\n",
    "          7:'pink'}\n",
    "\n",
    "names = {i: f'cluster {i+1}' for i in range(k_clust)}\n",
    "  \n",
    "df = pd.DataFrame({'x': x, 'y':y, 'label':labels}) \n",
    "groups = df.groupby('label')\n",
    "\n",
    "fig, ax = plt.subplots(figsize=(20, 13)) \n",
    "\n",
    "for name, group in groups:\n",
    "    ax.plot(group.x, group.y, marker='o', linestyle='', ms=5,\n",
    "            color=colors[name],label=names[name], mec='none')\n",
    "    ax.set_aspect('auto')\n",
    "    ax.tick_params(axis='x',which='both',bottom='off',top='off',labelbottom='off')\n",
    "    ax.tick_params(axis= 'y',which='both',left='off',top='off',labelleft='off')\n",
    "    \n",
    "ax.legend()\n",
    "ax.set_title(\"Customers Segmentation based on their Credit Card usage bhaviour.\")\n",
    "plt.show()"
   ]
  },
  {
   "attachments": {},
   "cell_type": "markdown",
   "metadata": {
    "id": "Zz2pncUXmZzl"
   },
   "source": [
    "Как мы видим, результат достаточно неочевидный, для более красивой визуализации вычислим косинусное расстояние от исходных данных и применим к ним PCA."
   ]
  },
  {
   "attachments": {},
   "cell_type": "markdown",
   "metadata": {
    "id": "9nPhBZcFmZzl"
   },
   "source": [
    "Напомним, что косинусное расстояние имеет вид: $$1 - \\frac{u  v}{||u||||v||}$$\n",
    "В модуле `sklearn.metrics.pairwise` реализовано вычитаемое в данной разнице в функции `cosine_similarity` предлагается реализовать функцию `cos_dist` косинусного расстояния на основе данной встроенной функции."
   ]
  },
  {
   "cell_type": "code",
   "execution_count": null,
   "metadata": {
    "id": "RL5Ps79ymZzl",
    "tags": []
   },
   "outputs": [],
   "source": [
    "def cos_dist(X):\n",
    "     return 1 - cosine_similarity(X) # здесь реализация"
   ]
  },
  {
   "cell_type": "code",
   "execution_count": null,
   "metadata": {
    "id": "na_J4pC6mZzl",
    "tags": []
   },
   "outputs": [],
   "source": [
    "dist =cos_dist(X)\n",
    "\n",
    "pca = PCA(2)\n",
    "pca.fit(dist)\n",
    "X_PCA = pca.transform(dist)\n",
    "X_PCA.shape"
   ]
  },
  {
   "attachments": {},
   "cell_type": "markdown",
   "metadata": {
    "id": "9ubao6FFmZzl"
   },
   "source": [
    "### Задача 8.4 \n",
    "С помощью атрибута `explained_variance_ratio_` выведите процент объясненной дисперсии по обоим из осей после применения **косинусного значения**. В качестве ответа внесите максимальное значение, округленное до десятых."
   ]
  },
  {
   "cell_type": "code",
   "execution_count": null,
   "metadata": {
    "id": "vmgChYy2mZzl"
   },
   "outputs": [],
   "source": [
    "#ваш код"
   ]
  },
  {
   "cell_type": "code",
   "execution_count": null,
   "metadata": {
    "id": "Y0tOhKYvmZzl"
   },
   "outputs": [],
   "source": [
    "x, y = X_PCA[:, 0], X_PCA[:, 1]\n",
    "\n",
    "colors = {0: 'red',\n",
    "          1: 'blue',\n",
    "          2: 'green', \n",
    "          3: 'yellow', \n",
    "          4: 'orange',  \n",
    "          5:'purple',\n",
    "          6:'fuchsia',\n",
    "          7:'pink'}\n",
    "\n",
    "names = {i: f'cluster {i+1}' for i in range(k_clust)}\n",
    "  \n",
    "df = pd.DataFrame({'x': x, 'y':y, 'label':labels}) \n",
    "groups = df.groupby('label')\n",
    "fig, ax = plt.subplots(figsize=(20, 13)) \n",
    "\n",
    "for name, group in groups:\n",
    "    ax.plot(group.x, group.y, marker='o', linestyle='', ms=5,\n",
    "            color=colors[name],label=names[name], mec='none')\n",
    "    ax.set_aspect('auto')\n",
    "    ax.tick_params(axis='x',which='both',bottom='off',top='off',labelbottom='off')\n",
    "    ax.tick_params(axis= 'y',which='both',left='off',top='off',labelleft='off')\n",
    "    \n",
    "ax.legend()\n",
    "ax.set_title(\"Customers Segmentation based on their Credit Card usage bhaviour.\")\n",
    "plt.show()"
   ]
  },
  {
   "attachments": {},
   "cell_type": "markdown",
   "metadata": {
    "id": "f9TTPsNkmZzm"
   },
   "source": [
    "Визуализация получилась гораздо разборчивее!"
   ]
  },
  {
   "attachments": {},
   "cell_type": "markdown",
   "metadata": {
    "id": "B7Rlf68BmZzm"
   },
   "source": [
    "### Задача 8.5\n",
    "Что вы можете сказать о визуализации кластеров после преобразования с помощью косинусного расстояния:\n",
    "* ничего не изменилось\n",
    "* кластера стали сильнее различимы\n",
    "* картина кластеров приняла форму эллипса\n",
    "* картина кластеров  приняла форму квадрата\n"
   ]
  },
  {
   "attachments": {},
   "cell_type": "markdown",
   "metadata": {
    "id": "YTl5T2ExmZzm"
   },
   "source": [
    "## Выводы\n",
    "В данном задании мы на практике:\n",
    "* определили оптимальное количество кластеров\n",
    "* решили задачу кластеризации\n",
    "* попробовали описать характерные зависимости для каждого кластера\n",
    "* попробовали снизить размерность до 2-х мерной с помощью PCA\n",
    "* преобразовали данные для лучшей визуализации с помощью косинусного расстояния."
   ]
  }
 ],
 "metadata": {
  "colab": {
   "collapsed_sections": [],
   "name": "ML-8. Metrics learning. Practic.ipynb",
   "provenance": []
  },
  "kernelspec": {
   "display_name": "Python 3 (ipykernel)",
   "language": "python",
   "name": "python3"
  },
  "language_info": {
   "codemirror_mode": {
    "name": "ipython",
    "version": 3
   },
   "file_extension": ".py",
   "mimetype": "text/x-python",
   "name": "python",
   "nbconvert_exporter": "python",
   "pygments_lexer": "ipython3",
   "version": "3.9.7"
  },
  "nteract": {
   "version": "0.28.0"
  }
 },
 "nbformat": 4,
 "nbformat_minor": 4
}
