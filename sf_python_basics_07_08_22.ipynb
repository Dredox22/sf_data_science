{
  "nbformat": 4,
  "nbformat_minor": 0,
  "metadata": {
    "colab": {
      "provenance": [],
      "include_colab_link": true
    },
    "kernelspec": {
      "display_name": "Python 3",
      "language": "python",
      "name": "python3"
    },
    "language_info": {
      "codemirror_mode": {
        "name": "ipython",
        "version": 3
      },
      "file_extension": ".py",
      "mimetype": "text/x-python",
      "name": "python",
      "nbconvert_exporter": "python",
      "pygments_lexer": "ipython3",
      "version": "3.8.3"
    }
  },
  "cells": [
    {
      "cell_type": "markdown",
      "metadata": {
        "id": "view-in-github",
        "colab_type": "text"
      },
      "source": [
        "<a href=\"https://colab.research.google.com/github/Dredox22/sf_data_science/blob/main/sf_python_basics_07_08_22.ipynb\" target=\"_parent\"><img src=\"https://colab.research.google.com/assets/colab-badge.svg\" alt=\"Open In Colab\"/></a>"
      ]
    },
    {
      "cell_type": "markdown",
      "metadata": {
        "id": "yVALumcwE-0Z"
      },
      "source": [
        "\n",
        "# Основы Python"
      ]
    },
    {
      "cell_type": "markdown",
      "metadata": {
        "id": "edQI-m-cCgpV"
      },
      "source": [
        "Булыгин Олег  \n",
        "\n",
        "* [LinkedIn](linkedin.com/in/obulygin)  \n",
        "* [Моя группа в ТГ по Python](https://t.me/solidtalk)"
      ]
    },
    {
      "cell_type": "markdown",
      "metadata": {
        "id": "RY8a8l1tFWSo"
      },
      "source": [
        "## План занятия"
      ]
    },
    {
      "cell_type": "markdown",
      "metadata": {
        "id": "r9zAJM26E5S6"
      },
      "source": [
        "\n",
        "План занятия\n",
        "1. PEP\n",
        "2. Вспомним про базовые типы данных и приведение типов\n",
        "3. Числовой тип\n",
        "4. Переменные\n",
        "5. Пользовательский ввод\n",
        "6. Строковый тип\n",
        "\n"
      ]
    },
    {
      "cell_type": "markdown",
      "metadata": {
        "id": "yeFs_dLk5YJW"
      },
      "source": [
        "## PEP\n",
        "\n",
        "PEP (python enhanced proposal — заявки на улучшение языка python)."
      ]
    },
    {
      "cell_type": "markdown",
      "metadata": {
        "id": "hQ_c5hAl5eNt"
      },
      "source": [
        "PEP20 – Zen of Python\n",
        "\n",
        "Python придерживается философии, которую сформулировал Тим Петерс в 19 принципах. Её текст выдаётся интерпретатором Python по команде `import this`."
      ]
    },
    {
      "cell_type": "code",
      "metadata": {
        "id": "ANmgIu_25FK9",
        "colab": {
          "base_uri": "https://localhost:8080/"
        },
        "outputId": "72be446d-aaa9-4526-97fa-714c2526752e"
      },
      "source": [
        "import this"
      ],
      "execution_count": null,
      "outputs": [
        {
          "output_type": "stream",
          "name": "stdout",
          "text": [
            "The Zen of Python, by Tim Peters\n",
            "\n",
            "Beautiful is better than ugly.\n",
            "Explicit is better than implicit.\n",
            "Simple is better than complex.\n",
            "Complex is better than complicated.\n",
            "Flat is better than nested.\n",
            "Sparse is better than dense.\n",
            "Readability counts.\n",
            "Special cases aren't special enough to break the rules.\n",
            "Although practicality beats purity.\n",
            "Errors should never pass silently.\n",
            "Unless explicitly silenced.\n",
            "In the face of ambiguity, refuse the temptation to guess.\n",
            "There should be one-- and preferably only one --obvious way to do it.\n",
            "Although that way may not be obvious at first unless you're Dutch.\n",
            "Now is better than never.\n",
            "Although never is often better than *right* now.\n",
            "If the implementation is hard to explain, it's a bad idea.\n",
            "If the implementation is easy to explain, it may be a good idea.\n",
            "Namespaces are one honking great idea -- let's do more of those!\n"
          ]
        }
      ]
    },
    {
      "cell_type": "markdown",
      "metadata": {
        "id": "9G-RZWKR5t71"
      },
      "source": [
        "PEP8\n",
        "\n",
        "PEP8 – соглашение о том, как писать код для языка python.\n",
        "Ключевая идея такова: код читается намного больше раз, чем пишется. Собственно, рекомендации о стиле написания кода направлены на то, чтобы улучшить читаемость кода и сделать его согласованным между большим числом проектов. В идеале, весь код будет написан в едином стиле, и любой сможет легко его прочесть.\n",
        "\n",
        "https://pythonworld.ru/osnovy/pep-8-rukovodstvo-po-napisaniyu-koda-na-python.html\n",
        "\n",
        "http://pep8online.com/"
      ]
    },
    {
      "cell_type": "markdown",
      "metadata": {
        "id": "JK4zZdWo2Q1V"
      },
      "source": [
        "## Основные типы данных в Python"
      ]
    },
    {
      "cell_type": "markdown",
      "metadata": {
        "id": "UxFIXyQH2Q1W"
      },
      "source": [
        "Тип данных можно представить себе как некоторую родословную, у каждой из которых есть своя уникальная фамилия и свои уникальные возможности. Типы данных могут быть как встроеные в Python, так и созданные самим программистом."
      ]
    },
    {
      "cell_type": "code",
      "metadata": {
        "scrolled": true,
        "id": "kW1BMnXZ2Q1Y",
        "colab": {
          "base_uri": "https://localhost:8080/"
        },
        "outputId": "e4fef515-9617-41fd-9eca-690c62e472f8"
      },
      "source": [
        "print(type(5))  # целые числа\n",
        "print(type(3.612))  # числа с плавающей точкой\n",
        "print(type(True))  # булевые значения (логические числа)\n",
        "print(type(False))\n",
        "\n",
        "print(type('Какой это тип данных?'))"
      ],
      "execution_count": null,
      "outputs": [
        {
          "output_type": "stream",
          "name": "stdout",
          "text": [
            "<class 'int'>\n",
            "<class 'float'>\n",
            "<class 'bool'>\n",
            "<class 'bool'>\n",
            "<class 'str'>\n"
          ]
        }
      ]
    },
    {
      "cell_type": "markdown",
      "metadata": {
        "id": "f77yfjFQMMzl"
      },
      "source": [
        "## Приведение типов"
      ]
    },
    {
      "cell_type": "markdown",
      "metadata": {
        "id": "lFAd_H2v2Q1b"
      },
      "source": [
        "Для того чтобы явно приводить типы можно воспользоваться соответствующими операторами. Такая операция называется **явное приведение типов**"
      ]
    },
    {
      "cell_type": "code",
      "metadata": {
        "id": "31iYqk782Q1c",
        "colab": {
          "base_uri": "https://localhost:8080/"
        },
        "outputId": "466a26cf-2751-4dc7-8d22-b7a442112ab0"
      },
      "source": [
        "int('435345')  # для вывода в ноутбуках не обязательно использовать print"
      ],
      "execution_count": null,
      "outputs": [
        {
          "output_type": "execute_result",
          "data": {
            "text/plain": [
              "435345"
            ]
          },
          "metadata": {},
          "execution_count": 6
        }
      ]
    },
    {
      "cell_type": "code",
      "metadata": {
        "id": "hpVe3FoL2Q1d",
        "colab": {
          "base_uri": "https://localhost:8080/",
          "height": 170
        },
        "outputId": "6e6cab4b-6966-42b9-bfb8-47664bb146a6"
      },
      "source": [
        "float('325325.346364')"
      ],
      "execution_count": null,
      "outputs": [
        {
          "output_type": "error",
          "ename": "ValueError",
          "evalue": "ignored",
          "traceback": [
            "\u001b[0;31m---------------------------------------------------------------------------\u001b[0m",
            "\u001b[0;31mValueError\u001b[0m                                Traceback (most recent call last)",
            "\u001b[0;32m<ipython-input-11-5dd5319bbb72>\u001b[0m in \u001b[0;36m<module>\u001b[0;34m()\u001b[0m\n\u001b[0;32m----> 1\u001b[0;31m \u001b[0mfloat\u001b[0m\u001b[0;34m(\u001b[0m\u001b[0;34m'32532f5.346364'\u001b[0m\u001b[0;34m)\u001b[0m\u001b[0;34m\u001b[0m\u001b[0;34m\u001b[0m\u001b[0m\n\u001b[0m",
            "\u001b[0;31mValueError\u001b[0m: could not convert string to float: '32532f5.346364'"
          ]
        }
      ]
    },
    {
      "cell_type": "code",
      "metadata": {
        "id": "oI6y1FpQ2Q1d",
        "colab": {
          "base_uri": "https://localhost:8080/"
        },
        "outputId": "44645f17-595d-4702-87fa-78d82b12d910"
      },
      "source": [
        "bool('')"
      ],
      "execution_count": null,
      "outputs": [
        {
          "output_type": "execute_result",
          "data": {
            "text/plain": [
              "False"
            ]
          },
          "metadata": {},
          "execution_count": 16
        }
      ]
    },
    {
      "cell_type": "code",
      "metadata": {
        "id": "NHCqNOwBMuZE",
        "colab": {
          "base_uri": "https://localhost:8080/",
          "height": 36
        },
        "outputId": "8dcbca38-4218-4378-f34c-4ca12f6b33aa"
      },
      "source": [
        "str(True)"
      ],
      "execution_count": null,
      "outputs": [
        {
          "output_type": "execute_result",
          "data": {
            "text/plain": [
              "'True'"
            ],
            "application/vnd.google.colaboratory.intrinsic+json": {
              "type": "string"
            }
          },
          "metadata": {},
          "execution_count": 19
        }
      ]
    },
    {
      "cell_type": "markdown",
      "metadata": {
        "id": "4qEZrknO2Q1e"
      },
      "source": [
        "Однако возможна такая ситация, когда язык сам за ваш решает, какой тип данных получится в результате выполнения операции. Такая операция называется **неявное приведение типов**. Частным случаям неявного приведения типов является деление:"
      ]
    },
    {
      "cell_type": "code",
      "metadata": {
        "colab": {
          "base_uri": "https://localhost:8080/"
        },
        "id": "voV5e2KZrvOV",
        "outputId": "6279cb81-1fdd-4f9e-d0bc-bbf608fd298a"
      },
      "source": [
        "print(80 / 2) "
      ],
      "execution_count": null,
      "outputs": [
        {
          "output_type": "stream",
          "name": "stdout",
          "text": [
            "40.0\n"
          ]
        }
      ]
    },
    {
      "cell_type": "markdown",
      "metadata": {
        "id": "eZIGUFtmly9r"
      },
      "source": [
        "Или арифметика с логическими значениями:"
      ]
    },
    {
      "cell_type": "code",
      "metadata": {
        "colab": {
          "base_uri": "https://localhost:8080/"
        },
        "id": "criunOj0lvkU",
        "outputId": "10f305c3-b181-4cbf-d87d-2621bd887f13"
      },
      "source": [
        "print(True + 1)"
      ],
      "execution_count": null,
      "outputs": [
        {
          "output_type": "stream",
          "name": "stdout",
          "text": [
            "2\n"
          ]
        }
      ]
    },
    {
      "cell_type": "markdown",
      "metadata": {
        "id": "qRMN22wvK5zR"
      },
      "source": [
        "## Работа с числами"
      ]
    },
    {
      "cell_type": "markdown",
      "metadata": {
        "id": "BCee-aGlqPHC"
      },
      "source": [
        "<table class=\"src\" border=\"1\">\n",
        "<tbody>\n",
        "<tr style=\"background-color: #2b5b84;\"><th style=\"width: 100%;\"><span style=\"color: #ffff00;\">Оператор</span></th><th style=\"width: 100%;\"><span style=\"color: #ffff00;\">Описание</span></th></tr>\n",
        "\n",
        "<tr>\n",
        "<td style=\"background-color: #2b5b84; text-align: center;\"><strong><span style=\"color: #ffff00;\">+</span></strong></td>\n",
        "<td>Сложение — cуммирует значения слева и справа от оператора</td>\n",
        "</tr>\n",
        "\n",
        "<tr>\n",
        "<td style=\"background-color: #2b5b84; text-align: center;\"><strong><span style=\"color: #ffff00;\">-</span></strong></td>\n",
        "<td>Вычитание — вычитает правый операнд из левого</td>\n",
        "</tr>\n",
        "\n",
        "<tr>\n",
        "<td style=\"background-color: #2b5b84; text-align: center;\"><strong><span style=\"color: #ffff00;\">*</span></strong></td>\n",
        "<td>Умножение — перемножает операнды</td>\n",
        "</tr>\n",
        "\n",
        "<tr>\n",
        "<td style=\"background-color: #2b5b84; text-align: center;\"><strong><span style=\"color: #ffff00;\">/</span></strong></td>\n",
        "<td>Деление — делит левый операнд на правый</td>\n",
        "</tr>\n",
        "\n",
        "<tr>\n",
        "<td style=\"background-color: #2b5b84; text-align: center;\"><strong><span style=\"color: #ffff00;\">**</span></strong></td>\n",
        "<td>Возведение в степень — возводит левый операнд в степень правого</td>\n",
        "\n",
        "</tr>\n",
        "\n",
        "<tr>\n",
        "<td style=\"background-color: #2b5b84; text-align: center;\"><strong><span style=\"color: #ffff00;\">%</span></strong></td>\n",
        "<td> Взятие остатка от деления — делит левый операнд на правый и возвращает остаток.</td>\n",
        "\n",
        "</tr>\n",
        "<tr>\n",
        "\n",
        "<td style=\"background-color: #2b5b84; text-align: center;\"><strong><span style=\"color: #ffff00;\">//</span></strong></td>\n",
        "<td>Целочисленное деление — деление в котором возвращается только целая часть результата. Часть после запятой отбрасывается.</td>\n",
        "</tr>\n",
        "\n",
        "</tbody>\n",
        "</table>"
      ]
    },
    {
      "cell_type": "markdown",
      "metadata": {
        "id": "5Df6mheS2Q1f"
      },
      "source": [
        "Запомните, что умножение и деление всегда выполняются прежде, чем сложение и вычитание, если не менять порядок вычислений с помощью скобок."
      ]
    },
    {
      "cell_type": "markdown",
      "metadata": {
        "id": "KQae8PMT2Q1Z"
      },
      "source": [
        "Воспользуемся языком как калькулятором"
      ]
    },
    {
      "cell_type": "code",
      "metadata": {
        "id": "OATB_lbR2Q1j",
        "colab": {
          "base_uri": "https://localhost:8080/"
        },
        "outputId": "5f0fa509-f443-41c6-f12b-932ed5f43b89"
      },
      "source": [
        "print(4 + 4) # суммирует значения слева и справа от оператора\n",
        "print(4 - 1) # вычитание - Вычитает правый операнд из левого\n",
        "print(4 * 2) # умножение - Перемножает операнды\n",
        "print(4 / 2) # деление - Делит левый операнд на правый\n",
        "print(5 % 2) # взятие остатка от деления - Делит левый операнд на правый и возвращает остаток.\n",
        "print(15 // 2) # Целочисленное деление - Деление в котором возвращается только целая часть результата. Часть после запятой отбрасывается.\n",
        "print(21 ** 2) # возведение в степень"
      ],
      "execution_count": null,
      "outputs": [
        {
          "output_type": "stream",
          "name": "stdout",
          "text": [
            "8\n",
            "3\n",
            "8\n",
            "2.0\n",
            "1\n",
            "7\n",
            "441\n"
          ]
        }
      ]
    },
    {
      "cell_type": "code",
      "metadata": {
        "colab": {
          "base_uri": "https://localhost:8080/"
        },
        "id": "ve8uQxkipQ0_",
        "outputId": "578595e6-33cb-4f3c-83dd-199a47e38b91"
      },
      "source": [
        "print(5 + 30 * 20)\n",
        "print((5 + 30) * 20)  # нужно помнить про скобки, чтобы контроллировать порядок действий"
      ],
      "execution_count": null,
      "outputs": [
        {
          "output_type": "stream",
          "name": "stdout",
          "text": [
            "605\n",
            "700\n"
          ]
        }
      ]
    },
    {
      "cell_type": "markdown",
      "metadata": {
        "id": "nZrfxsi-Q_-b"
      },
      "source": [
        "Операции сравнения"
      ]
    },
    {
      "cell_type": "code",
      "metadata": {
        "id": "Ev5oTo5fQ_h5",
        "colab": {
          "base_uri": "https://localhost:8080/"
        },
        "outputId": "9e99200d-85e3-4bd4-dd9b-bbff2dc11204"
      },
      "source": [
        "print(4 == 5) # не путать с =. проверяет равны ли оба операнда. Если да, то проверка возвращает True\n",
        "print(4 != 5) # проверяет не равны ли оба операнда. Если не равны, то проверка возвращает True.\n",
        "print(4 > 5) # проверяет больше ли значение левого операнда, чем значение правого. Если да, то проверка возвращает True.\n",
        "print(4 < 5) # проверяет меньше ли значение левого операнда, чем значение правого. Если да, то проверка возвращает True.\n",
        "print(4 >= 5) # проверяет больше или равно значение левого операнда, чем значение правого. Если да, то проверка возвращает True.\n",
        "print(4 <= 6) # проверяет меньше или равно значение левого операнда, чем значение правого. Если да, то проверка возвращает True."
      ],
      "execution_count": null,
      "outputs": [
        {
          "output_type": "stream",
          "name": "stdout",
          "text": [
            "False\n",
            "True\n",
            "False\n",
            "True\n",
            "False\n",
            "True\n"
          ]
        }
      ]
    },
    {
      "cell_type": "markdown",
      "metadata": {
        "id": "dDLA0Ln3cHbv"
      },
      "source": [
        "Можем взять модуль у числа"
      ]
    },
    {
      "cell_type": "code",
      "metadata": {
        "colab": {
          "base_uri": "https://localhost:8080/"
        },
        "id": "EuU0ahm0cKze",
        "outputId": "cedb7da3-b515-4d78-fba0-a0a1c82a68bc"
      },
      "source": [
        "print(abs(-32))\n",
        "print(abs(32))"
      ],
      "execution_count": null,
      "outputs": [
        {
          "output_type": "stream",
          "name": "stdout",
          "text": [
            "32\n",
            "32\n"
          ]
        }
      ]
    },
    {
      "cell_type": "markdown",
      "source": [
        "Проблема точности округления в Python"
      ],
      "metadata": {
        "id": "kw_ODx9eycPy"
      }
    },
    {
      "cell_type": "code",
      "source": [
        "print(0.15 + 0.15 == 0.3)"
      ],
      "metadata": {
        "colab": {
          "base_uri": "https://localhost:8080/"
        },
        "id": "G4JpMV5DzJGa",
        "outputId": "4a6fc202-7c66-4f88-937a-219ecbe43ebc"
      },
      "execution_count": null,
      "outputs": [
        {
          "output_type": "stream",
          "name": "stdout",
          "text": [
            "True\n"
          ]
        }
      ]
    },
    {
      "cell_type": "code",
      "source": [
        "print(0.1 + 0.15 + 0.05 == 0.1 + 0.1 + 0.1)"
      ],
      "metadata": {
        "colab": {
          "base_uri": "https://localhost:8080/"
        },
        "id": "sfkv1T6QzRar",
        "outputId": "3ea37ea8-73a9-476a-b37e-588881944a94"
      },
      "execution_count": null,
      "outputs": [
        {
          "output_type": "stream",
          "name": "stdout",
          "text": [
            "False\n"
          ]
        }
      ]
    },
    {
      "cell_type": "code",
      "source": [
        "print(0.1 + 0.15 + 0.05)"
      ],
      "metadata": {
        "colab": {
          "base_uri": "https://localhost:8080/"
        },
        "id": "O2SwVCkfzUOP",
        "outputId": "5d13c0a5-6751-4b2e-eb11-bfa6e5c8f25e"
      },
      "execution_count": null,
      "outputs": [
        {
          "output_type": "stream",
          "name": "stdout",
          "text": [
            "0.3\n"
          ]
        }
      ]
    },
    {
      "cell_type": "code",
      "source": [
        "print(round(0.1 + 0.1 + 0.1, 2))"
      ],
      "metadata": {
        "colab": {
          "base_uri": "https://localhost:8080/"
        },
        "id": "BZb8oN-JzW8P",
        "outputId": "e8aeb6cc-89d3-414b-cbac-08604678941c"
      },
      "execution_count": null,
      "outputs": [
        {
          "output_type": "stream",
          "name": "stdout",
          "text": [
            "0.3\n"
          ]
        }
      ]
    },
    {
      "cell_type": "code",
      "source": [
        "print(0.1 + 0.15 + 0.05 == round(0.1 + 0.1 + 0.1, 2))"
      ],
      "metadata": {
        "colab": {
          "base_uri": "https://localhost:8080/"
        },
        "id": "kEGbtboLj-Iu",
        "outputId": "c39259ca-2925-48a1-f4ba-de51194e56e1"
      },
      "execution_count": null,
      "outputs": [
        {
          "output_type": "stream",
          "name": "stdout",
          "text": [
            "True\n"
          ]
        }
      ]
    },
    {
      "cell_type": "markdown",
      "source": [
        "Стои избегать прямого сравнения float, если вам важна точность операций. \n",
        "\n",
        "Для исправления этой проблемы есть отдельные типы данных, [изучите самостоятельно](https://docs-python.ru/tutorial/operatsii-chislami-python/problemy-chisel-plavajuschej-zapjatoj/)"
      ],
      "metadata": {
        "id": "LwLAzkHrzYMn"
      }
    },
    {
      "cell_type": "markdown",
      "metadata": {
        "id": "mIblPFvCon-p"
      },
      "source": [
        "## Переменные\n",
        "\n",
        "\n"
      ]
    },
    {
      "cell_type": "markdown",
      "metadata": {
        "id": "zK7EiLe22Q1k"
      },
      "source": [
        "В программировании слово переменная обозначает именованное место для хранения данных, например чисел, текста, списков с числами или символами и так далее. Также переменную можно рассматривать как ярлык, которым помечены некие данные или контейнер, в котором хранится информация"
      ]
    },
    {
      "cell_type": "markdown",
      "metadata": {
        "id": "K-2IHl1yvTye"
      },
      "source": [
        "\n",
        "\n",
        "Для создания корректных имен перемен­ных надо следовать всего нескольким правилам; о некорректном имени Python вам сообщит, выведя ошибку\n",
        "\n",
        "Есть несколько правил при определении переменных:\n",
        "\n",
        "- имена переменных не должны повторять уже встроенные в Python имена, например, `print`, `str`, `in` и т.д.;\n",
        "- имена переменных могут содержать только буквы, цифры и нижнее подчёркивание; \n",
        "- имена переменных не должны начинаться с цифры;\n",
        "- очень желательно, чтобы имена переменных выражали суть переменной и не были слишком длинными.\n",
        "\n",
        "Если компьютер принял переменную это не значит, что это имя хорошее! \n",
        "Переменная с именем **aklkjkll112312** будет понятна компьютеру, но не будет понятна человеку. Поэтом при создании переменных вы должны ориентироваться на своего читателя. Порой вы будете единственным читателем вашего кода, но поверьте(!), вернувшись через месяц для того, чтобы немного изменить свою программу, вы ужаснетесь, насколько там все непонятно! Поэтому, если вы с любовью относитесь к себе и своим коллегам, не пренебрегайте правилами и договоренностями. Они значительно упрощают вашу жизнь. "
      ]
    },
    {
      "cell_type": "code",
      "metadata": {
        "colab": {
          "base_uri": "https://localhost:8080/"
        },
        "id": "Oclns_uDTC6y",
        "outputId": "9e24e13a-a2a4-47ac-c92c-e72ad2653e1e"
      },
      "source": [
        "a = 458\n",
        "print(a)"
      ],
      "execution_count": null,
      "outputs": [
        {
          "output_type": "stream",
          "name": "stdout",
          "text": [
            "458\n"
          ]
        }
      ]
    },
    {
      "cell_type": "code",
      "metadata": {
        "id": "hzzDP-UZNFr9",
        "colab": {
          "base_uri": "https://localhost:8080/"
        },
        "outputId": "38e9b643-5482-4dc1-a958-04ad07700f9b"
      },
      "source": [
        "a = 10 + 20\n",
        "b = a * 30\n",
        "c = a / b\n",
        "print('Ответ: ', c)"
      ],
      "execution_count": null,
      "outputs": [
        {
          "output_type": "stream",
          "name": "stdout",
          "text": [
            "Ответ:  0.03333333333333333\n"
          ]
        }
      ]
    },
    {
      "cell_type": "code",
      "metadata": {
        "id": "5ag-FBA_NITt",
        "colab": {
          "base_uri": "https://localhost:8080/",
          "height": 225
        },
        "outputId": "61c5042b-e508-4cd1-c6e3-ec441e62c031"
      },
      "source": [
        "# что увидим на экране?\n",
        "print(x)\n",
        "\n",
        "x = 10"
      ],
      "execution_count": null,
      "outputs": [
        {
          "output_type": "error",
          "ename": "NameError",
          "evalue": "ignored",
          "traceback": [
            "\u001b[0;31m---------------------------------------------------------------------------\u001b[0m",
            "\u001b[0;31mNameError\u001b[0m                                 Traceback (most recent call last)",
            "\u001b[0;32m<ipython-input-50-eeb8fdf5f66a>\u001b[0m in \u001b[0;36m<module>\u001b[0;34m()\u001b[0m\n\u001b[1;32m      1\u001b[0m \u001b[0;31m# что увидим на экране?\u001b[0m\u001b[0;34m\u001b[0m\u001b[0;34m\u001b[0m\u001b[0;34m\u001b[0m\u001b[0m\n\u001b[0;32m----> 2\u001b[0;31m \u001b[0mprint\u001b[0m\u001b[0;34m(\u001b[0m\u001b[0mx\u001b[0m\u001b[0;34m)\u001b[0m\u001b[0;34m\u001b[0m\u001b[0;34m\u001b[0m\u001b[0m\n\u001b[0m\u001b[1;32m      3\u001b[0m \u001b[0;34m\u001b[0m\u001b[0m\n\u001b[1;32m      4\u001b[0m \u001b[0mx\u001b[0m \u001b[0;34m=\u001b[0m \u001b[0;36m10\u001b[0m\u001b[0;34m\u001b[0m\u001b[0;34m\u001b[0m\u001b[0m\n",
            "\u001b[0;31mNameError\u001b[0m: name 'x' is not defined"
          ]
        }
      ]
    },
    {
      "cell_type": "markdown",
      "metadata": {
        "id": "40_f2eTINlZg"
      },
      "source": [
        "**Практика**. Переведем байты в мегабайты\n",
        "\n"
      ]
    },
    {
      "cell_type": "code",
      "metadata": {
        "id": "khcyHT9GNmMr"
      },
      "source": [
        "bytes_ = 10000"
      ],
      "execution_count": null,
      "outputs": []
    },
    {
      "cell_type": "code",
      "metadata": {
        "id": "kdEwXnn8NoAo",
        "colab": {
          "base_uri": "https://localhost:8080/"
        },
        "outputId": "5fb599b2-2d1d-4d53-e122-19abf8a1eab8"
      },
      "source": [
        "a = bytes_ / 1024 / 1024\n",
        "print(a) "
      ],
      "execution_count": null,
      "outputs": [
        {
          "output_type": "stream",
          "name": "stdout",
          "text": [
            "0.0095367431640625\n"
          ]
        }
      ]
    },
    {
      "cell_type": "code",
      "source": [
        "print(bytes_ / (2 ** 20)) "
      ],
      "metadata": {
        "colab": {
          "base_uri": "https://localhost:8080/"
        },
        "id": "q5-rXPRNmazK",
        "outputId": "465f3696-81ed-4914-c2d1-9398bc6899a8"
      },
      "execution_count": null,
      "outputs": [
        {
          "output_type": "stream",
          "name": "stdout",
          "text": [
            "0.0095367431640625\n"
          ]
        }
      ]
    },
    {
      "cell_type": "code",
      "source": [
        "bytes_ = 10000 \n",
        "kilobytes_ = bytes_ / 1024 \n",
        "kilobytes_ "
      ],
      "metadata": {
        "colab": {
          "base_uri": "https://localhost:8080/"
        },
        "id": "tFplmYJ7mcXQ",
        "outputId": "59b8e716-ccb4-477f-d78a-9495862e125e"
      },
      "execution_count": null,
      "outputs": [
        {
          "output_type": "execute_result",
          "data": {
            "text/plain": [
              "9.765625"
            ]
          },
          "metadata": {},
          "execution_count": 57
        }
      ]
    },
    {
      "cell_type": "code",
      "source": [
        "bytes_ = 10000 \n",
        "mbytes_ = bytes_ / 2**20 \n",
        "print(mbytes_) "
      ],
      "metadata": {
        "colab": {
          "base_uri": "https://localhost:8080/"
        },
        "id": "WLWS_yK4mdVo",
        "outputId": "a3e84d64-cd2d-495f-e734-31deaf49ecde"
      },
      "execution_count": null,
      "outputs": [
        {
          "output_type": "stream",
          "name": "stdout",
          "text": [
            "0.0095367431640625\n"
          ]
        }
      ]
    },
    {
      "cell_type": "code",
      "source": [
        "# print(bytes_/1024 :.f2, 'kilobyte) "
      ],
      "metadata": {
        "id": "m--kfTqpmeZL"
      },
      "execution_count": null,
      "outputs": []
    },
    {
      "cell_type": "markdown",
      "metadata": {
        "id": "I3onei2ZO_gV"
      },
      "source": [
        "Сокращенная запись операций присваивания"
      ]
    },
    {
      "cell_type": "code",
      "metadata": {
        "id": "XiiHam50PCD3"
      },
      "source": [
        "x = 2"
      ],
      "execution_count": null,
      "outputs": []
    },
    {
      "cell_type": "code",
      "metadata": {
        "id": "Y2zxrvl1O-kx",
        "colab": {
          "base_uri": "https://localhost:8080/"
        },
        "outputId": "62aa70a2-1470-4723-aa6b-91ee03a9205f"
      },
      "source": [
        "# x = x + 1\n",
        "x += 1\n",
        "print(x)\n",
        "\n",
        "# x = x - 1\n",
        "x -= 1\n",
        "print(x)\n",
        "\n",
        "# x = x * 2\n",
        "x *= 2\n",
        "print(x)\n",
        "\n",
        "# x = x / 2\n",
        "x /= 2\n",
        "print(x)"
      ],
      "execution_count": null,
      "outputs": [
        {
          "output_type": "stream",
          "name": "stdout",
          "text": [
            "3\n",
            "2\n",
            "4\n",
            "2.0\n"
          ]
        }
      ]
    },
    {
      "cell_type": "markdown",
      "metadata": {
        "id": "lU7i_wOgRSHm"
      },
      "source": [
        "Множественное присваивание:"
      ]
    },
    {
      "cell_type": "code",
      "metadata": {
        "id": "P6bCFVfmRWGy",
        "colab": {
          "base_uri": "https://localhost:8080/"
        },
        "outputId": "2e978fb4-07b5-4c9d-fdcd-050e4b40102a"
      },
      "source": [
        "name, pro, salary = 'John', 'Data Scientist', 100000\n",
        "print(name)\n",
        "print(pro)\n",
        "print(salary)"
      ],
      "execution_count": null,
      "outputs": [
        {
          "output_type": "stream",
          "name": "stdout",
          "text": [
            "John\n",
            "Data Scientist\n",
            "100000\n"
          ]
        }
      ]
    },
    {
      "cell_type": "markdown",
      "metadata": {
        "id": "erwQla1f2Q1s"
      },
      "source": [
        "Благодаря множественному присваиванию в Python легко решается задача замены переменных местами.\n",
        "\n",
        "В других языках эта задача решается через третью переменную."
      ]
    },
    {
      "cell_type": "code",
      "metadata": {
        "id": "nNGT-dkt2Q1s",
        "colab": {
          "base_uri": "https://localhost:8080/"
        },
        "outputId": "4c9f8ad7-d89f-44b9-9f70-89b58a8eeff1"
      },
      "source": [
        "a = 14\n",
        "b = 'string'\n",
        "c = a\n",
        "a = b\n",
        "b = c\n",
        "print(a, b)"
      ],
      "execution_count": null,
      "outputs": [
        {
          "output_type": "stream",
          "name": "stdout",
          "text": [
            "string 14\n"
          ]
        }
      ]
    },
    {
      "cell_type": "markdown",
      "metadata": {
        "id": "Nva22H5j2Q1t"
      },
      "source": [
        "А в Python можно так:"
      ]
    },
    {
      "cell_type": "code",
      "metadata": {
        "id": "qMqqa8I82Q1t",
        "colab": {
          "base_uri": "https://localhost:8080/"
        },
        "outputId": "bfa9b2b5-e6c7-439b-a377-1d5f188b1b36"
      },
      "source": [
        "a, b = b, a\n",
        "print(a, b)"
      ],
      "execution_count": null,
      "outputs": [
        {
          "output_type": "stream",
          "name": "stdout",
          "text": [
            "14 string\n"
          ]
        }
      ]
    },
    {
      "cell_type": "markdown",
      "metadata": {
        "id": "2iY1yLYcbLAp"
      },
      "source": [
        "**Практика**. Рост девушки 170 см, а высота каблуков — 19 см. Определите рост девушки на каблуках в _метрах_ и выведите информацию в виде: `Рост в метрах: *** `"
      ]
    },
    {
      "cell_type": "code",
      "metadata": {
        "id": "6YyjAgt6bAKm"
      },
      "source": [
        "heels_height_cm = 19\n",
        "height_cm = 170"
      ],
      "execution_count": null,
      "outputs": []
    },
    {
      "cell_type": "code",
      "metadata": {
        "colab": {
          "base_uri": "https://localhost:8080/"
        },
        "id": "Mipl0yQkbJMg",
        "outputId": "08bb3dcd-e508-4810-ed31-e5c2c0f670db"
      },
      "source": [
        "print(\"Рост в метрах:\", heels_height_cm + height_cm) "
      ],
      "execution_count": null,
      "outputs": [
        {
          "output_type": "stream",
          "name": "stdout",
          "text": [
            "Рост в метрах: 189\n"
          ]
        }
      ]
    },
    {
      "cell_type": "code",
      "source": [
        "print('Рост в метрах:', (heels_height_cm + height_cm) / 100) "
      ],
      "metadata": {
        "colab": {
          "base_uri": "https://localhost:8080/"
        },
        "id": "TKH3nHKqo1M4",
        "outputId": "57b194f7-0bba-4e4e-ad9e-ab2550064bcd"
      },
      "execution_count": null,
      "outputs": [
        {
          "output_type": "stream",
          "name": "stdout",
          "text": [
            "Рост в метрах: 1.89\n"
          ]
        }
      ]
    },
    {
      "cell_type": "code",
      "source": [
        "print('Рост в метрах: ', (heels_height_cm + height_cm) / 100 )"
      ],
      "metadata": {
        "colab": {
          "base_uri": "https://localhost:8080/"
        },
        "id": "4hWZWbAZo2p5",
        "outputId": "2255233b-b8e9-4153-a4aa-e3b48cfd37f6"
      },
      "execution_count": null,
      "outputs": [
        {
          "output_type": "stream",
          "name": "stdout",
          "text": [
            "Рост в метрах:  1.89\n"
          ]
        }
      ]
    },
    {
      "cell_type": "code",
      "source": [
        "heels_height_cm = 19 \n",
        "height_cm = 170 \n",
        "a = 19 \n",
        "b = 170 \n",
        "print(a+b) "
      ],
      "metadata": {
        "colab": {
          "base_uri": "https://localhost:8080/"
        },
        "id": "tir2xDUso39d",
        "outputId": "a470fca7-867d-48a9-c06e-7b40ba03ee14"
      },
      "execution_count": null,
      "outputs": [
        {
          "output_type": "stream",
          "name": "stdout",
          "text": [
            "189\n"
          ]
        }
      ]
    },
    {
      "cell_type": "code",
      "source": [
        "print('heigh of woman:', (heels_height_cm + height_cm) / 100) "
      ],
      "metadata": {
        "colab": {
          "base_uri": "https://localhost:8080/"
        },
        "id": "iYziQcO6pEdj",
        "outputId": "3f8967b1-206a-4d3b-8241-bf065f9aa43b"
      },
      "execution_count": null,
      "outputs": [
        {
          "output_type": "stream",
          "name": "stdout",
          "text": [
            "heigh of woman: 1.89\n"
          ]
        }
      ]
    },
    {
      "cell_type": "code",
      "source": [
        "heels_height_cm = 19 \n",
        "height_cm = 170 \n",
        "print('Рост в метрах', (heels_height_cm + height_cm) / 100)"
      ],
      "metadata": {
        "colab": {
          "base_uri": "https://localhost:8080/"
        },
        "id": "hz4_pAJJpFoO",
        "outputId": "010c8ef3-903a-4a93-97b0-7eef3052f66e"
      },
      "execution_count": null,
      "outputs": [
        {
          "output_type": "stream",
          "name": "stdout",
          "text": [
            "Рост в метрах 1.89\n"
          ]
        }
      ]
    },
    {
      "cell_type": "markdown",
      "metadata": {
        "id": "hGrFASpBcs_b"
      },
      "source": [
        "**Практика**.\n",
        "Олег, Екатерина и Петр после Хэллоуина решили поделить собранные каждым конфеты поровну. Чтобы не ссорится они решили выкинуть все конфеты, которые останутся после этого. К примеру, если у них 62 конфеты они поделят 60 и выкинут 2.  \n",
        "Напишите код, который будет вычислять, сколько конфет им нужно выкинуть после дележки."
      ]
    },
    {
      "cell_type": "code",
      "metadata": {
        "id": "kM4NOerocwEI"
      },
      "source": [
        "oleg_candies = 117\n",
        "kate_candies = 131\n",
        "peter_candies = 107\n",
        "\n",
        "# throw_away = "
      ],
      "execution_count": null,
      "outputs": []
    },
    {
      "cell_type": "code",
      "metadata": {
        "colab": {
          "base_uri": "https://localhost:8080/"
        },
        "id": "B7oXfmvlnvm0",
        "outputId": "13d98471-197c-41fd-8b0d-90950d24665e"
      },
      "source": [
        "throw_away = (oleg_candies + kate_candies + peter_candies) % 3 \n",
        "throw_away "
      ],
      "execution_count": null,
      "outputs": [
        {
          "output_type": "execute_result",
          "data": {
            "text/plain": [
              "1"
            ]
          },
          "metadata": {},
          "execution_count": 76
        }
      ]
    },
    {
      "cell_type": "code",
      "source": [
        "throw_away = (oleg_candies + kate_candies + peter_candies) % 3 \n",
        "throw_away"
      ],
      "metadata": {
        "colab": {
          "base_uri": "https://localhost:8080/"
        },
        "id": "JJghHLbgqMU_",
        "outputId": "2ec29aa9-f079-43eb-cfea-42b57b0301fe"
      },
      "execution_count": null,
      "outputs": [
        {
          "output_type": "execute_result",
          "data": {
            "text/plain": [
              "1"
            ]
          },
          "metadata": {},
          "execution_count": 77
        }
      ]
    },
    {
      "cell_type": "markdown",
      "source": [],
      "metadata": {
        "id": "oBSKBQAjqgIH"
      }
    },
    {
      "cell_type": "code",
      "source": [
        "(oleg_candies + kate_candies + peter_candies) % 3 "
      ],
      "metadata": {
        "colab": {
          "base_uri": "https://localhost:8080/"
        },
        "id": "5npjnz9dqOF8",
        "outputId": "9d0b7cc0-45fe-47a4-fd29-01537e42fd77"
      },
      "execution_count": null,
      "outputs": [
        {
          "output_type": "execute_result",
          "data": {
            "text/plain": [
              "1"
            ]
          },
          "metadata": {},
          "execution_count": 79
        }
      ]
    },
    {
      "cell_type": "code",
      "source": [
        "throw_away = (oleg_candies + kate_candies + peter_candies) % 3 \n",
        "print(throw_away) "
      ],
      "metadata": {
        "id": "jG4Nka-kqO16"
      },
      "execution_count": null,
      "outputs": []
    },
    {
      "cell_type": "code",
      "source": [
        "oleg_candies = 117 \n",
        "kate_candies = 131 \n",
        "peter_candies = 107 \n",
        "throw_away = sum([oleg_candies, kate_candies, peter_candies]) % 3\n",
        "print(throw_away) "
      ],
      "metadata": {
        "colab": {
          "base_uri": "https://localhost:8080/"
        },
        "id": "6OTSKcLwqnfn",
        "outputId": "8a74de97-791d-4d64-f662-10b771343725"
      },
      "execution_count": null,
      "outputs": [
        {
          "output_type": "stream",
          "name": "stdout",
          "text": [
            "1\n"
          ]
        }
      ]
    },
    {
      "cell_type": "markdown",
      "metadata": {
        "id": "BAPe2SpNTwCP"
      },
      "source": [
        "## Пользовательский ввод"
      ]
    },
    {
      "cell_type": "markdown",
      "source": [
        "Функция запроса пользовательского ввода всегда принимает на вход строковой тип (даже если пользователь введет только числа)."
      ],
      "metadata": {
        "id": "dyj57U0n1INY"
      }
    },
    {
      "cell_type": "code",
      "source": [
        "some_int = input('Введите число') #input — функция для ввода\n",
        "print(type(some_int))"
      ],
      "metadata": {
        "colab": {
          "base_uri": "https://localhost:8080/"
        },
        "id": "ETbcj21L1IzV",
        "outputId": "3666a7f2-c9de-439f-a3ee-b9d74f0a5da6"
      },
      "execution_count": null,
      "outputs": [
        {
          "output_type": "stream",
          "name": "stdout",
          "text": [
            "Введите число45454564\n",
            "<class 'str'>\n"
          ]
        }
      ]
    },
    {
      "cell_type": "markdown",
      "metadata": {
        "id": "uV7JNF5yx4a6"
      },
      "source": [
        "Чтобы превратить строку в число, мы можем использовать функции int() или float, в которые мы передадим строку, а на выходе получим число."
      ]
    },
    {
      "cell_type": "code",
      "metadata": {
        "colab": {
          "base_uri": "https://localhost:8080/"
        },
        "id": "BhiwUbxZykgj",
        "scrolled": true,
        "outputId": "6f34d299-f747-4d56-f3ca-1d05c31be0a4"
      },
      "source": [
        "b = int(input('Введите число: ')) \n",
        "print(b * 5)"
      ],
      "execution_count": null,
      "outputs": [
        {
          "output_type": "stream",
          "name": "stdout",
          "text": [
            "Введите число: 65h5656h56\n",
            "65h5656h5665h5656h5665h5656h5665h5656h5665h5656h56\n"
          ]
        }
      ]
    },
    {
      "cell_type": "markdown",
      "metadata": {
        "id": "p_wzWJRwW2gK"
      },
      "source": [
        "Напишем приложение, которое учитывает, какой процент от заработной платы уходит на ипотеку и ежемесячные расходы.\n",
        "\n",
        "Для этого пользователю предлагается ввести следующие данные:\n",
        "\n",
        "- заработную плату в месяц;  \n",
        "- какой процент (%) от заработной платы уходит на ипотеку;  \n",
        "- какой процент (%) от заработной платы уходит \"на жизнь\".\n",
        "\n",
        "Программа подсчитывает и выводит, сколько денег тратит пользователь на ипотеку и сколько он накопит за год (остаток от заработанной платы).\n",
        "\n",
        "Пример:\n",
        "```\n",
        "Введите заработную плату в месяц: 100000\n",
        "Введите, какой процент(%) уходит на ипотеку: 30\n",
        "Введите, какой процент(%) уходит на жизнь: 50\n",
        "\n",
        "Вывод:\n",
        "На ипотеку было потрачено: 360000 рублей\n",
        "Было накоплено: 240000 рублей\n",
        "```"
      ]
    },
    {
      "cell_type": "code",
      "metadata": {
        "id": "3rPHdgJxW40B",
        "colab": {
          "base_uri": "https://localhost:8080/"
        },
        "outputId": "2b984d4c-c19e-4a27-dc54-06d6fd7be6b4"
      },
      "source": [
        "salary = int(input(\"Введите заработную плату в месяц: \"))\n",
        "mortgage = int(input(\"Введите, какой процент(%) уходит на ипотеку: \"))\n",
        "expenses = int(input(\"Введите, какой процент(%) уходит на жизнь: \"))\n",
        "print(\"На ипотеку было потрачено:\", salary * mortgage / 100 * 12, \"рублей\")\n",
        "print(\"Было накоплено:\", salary * 12 - ((salary * mortgage / 100 * 12) + (salary * expenses / 100 * 12)), \"рублей\")"
      ],
      "execution_count": null,
      "outputs": [
        {
          "output_type": "stream",
          "name": "stdout",
          "text": [
            "Введите заработную плату в месяц: 100000\n",
            "Введите, какой процент(%) уходит на ипотеку: 30\n",
            "Введите, какой процент(%) уходит на жизнь: 50\n",
            "На ипотеку было потрачено: 360000.0 рублей\n",
            "Было накоплено: 240000.0 рублей\n"
          ]
        }
      ]
    },
    {
      "cell_type": "markdown",
      "metadata": {
        "id": "cykTRuaVUxez"
      },
      "source": [
        "**Практика**. Программа запрашивает у пользователя длину стороны квадрата и выводит его периметр и площадь. Сразу после этого пользователю предлагается ввести длину и ширину прямоугольника, для которого рассчитывается периметр и площадь. Обратите внимание, что программа должна работать корректно при любых введённых значениях длины и ширины фигуры.\n",
        "\n",
        "Пример:\n",
        "```\n",
        "Введите длину стороны квадрата: 3\n",
        "\n",
        "Вывод:\n",
        "Периметр: 12\n",
        "Площадь: 9\n",
        "\n",
        "Введите длину прямоугольника: 3\n",
        "Введите ширину прямоугольника: 4\n",
        "\n",
        "Вывод:\n",
        "Периметр: 14\n",
        "Площадь: 12\n",
        "```\n"
      ]
    },
    {
      "cell_type": "code",
      "metadata": {
        "colab": {
          "base_uri": "https://localhost:8080/"
        },
        "id": "0hiQFfBUU2ky",
        "outputId": "8c986064-2575-4b2c-fae3-adaf948f05bc"
      },
      "source": [
        "p = int(input(\"Введите длину:\")) \n",
        "s = p ** 2 \n",
        "print(\"Площадь квадрата:\", s) \n",
        "p1 = int(input(\"Введите длину:\")) \n",
        "p2 = int(input(\"Введите ширину:\")) \n",
        "r = p1 * 2 + p2 * 2 \n",
        "print(\"Периметр: \", r) \n"
      ],
      "execution_count": null,
      "outputs": [
        {
          "output_type": "stream",
          "name": "stdout",
          "text": [
            "Введите длину:3\n",
            "Площадь квадрата: 9\n",
            "Введите длину:3\n",
            "Введите ширину:4\n",
            "Периметр:  14\n"
          ]
        }
      ]
    },
    {
      "cell_type": "code",
      "source": [
        "square = int(input('Введите сторону квадрата: ')) \n",
        "print() \n",
        "print('Вывод: ') \n",
        "print('Периметр: ', 4 * square) \n",
        "print('Площадь: ', square ** 2) \n",
        "print() \n",
        "side_a = int(input('Введите длину прямоугольника: ')) \n",
        "side_b = int(input('Введите ширину прямоугольника: ')) \n",
        "print() \n",
        "print('Вывод: ') \n",
        "print('Периметр: ', (side_a + side_b) * 2) \n",
        "print('Площадь: ', side_a * side_b) "
      ],
      "metadata": {
        "colab": {
          "base_uri": "https://localhost:8080/"
        },
        "id": "65qrBo6ntDDL",
        "outputId": "7bad4330-77c3-446e-9cec-75035c1f54bb"
      },
      "execution_count": null,
      "outputs": [
        {
          "output_type": "stream",
          "name": "stdout",
          "text": [
            "Введите сторону квадрата: 3\n",
            "\n",
            "Вывод: \n",
            "Периметр:  12\n",
            "Площадь:  9\n",
            "\n",
            "Введите длину прямоугольника: 3\n",
            "Введите ширину прямоугольника: 4\n",
            "\n",
            "Вывод: \n",
            "Периметр:  14\n",
            "Площадь:  12\n"
          ]
        }
      ]
    },
    {
      "cell_type": "code",
      "source": [
        "a = int(input('side: ')) \n",
        "p = a * 4 \n",
        "s = a ** 2 \n",
        "print('периметр: ', p, 'площадь: ', s) \n",
        "side = int(input('Введите длину прямоугольника:: ')) \n",
        "h = int(input('Введите ширину прямоугольника: ')) \n",
        "p1 = (side + h) * 2 \n",
        "s2 = side * h \n",
        "print('периметр: ', p1, 'площадь: ', s2) "
      ],
      "metadata": {
        "colab": {
          "base_uri": "https://localhost:8080/"
        },
        "id": "p9EMfGknt8sO",
        "outputId": "c1220f5b-9e91-465a-db5c-1882cdf7033a"
      },
      "execution_count": null,
      "outputs": [
        {
          "output_type": "stream",
          "name": "stdout",
          "text": [
            "side: 3\n",
            "периметр:  12 площадь:  9\n",
            "Введите длину прямоугольника:: 4\n",
            "Введите ширину прямоугольника: 3\n",
            "периметр:  14 площадь:  12\n"
          ]
        }
      ]
    },
    {
      "cell_type": "code",
      "source": [
        "a = int(input('Введите длину стороны квадрата:'))\n",
        "print('Периметр', a*4) \n",
        "print('Площадь: ', a**2) \n",
        "b=int(input('Введите длину прямоугольника: ')) \n",
        "c=int(input('Введите ширину прямоугольника: ')) \n",
        "print('Периметр', (b+c)*2) \n",
        "print('Площадь: ', b*c) "
      ],
      "metadata": {
        "colab": {
          "base_uri": "https://localhost:8080/"
        },
        "id": "LRPa0-IiuKRd",
        "outputId": "c283591b-c965-4821-f41a-f324079a36df"
      },
      "execution_count": null,
      "outputs": [
        {
          "output_type": "stream",
          "name": "stdout",
          "text": [
            "Введите длину стороны квадрата:3\n",
            "Периметр 12\n",
            "Площадь:  9\n",
            "Введите длину прямоугольника: 4\n",
            "Введите ширину прямоугольника: 3\n",
            "Периметр 14\n",
            "Площадь:  12\n"
          ]
        }
      ]
    },
    {
      "cell_type": "markdown",
      "metadata": {
        "id": "6rL6p6gdCSIa"
      },
      "source": [
        "## Работа со строками\n",
        "\n",
        "Строки всегда создаются одним из трех способов. Вы можете использовать одинарные, двойные и тройные кавычки."
      ]
    },
    {
      "cell_type": "code",
      "metadata": {
        "id": "O0XDqDaKwPDh",
        "colab": {
          "base_uri": "https://localhost:8080/"
        },
        "outputId": "26d0ec4c-663c-48e8-c4cb-9e8b8cad6a2a"
      },
      "source": [
        "my_string = 'Hello World!'\n",
        "my_string_2 = \"Hello World\"\n",
        "print(type(my_string))"
      ],
      "execution_count": null,
      "outputs": [
        {
          "output_type": "stream",
          "name": "stdout",
          "text": [
            "<class 'str'>\n"
          ]
        }
      ]
    },
    {
      "cell_type": "markdown",
      "source": [
        "Это нужно для того, чтобы внутри строк использовать кавычки, как элементы текста"
      ],
      "metadata": {
        "id": "YCYPCtfXvrWT"
      }
    },
    {
      "cell_type": "code",
      "source": [
        "my_string = 'He said: \"Hello World!\"'\n",
        "print(my_string)"
      ],
      "metadata": {
        "id": "ulPXlclUvvkI",
        "colab": {
          "base_uri": "https://localhost:8080/"
        },
        "outputId": "a35041e1-c554-4dc4-be29-2ea7b1477cbf"
      },
      "execution_count": null,
      "outputs": [
        {
          "output_type": "stream",
          "name": "stdout",
          "text": [
            "He said: \"Hello World!\"\n"
          ]
        }
      ]
    },
    {
      "cell_type": "code",
      "source": [
        "# вот так, конечно, не получится\n",
        "my_string = \"He said: \"Hello World!\"\"\n",
        "print(my_string)"
      ],
      "metadata": {
        "id": "Q0UfOrfgv2U7",
        "colab": {
          "base_uri": "https://localhost:8080/",
          "height": 134
        },
        "outputId": "0d06a56c-d10e-431b-f6c4-0e1570f096d3"
      },
      "execution_count": null,
      "outputs": [
        {
          "output_type": "error",
          "ename": "SyntaxError",
          "evalue": "ignored",
          "traceback": [
            "\u001b[0;36m  File \u001b[0;32m\"<ipython-input-98-7656c2428b87>\"\u001b[0;36m, line \u001b[0;32m2\u001b[0m\n\u001b[0;31m    my_string = \"He said: \"Hello World!\"\"\u001b[0m\n\u001b[0m                               ^\u001b[0m\n\u001b[0;31mSyntaxError\u001b[0m\u001b[0;31m:\u001b[0m invalid syntax\n"
          ]
        }
      ]
    },
    {
      "cell_type": "markdown",
      "metadata": {
        "id": "3EZEhtV_wPDi"
      },
      "source": [
        "Если вы попытаетесь ввести многострочный текст, то так тоже не получится"
      ]
    },
    {
      "cell_type": "code",
      "metadata": {
        "id": "Fd9wjFcDwPDi",
        "colab": {
          "base_uri": "https://localhost:8080/",
          "height": 134
        },
        "outputId": "294dcc9f-b532-40a1-bdcf-f8418bef3d83"
      },
      "source": [
        "my_string = 'Hello \n",
        "World!'"
      ],
      "execution_count": null,
      "outputs": [
        {
          "output_type": "error",
          "ename": "SyntaxError",
          "evalue": "ignored",
          "traceback": [
            "\u001b[0;36m  File \u001b[0;32m\"<ipython-input-99-892285d9f4d7>\"\u001b[0;36m, line \u001b[0;32m1\u001b[0m\n\u001b[0;31m    my_string = 'Hello\u001b[0m\n\u001b[0m                       ^\u001b[0m\n\u001b[0;31mSyntaxError\u001b[0m\u001b[0;31m:\u001b[0m EOL while scanning string literal\n"
          ]
        }
      ]
    },
    {
      "cell_type": "markdown",
      "metadata": {
        "id": "WKjvYC9kwPDj"
      },
      "source": [
        "Можем использовать [экранированные последовательности](https://pythonworld.ru/tipy-dannyx-v-python/stroki-literaly-strok.html)"
      ]
    },
    {
      "cell_type": "code",
      "metadata": {
        "id": "o4CbnRq6wPDj",
        "colab": {
          "base_uri": "https://localhost:8080/"
        },
        "outputId": "6dd8cf3a-fbef-43c9-d089-b7277668251b"
      },
      "source": [
        "my_string = 'Hello\\nWorld!'\n",
        "print(my_string)"
      ],
      "execution_count": null,
      "outputs": [
        {
          "output_type": "stream",
          "name": "stdout",
          "text": [
            "Hello\tWorld!\n"
          ]
        }
      ]
    },
    {
      "cell_type": "markdown",
      "metadata": {
        "id": "I0-AKpEAwPDk"
      },
      "source": [
        "Можно использовать многострочные строки при помощи тройных кавычек. Кроме того, они позволяю внутри себя без проблем использовать кавычки обоих типов"
      ]
    },
    {
      "cell_type": "code",
      "metadata": {
        "id": "OIzUuuIIwPDk",
        "colab": {
          "base_uri": "https://localhost:8080/"
        },
        "outputId": "fe1ccf6a-0b97-4110-ef76-db902edd15eb"
      },
      "source": [
        "multiline_string = \"\"\"В такой \"строке\" мы можем\n",
        "'использовать' все.\"\"\"\n",
        "print(multiline_string)"
      ],
      "execution_count": null,
      "outputs": [
        {
          "output_type": "stream",
          "name": "stdout",
          "text": [
            "В такой \"строке\" мы можем\n",
            "'использовать' все.\n"
          ]
        }
      ]
    },
    {
      "cell_type": "markdown",
      "metadata": {
        "id": "nu8mo4fNwPDl"
      },
      "source": [
        "Действия над строками"
      ]
    },
    {
      "cell_type": "code",
      "metadata": {
        "colab": {
          "base_uri": "https://localhost:8080/"
        },
        "id": "S1EYB8K3JkQK",
        "outputId": "da698960-5ef6-4d2b-f74c-33de6db94f1d"
      },
      "source": [
        "# сравнение строк\n",
        "\n",
        "print('a' > 'b')\n",
        "print('a' > 'B')\n",
        "print('abc' > 'aba')"
      ],
      "execution_count": null,
      "outputs": [
        {
          "output_type": "stream",
          "name": "stdout",
          "text": [
            "False\n",
            "True\n",
            "True\n"
          ]
        }
      ]
    },
    {
      "cell_type": "code",
      "metadata": {
        "id": "W8zW0nuRwPDl",
        "colab": {
          "base_uri": "https://localhost:8080/"
        },
        "outputId": "2f0ab664-47a4-426c-cf72-043889e8d5ce"
      },
      "source": [
        "# конкатенация (сложение строк)\n",
        "s1 = 'spam '\n",
        "s2 = 'eggs'\n",
        "print(s1 + s2)"
      ],
      "execution_count": null,
      "outputs": [
        {
          "output_type": "stream",
          "name": "stdout",
          "text": [
            "spam eggs\n"
          ]
        }
      ]
    },
    {
      "cell_type": "code",
      "metadata": {
        "id": "eqFMYWzDwPDm",
        "colab": {
          "base_uri": "https://localhost:8080/"
        },
        "outputId": "26036ad4-55a3-4952-fe67-518b50c93f1b"
      },
      "source": [
        "# умножение строки на число\n",
        "print('**' * 5)"
      ],
      "execution_count": null,
      "outputs": [
        {
          "output_type": "stream",
          "name": "stdout",
          "text": [
            "**********\n"
          ]
        }
      ]
    },
    {
      "cell_type": "markdown",
      "metadata": {
        "id": "KdE-KQrXwPDm"
      },
      "source": [
        "Полный перечень строковых методом можно посмотреть [здесь](https://pythonist.ru/metody-strok-v-python/).\n",
        "\n",
        "Строки в Python неизменяемым типом данных, поэтому все методы строк всегда будут возвращать новую строку, а не менять исходную."
      ]
    },
    {
      "cell_type": "code",
      "metadata": {
        "id": "N1hLsiViwPDl",
        "colab": {
          "base_uri": "https://localhost:8080/"
        },
        "outputId": "8e72c04f-2c74-490c-c5ce-52e6c9ffd194"
      },
      "source": [
        "help(str)"
      ],
      "execution_count": null,
      "outputs": [
        {
          "output_type": "stream",
          "name": "stdout",
          "text": [
            "Help on class str in module builtins:\n",
            "\n",
            "class str(object)\n",
            " |  str(object='') -> str\n",
            " |  str(bytes_or_buffer[, encoding[, errors]]) -> str\n",
            " |  \n",
            " |  Create a new string object from the given object. If encoding or\n",
            " |  errors is specified, then the object must expose a data buffer\n",
            " |  that will be decoded using the given encoding and error handler.\n",
            " |  Otherwise, returns the result of object.__str__() (if defined)\n",
            " |  or repr(object).\n",
            " |  encoding defaults to sys.getdefaultencoding().\n",
            " |  errors defaults to 'strict'.\n",
            " |  \n",
            " |  Methods defined here:\n",
            " |  \n",
            " |  __add__(self, value, /)\n",
            " |      Return self+value.\n",
            " |  \n",
            " |  __contains__(self, key, /)\n",
            " |      Return key in self.\n",
            " |  \n",
            " |  __eq__(self, value, /)\n",
            " |      Return self==value.\n",
            " |  \n",
            " |  __format__(self, format_spec, /)\n",
            " |      Return a formatted version of the string as described by format_spec.\n",
            " |  \n",
            " |  __ge__(self, value, /)\n",
            " |      Return self>=value.\n",
            " |  \n",
            " |  __getattribute__(self, name, /)\n",
            " |      Return getattr(self, name).\n",
            " |  \n",
            " |  __getitem__(self, key, /)\n",
            " |      Return self[key].\n",
            " |  \n",
            " |  __getnewargs__(...)\n",
            " |  \n",
            " |  __gt__(self, value, /)\n",
            " |      Return self>value.\n",
            " |  \n",
            " |  __hash__(self, /)\n",
            " |      Return hash(self).\n",
            " |  \n",
            " |  __iter__(self, /)\n",
            " |      Implement iter(self).\n",
            " |  \n",
            " |  __le__(self, value, /)\n",
            " |      Return self<=value.\n",
            " |  \n",
            " |  __len__(self, /)\n",
            " |      Return len(self).\n",
            " |  \n",
            " |  __lt__(self, value, /)\n",
            " |      Return self<value.\n",
            " |  \n",
            " |  __mod__(self, value, /)\n",
            " |      Return self%value.\n",
            " |  \n",
            " |  __mul__(self, value, /)\n",
            " |      Return self*value.\n",
            " |  \n",
            " |  __ne__(self, value, /)\n",
            " |      Return self!=value.\n",
            " |  \n",
            " |  __repr__(self, /)\n",
            " |      Return repr(self).\n",
            " |  \n",
            " |  __rmod__(self, value, /)\n",
            " |      Return value%self.\n",
            " |  \n",
            " |  __rmul__(self, value, /)\n",
            " |      Return value*self.\n",
            " |  \n",
            " |  __sizeof__(self, /)\n",
            " |      Return the size of the string in memory, in bytes.\n",
            " |  \n",
            " |  __str__(self, /)\n",
            " |      Return str(self).\n",
            " |  \n",
            " |  capitalize(self, /)\n",
            " |      Return a capitalized version of the string.\n",
            " |      \n",
            " |      More specifically, make the first character have upper case and the rest lower\n",
            " |      case.\n",
            " |  \n",
            " |  casefold(self, /)\n",
            " |      Return a version of the string suitable for caseless comparisons.\n",
            " |  \n",
            " |  center(self, width, fillchar=' ', /)\n",
            " |      Return a centered string of length width.\n",
            " |      \n",
            " |      Padding is done using the specified fill character (default is a space).\n",
            " |  \n",
            " |  count(...)\n",
            " |      S.count(sub[, start[, end]]) -> int\n",
            " |      \n",
            " |      Return the number of non-overlapping occurrences of substring sub in\n",
            " |      string S[start:end].  Optional arguments start and end are\n",
            " |      interpreted as in slice notation.\n",
            " |  \n",
            " |  encode(self, /, encoding='utf-8', errors='strict')\n",
            " |      Encode the string using the codec registered for encoding.\n",
            " |      \n",
            " |      encoding\n",
            " |        The encoding in which to encode the string.\n",
            " |      errors\n",
            " |        The error handling scheme to use for encoding errors.\n",
            " |        The default is 'strict' meaning that encoding errors raise a\n",
            " |        UnicodeEncodeError.  Other possible values are 'ignore', 'replace' and\n",
            " |        'xmlcharrefreplace' as well as any other name registered with\n",
            " |        codecs.register_error that can handle UnicodeEncodeErrors.\n",
            " |  \n",
            " |  endswith(...)\n",
            " |      S.endswith(suffix[, start[, end]]) -> bool\n",
            " |      \n",
            " |      Return True if S ends with the specified suffix, False otherwise.\n",
            " |      With optional start, test S beginning at that position.\n",
            " |      With optional end, stop comparing S at that position.\n",
            " |      suffix can also be a tuple of strings to try.\n",
            " |  \n",
            " |  expandtabs(self, /, tabsize=8)\n",
            " |      Return a copy where all tab characters are expanded using spaces.\n",
            " |      \n",
            " |      If tabsize is not given, a tab size of 8 characters is assumed.\n",
            " |  \n",
            " |  find(...)\n",
            " |      S.find(sub[, start[, end]]) -> int\n",
            " |      \n",
            " |      Return the lowest index in S where substring sub is found,\n",
            " |      such that sub is contained within S[start:end].  Optional\n",
            " |      arguments start and end are interpreted as in slice notation.\n",
            " |      \n",
            " |      Return -1 on failure.\n",
            " |  \n",
            " |  format(...)\n",
            " |      S.format(*args, **kwargs) -> str\n",
            " |      \n",
            " |      Return a formatted version of S, using substitutions from args and kwargs.\n",
            " |      The substitutions are identified by braces ('{' and '}').\n",
            " |  \n",
            " |  format_map(...)\n",
            " |      S.format_map(mapping) -> str\n",
            " |      \n",
            " |      Return a formatted version of S, using substitutions from mapping.\n",
            " |      The substitutions are identified by braces ('{' and '}').\n",
            " |  \n",
            " |  index(...)\n",
            " |      S.index(sub[, start[, end]]) -> int\n",
            " |      \n",
            " |      Return the lowest index in S where substring sub is found, \n",
            " |      such that sub is contained within S[start:end].  Optional\n",
            " |      arguments start and end are interpreted as in slice notation.\n",
            " |      \n",
            " |      Raises ValueError when the substring is not found.\n",
            " |  \n",
            " |  isalnum(self, /)\n",
            " |      Return True if the string is an alpha-numeric string, False otherwise.\n",
            " |      \n",
            " |      A string is alpha-numeric if all characters in the string are alpha-numeric and\n",
            " |      there is at least one character in the string.\n",
            " |  \n",
            " |  isalpha(self, /)\n",
            " |      Return True if the string is an alphabetic string, False otherwise.\n",
            " |      \n",
            " |      A string is alphabetic if all characters in the string are alphabetic and there\n",
            " |      is at least one character in the string.\n",
            " |  \n",
            " |  isascii(self, /)\n",
            " |      Return True if all characters in the string are ASCII, False otherwise.\n",
            " |      \n",
            " |      ASCII characters have code points in the range U+0000-U+007F.\n",
            " |      Empty string is ASCII too.\n",
            " |  \n",
            " |  isdecimal(self, /)\n",
            " |      Return True if the string is a decimal string, False otherwise.\n",
            " |      \n",
            " |      A string is a decimal string if all characters in the string are decimal and\n",
            " |      there is at least one character in the string.\n",
            " |  \n",
            " |  isdigit(self, /)\n",
            " |      Return True if the string is a digit string, False otherwise.\n",
            " |      \n",
            " |      A string is a digit string if all characters in the string are digits and there\n",
            " |      is at least one character in the string.\n",
            " |  \n",
            " |  isidentifier(self, /)\n",
            " |      Return True if the string is a valid Python identifier, False otherwise.\n",
            " |      \n",
            " |      Use keyword.iskeyword() to test for reserved identifiers such as \"def\" and\n",
            " |      \"class\".\n",
            " |  \n",
            " |  islower(self, /)\n",
            " |      Return True if the string is a lowercase string, False otherwise.\n",
            " |      \n",
            " |      A string is lowercase if all cased characters in the string are lowercase and\n",
            " |      there is at least one cased character in the string.\n",
            " |  \n",
            " |  isnumeric(self, /)\n",
            " |      Return True if the string is a numeric string, False otherwise.\n",
            " |      \n",
            " |      A string is numeric if all characters in the string are numeric and there is at\n",
            " |      least one character in the string.\n",
            " |  \n",
            " |  isprintable(self, /)\n",
            " |      Return True if the string is printable, False otherwise.\n",
            " |      \n",
            " |      A string is printable if all of its characters are considered printable in\n",
            " |      repr() or if it is empty.\n",
            " |  \n",
            " |  isspace(self, /)\n",
            " |      Return True if the string is a whitespace string, False otherwise.\n",
            " |      \n",
            " |      A string is whitespace if all characters in the string are whitespace and there\n",
            " |      is at least one character in the string.\n",
            " |  \n",
            " |  istitle(self, /)\n",
            " |      Return True if the string is a title-cased string, False otherwise.\n",
            " |      \n",
            " |      In a title-cased string, upper- and title-case characters may only\n",
            " |      follow uncased characters and lowercase characters only cased ones.\n",
            " |  \n",
            " |  isupper(self, /)\n",
            " |      Return True if the string is an uppercase string, False otherwise.\n",
            " |      \n",
            " |      A string is uppercase if all cased characters in the string are uppercase and\n",
            " |      there is at least one cased character in the string.\n",
            " |  \n",
            " |  join(self, iterable, /)\n",
            " |      Concatenate any number of strings.\n",
            " |      \n",
            " |      The string whose method is called is inserted in between each given string.\n",
            " |      The result is returned as a new string.\n",
            " |      \n",
            " |      Example: '.'.join(['ab', 'pq', 'rs']) -> 'ab.pq.rs'\n",
            " |  \n",
            " |  ljust(self, width, fillchar=' ', /)\n",
            " |      Return a left-justified string of length width.\n",
            " |      \n",
            " |      Padding is done using the specified fill character (default is a space).\n",
            " |  \n",
            " |  lower(self, /)\n",
            " |      Return a copy of the string converted to lowercase.\n",
            " |  \n",
            " |  lstrip(self, chars=None, /)\n",
            " |      Return a copy of the string with leading whitespace removed.\n",
            " |      \n",
            " |      If chars is given and not None, remove characters in chars instead.\n",
            " |  \n",
            " |  partition(self, sep, /)\n",
            " |      Partition the string into three parts using the given separator.\n",
            " |      \n",
            " |      This will search for the separator in the string.  If the separator is found,\n",
            " |      returns a 3-tuple containing the part before the separator, the separator\n",
            " |      itself, and the part after it.\n",
            " |      \n",
            " |      If the separator is not found, returns a 3-tuple containing the original string\n",
            " |      and two empty strings.\n",
            " |  \n",
            " |  replace(self, old, new, count=-1, /)\n",
            " |      Return a copy with all occurrences of substring old replaced by new.\n",
            " |      \n",
            " |        count\n",
            " |          Maximum number of occurrences to replace.\n",
            " |          -1 (the default value) means replace all occurrences.\n",
            " |      \n",
            " |      If the optional argument count is given, only the first count occurrences are\n",
            " |      replaced.\n",
            " |  \n",
            " |  rfind(...)\n",
            " |      S.rfind(sub[, start[, end]]) -> int\n",
            " |      \n",
            " |      Return the highest index in S where substring sub is found,\n",
            " |      such that sub is contained within S[start:end].  Optional\n",
            " |      arguments start and end are interpreted as in slice notation.\n",
            " |      \n",
            " |      Return -1 on failure.\n",
            " |  \n",
            " |  rindex(...)\n",
            " |      S.rindex(sub[, start[, end]]) -> int\n",
            " |      \n",
            " |      Return the highest index in S where substring sub is found,\n",
            " |      such that sub is contained within S[start:end].  Optional\n",
            " |      arguments start and end are interpreted as in slice notation.\n",
            " |      \n",
            " |      Raises ValueError when the substring is not found.\n",
            " |  \n",
            " |  rjust(self, width, fillchar=' ', /)\n",
            " |      Return a right-justified string of length width.\n",
            " |      \n",
            " |      Padding is done using the specified fill character (default is a space).\n",
            " |  \n",
            " |  rpartition(self, sep, /)\n",
            " |      Partition the string into three parts using the given separator.\n",
            " |      \n",
            " |      This will search for the separator in the string, starting at the end. If\n",
            " |      the separator is found, returns a 3-tuple containing the part before the\n",
            " |      separator, the separator itself, and the part after it.\n",
            " |      \n",
            " |      If the separator is not found, returns a 3-tuple containing two empty strings\n",
            " |      and the original string.\n",
            " |  \n",
            " |  rsplit(self, /, sep=None, maxsplit=-1)\n",
            " |      Return a list of the words in the string, using sep as the delimiter string.\n",
            " |      \n",
            " |        sep\n",
            " |          The delimiter according which to split the string.\n",
            " |          None (the default value) means split according to any whitespace,\n",
            " |          and discard empty strings from the result.\n",
            " |        maxsplit\n",
            " |          Maximum number of splits to do.\n",
            " |          -1 (the default value) means no limit.\n",
            " |      \n",
            " |      Splits are done starting at the end of the string and working to the front.\n",
            " |  \n",
            " |  rstrip(self, chars=None, /)\n",
            " |      Return a copy of the string with trailing whitespace removed.\n",
            " |      \n",
            " |      If chars is given and not None, remove characters in chars instead.\n",
            " |  \n",
            " |  split(self, /, sep=None, maxsplit=-1)\n",
            " |      Return a list of the words in the string, using sep as the delimiter string.\n",
            " |      \n",
            " |      sep\n",
            " |        The delimiter according which to split the string.\n",
            " |        None (the default value) means split according to any whitespace,\n",
            " |        and discard empty strings from the result.\n",
            " |      maxsplit\n",
            " |        Maximum number of splits to do.\n",
            " |        -1 (the default value) means no limit.\n",
            " |  \n",
            " |  splitlines(self, /, keepends=False)\n",
            " |      Return a list of the lines in the string, breaking at line boundaries.\n",
            " |      \n",
            " |      Line breaks are not included in the resulting list unless keepends is given and\n",
            " |      true.\n",
            " |  \n",
            " |  startswith(...)\n",
            " |      S.startswith(prefix[, start[, end]]) -> bool\n",
            " |      \n",
            " |      Return True if S starts with the specified prefix, False otherwise.\n",
            " |      With optional start, test S beginning at that position.\n",
            " |      With optional end, stop comparing S at that position.\n",
            " |      prefix can also be a tuple of strings to try.\n",
            " |  \n",
            " |  strip(self, chars=None, /)\n",
            " |      Return a copy of the string with leading and trailing whitespace removed.\n",
            " |      \n",
            " |      If chars is given and not None, remove characters in chars instead.\n",
            " |  \n",
            " |  swapcase(self, /)\n",
            " |      Convert uppercase characters to lowercase and lowercase characters to uppercase.\n",
            " |  \n",
            " |  title(self, /)\n",
            " |      Return a version of the string where each word is titlecased.\n",
            " |      \n",
            " |      More specifically, words start with uppercased characters and all remaining\n",
            " |      cased characters have lower case.\n",
            " |  \n",
            " |  translate(self, table, /)\n",
            " |      Replace each character in the string using the given translation table.\n",
            " |      \n",
            " |        table\n",
            " |          Translation table, which must be a mapping of Unicode ordinals to\n",
            " |          Unicode ordinals, strings, or None.\n",
            " |      \n",
            " |      The table must implement lookup/indexing via __getitem__, for instance a\n",
            " |      dictionary or list.  If this operation raises LookupError, the character is\n",
            " |      left untouched.  Characters mapped to None are deleted.\n",
            " |  \n",
            " |  upper(self, /)\n",
            " |      Return a copy of the string converted to uppercase.\n",
            " |  \n",
            " |  zfill(self, width, /)\n",
            " |      Pad a numeric string with zeros on the left, to fill a field of the given width.\n",
            " |      \n",
            " |      The string is never truncated.\n",
            " |  \n",
            " |  ----------------------------------------------------------------------\n",
            " |  Static methods defined here:\n",
            " |  \n",
            " |  __new__(*args, **kwargs) from builtins.type\n",
            " |      Create and return a new object.  See help(type) for accurate signature.\n",
            " |  \n",
            " |  maketrans(x, y=None, z=None, /)\n",
            " |      Return a translation table usable for str.translate().\n",
            " |      \n",
            " |      If there is only one argument, it must be a dictionary mapping Unicode\n",
            " |      ordinals (integers) or characters to Unicode ordinals, strings or None.\n",
            " |      Character keys will be then converted to ordinals.\n",
            " |      If there are two arguments, they must be strings of equal length, and\n",
            " |      in the resulting dictionary, each character in x will be mapped to the\n",
            " |      character at the same position in y. If there is a third argument, it\n",
            " |      must be a string, whose characters will be mapped to None in the result.\n",
            "\n"
          ]
        }
      ]
    },
    {
      "cell_type": "code",
      "metadata": {
        "id": "e48oemonwPDm"
      },
      "source": [
        "my_string = 'HELLO world!'"
      ],
      "execution_count": null,
      "outputs": []
    },
    {
      "cell_type": "code",
      "metadata": {
        "id": "JK7eyl6-wPDn",
        "colab": {
          "base_uri": "https://localhost:8080/"
        },
        "outputId": "94518d77-43a2-436d-bbf0-33636807fa35"
      },
      "source": [
        "# приведение к верхнему регистру\n",
        "print(my_string.upper())\n",
        "new_string = my_string.upper()\n",
        "print(new_string)\n",
        "# my_string = my_string.upper()\n",
        "print(my_string) "
      ],
      "execution_count": null,
      "outputs": [
        {
          "output_type": "stream",
          "name": "stdout",
          "text": [
            "HELLO WORLD!\n",
            "HELLO WORLD!\n",
            "HELLO world!\n"
          ]
        }
      ]
    },
    {
      "cell_type": "code",
      "metadata": {
        "id": "aPk5DS8ywPDn",
        "colab": {
          "base_uri": "https://localhost:8080/"
        },
        "outputId": "08172f0e-5091-4d31-ded0-32236f782a0f"
      },
      "source": [
        "# приведение к нижнему регистру\n",
        "print(my_string.lower())"
      ],
      "execution_count": null,
      "outputs": [
        {
          "output_type": "stream",
          "name": "stdout",
          "text": [
            "hello world!\n"
          ]
        }
      ]
    },
    {
      "cell_type": "code",
      "metadata": {
        "id": "HWPO5VNowPDn",
        "colab": {
          "base_uri": "https://localhost:8080/"
        },
        "outputId": "4d242217-c0ae-49c3-fa90-fcf71dbb5a83"
      },
      "source": [
        "# первая буква строки в верхнем регистре\n",
        "print(my_string.capitalize())"
      ],
      "execution_count": null,
      "outputs": [
        {
          "output_type": "stream",
          "name": "stdout",
          "text": [
            "Hello world!\n"
          ]
        }
      ]
    },
    {
      "cell_type": "code",
      "metadata": {
        "id": "W9ni9Go_wPDn",
        "colab": {
          "base_uri": "https://localhost:8080/"
        },
        "outputId": "46a32c59-5012-4dd4-e54b-7b4584b315c3"
      },
      "source": [
        "# первая буква каждого слова в верхнем регистре\n",
        "print(my_string.title())"
      ],
      "execution_count": null,
      "outputs": [
        {
          "output_type": "stream",
          "name": "stdout",
          "text": [
            "Hello World!\n"
          ]
        }
      ]
    },
    {
      "cell_type": "code",
      "metadata": {
        "id": "aN2kLv_lwPDo",
        "colab": {
          "base_uri": "https://localhost:8080/"
        },
        "outputId": "1276af9f-125d-4fea-8f7b-949b1a26039a"
      },
      "source": [
        "# заменяем подстроку в строке\n",
        "print(my_string.replace('HELLO', 'Goodbye'))"
      ],
      "execution_count": null,
      "outputs": [
        {
          "output_type": "stream",
          "name": "stdout",
          "text": [
            "Goodbye world!\n"
          ]
        }
      ]
    },
    {
      "cell_type": "code",
      "metadata": {
        "id": "LtBj4EhJwPDo",
        "colab": {
          "base_uri": "https://localhost:8080/"
        },
        "outputId": "d07e9242-2568-4a07-d47e-6654d569ba67"
      },
      "source": [
        "# метод find() ищет подстроку в строке и возвращает индекс первого элемента найденной подстроки. \n",
        "# если подстрока не найдена, то возвращает -1.\n",
        "s = 'red blue orange white blue'\n",
        "print(s.find('b'))\n",
        "print(s.find('blue'))"
      ],
      "execution_count": null,
      "outputs": [
        {
          "output_type": "stream",
          "name": "stdout",
          "text": [
            "4\n",
            "4\n"
          ]
        }
      ]
    },
    {
      "cell_type": "code",
      "metadata": {
        "id": "1JDfygL_wPDq",
        "colab": {
          "base_uri": "https://localhost:8080/"
        },
        "outputId": "5615cd49-ec09-4b20-a5f0-f55ef0eed56e"
      },
      "source": [
        "# определяем длину строки\n",
        "print(len(my_string))"
      ],
      "execution_count": null,
      "outputs": [
        {
          "output_type": "stream",
          "name": "stdout",
          "text": [
            "12\n"
          ]
        }
      ]
    },
    {
      "cell_type": "code",
      "metadata": {
        "id": "Dqble_JqwPDq",
        "colab": {
          "base_uri": "https://localhost:8080/"
        },
        "outputId": "3110efaa-5255-4f64-8428-ac6a71777f20"
      },
      "source": [
        "# проверка вхождение подстроки в строку\n",
        "my_string = 'HELLO world!'\n",
        "target_string = 'world'\n",
        "print(target_string in my_string)\n",
        "print(target_string not in my_string)"
      ],
      "execution_count": null,
      "outputs": [
        {
          "output_type": "stream",
          "name": "stdout",
          "text": [
            "True\n",
            "False\n"
          ]
        }
      ]
    },
    {
      "cell_type": "markdown",
      "metadata": {
        "id": "HDq-QZ_UwPDr"
      },
      "source": [
        "**[f-строки](https://blog.solidtalk.ru/f_strings)**\n",
        "\n",
        "Добавляя префикс f к строке можно встраивать в нее произвольные выражения при помощи фигурных скобок – { }."
      ]
    },
    {
      "cell_type": "code",
      "metadata": {
        "id": "vWAjI25SwPDr",
        "colab": {
          "base_uri": "https://localhost:8080/"
        },
        "outputId": "2ac329eb-84e7-4ab8-9236-d31803704231"
      },
      "source": [
        "name = 'oleg'\n",
        "lang = 'python'\n",
        "my_str = f'Hello, my name is {name.capitalize()}, i know {lang} a bit'\n",
        "print(my_str)\n",
        "# print(type(my_str))"
      ],
      "execution_count": null,
      "outputs": [
        {
          "output_type": "stream",
          "name": "stdout",
          "text": [
            "Hello, my name is {name.capitalize()}, i know {lang} a bit\n"
          ]
        }
      ]
    },
    {
      "cell_type": "markdown",
      "metadata": {
        "id": "kohJ7Byxirex"
      },
      "source": [
        "Можно разделять периоды чисел любым разделителем"
      ]
    },
    {
      "cell_type": "code",
      "metadata": {
        "colab": {
          "base_uri": "https://localhost:8080/"
        },
        "id": "nb0QYsTZiiGe",
        "outputId": "7d7bfeca-8431-4c83-b89e-40deee78c349"
      },
      "source": [
        "year_salary = 10000000\n",
        "\n",
        "print(f'Годовая зарплата: ${year_salary :,}')"
      ],
      "execution_count": null,
      "outputs": [
        {
          "output_type": "stream",
          "name": "stdout",
          "text": [
            "Годовая зарплата: $10,000,000\n"
          ]
        }
      ]
    },
    {
      "cell_type": "markdown",
      "metadata": {
        "id": "vNJl0kXqh8G9"
      },
      "source": [
        "Можно представлять числа с округлением до нужного количества знаков"
      ]
    },
    {
      "cell_type": "code",
      "metadata": {
        "id": "B0d8X-PmwPDs",
        "colab": {
          "base_uri": "https://localhost:8080/",
          "height": 206
        },
        "outputId": "a13c75c0-9a48-4098-e476-26b1c3628656"
      },
      "source": [
        "pi_value = 3.141592653589793\n",
        "\n",
        "print(f'Число Пи: {pi_value :.2f}')"
      ],
      "execution_count": null,
      "outputs": [
        {
          "output_type": "error",
          "ename": "ValueError",
          "evalue": "ignored",
          "traceback": [
            "\u001b[0;31m---------------------------------------------------------------------------\u001b[0m",
            "\u001b[0;31mValueError\u001b[0m                                Traceback (most recent call last)",
            "\u001b[0;32m<ipython-input-136-549dbf4a0420>\u001b[0m in \u001b[0;36m<module>\u001b[0;34m()\u001b[0m\n\u001b[1;32m      1\u001b[0m \u001b[0mpi_value\u001b[0m \u001b[0;34m=\u001b[0m \u001b[0;36m3.141592653589793\u001b[0m\u001b[0;34m\u001b[0m\u001b[0;34m\u001b[0m\u001b[0m\n\u001b[1;32m      2\u001b[0m \u001b[0;34m\u001b[0m\u001b[0m\n\u001b[0;32m----> 3\u001b[0;31m \u001b[0mprint\u001b[0m\u001b[0;34m(\u001b[0m\u001b[0;34mf'Число Пи: {pi_value :.-2f}'\u001b[0m\u001b[0;34m)\u001b[0m\u001b[0;34m\u001b[0m\u001b[0;34m\u001b[0m\u001b[0m\n\u001b[0m",
            "\u001b[0;31mValueError\u001b[0m: Format specifier missing precision"
          ]
        }
      ]
    },
    {
      "cell_type": "code",
      "source": [
        "number = 123456\n",
        "\n",
        "number_1 = number % 10\n",
        "number_1\n",
        "number_2 = number // 100000\n",
        "number_2\n",
        "number_3 = number // 10000 % 10\n",
        "number_3"
      ],
      "metadata": {
        "colab": {
          "base_uri": "https://localhost:8080/"
        },
        "id": "hJl-zeL4zfGE",
        "outputId": "ef3c1cd8-b60f-4025-d92a-0db4c347aa87"
      },
      "execution_count": null,
      "outputs": [
        {
          "output_type": "execute_result",
          "data": {
            "text/plain": [
              "2"
            ]
          },
          "metadata": {},
          "execution_count": 135
        }
      ]
    },
    {
      "cell_type": "markdown",
      "metadata": {
        "id": "gAgqIV6fdb-i"
      },
      "source": [
        "**Практика**\n",
        "\n",
        "Выведите результат в виде:\n",
        "```\n",
        "Pluto weighs about 1.3e+22 kilograms (0.218% of Earth's mass). It is home to 52,910,390 Plutonians.\n",
        "```"
      ]
    },
    {
      "cell_type": "code",
      "metadata": {
        "id": "aVeAnbGqdbaH"
      },
      "source": [
        "planet = 'pluto'\n",
        "pluto_mass = 1.303 * 10**22\n",
        "earth_mass = 5.9722 * 10**24\n",
        "population = 52910390"
      ],
      "execution_count": null,
      "outputs": []
    },
    {
      "cell_type": "code",
      "metadata": {
        "id": "niMc9wUIyMFa",
        "colab": {
          "base_uri": "https://localhost:8080/",
          "height": 36
        },
        "outputId": "bfccc071-a60a-4c8a-c356-0ac2b07a5994"
      },
      "source": [
        "res = f\"{planet.title()} weighs about {pluto_mass :.1e} kilograms ({pluto_mass / earth_mass :.3%} of Earth's mass). It is home to {population :,} Plutonians.\"\n",
        "res"
      ],
      "execution_count": null,
      "outputs": [
        {
          "output_type": "execute_result",
          "data": {
            "text/plain": [
              "\"Pluto weighs about 1.3e+22 kilograms (0.218% of Earth's mass). It is home to 52,910,390 Plutonians.\""
            ],
            "application/vnd.google.colaboratory.intrinsic+json": {
              "type": "string"
            }
          },
          "metadata": {},
          "execution_count": 128
        }
      ]
    },
    {
      "cell_type": "markdown",
      "metadata": {
        "id": "tNbqcywHj0_W"
      },
      "source": [
        "**Индексация и срезы**\n",
        "\n",
        "Индексация – доступ к элементам объекта по их порядковому номеру в нем. Индексация элементов начинается с нуля при прямой индексаций и с -1 (последний элемент) при обратной.\n",
        "\n",
        "Получить значение элемента по индексу можно при помощи `[ ]`,\n",
        "например: `my_string[0]` и `my_string[-6]` (при обратной индексации).\n",
        "\n",
        "Можно “доставать” из строки несколько элементов при помощи “срезов” (slicing). Для указания интервала среза используется `:`\n",
        "\n",
        "`some_string[START:STOP:STEP]` - берёт срез от номера `START`, до `STOP` не включая его, с шагом `STEP`. По умолчанию `START` = 0, `STOP` = длина объекта, `STEP` = 1. Какие-либо (а возможно, и все) параметры могут быть опущены."
      ]
    },
    {
      "cell_type": "code",
      "metadata": {
        "id": "Nt-KH_YxwPDs"
      },
      "source": [
        "my_string = 'Hello World'"
      ],
      "execution_count": null,
      "outputs": []
    },
    {
      "cell_type": "code",
      "metadata": {
        "id": "8rrcmScewPDt",
        "colab": {
          "base_uri": "https://localhost:8080/"
        },
        "outputId": "fd7907d5-0c5d-47dc-f7bd-1432e9fcd89a"
      },
      "source": [
        "print(my_string[0])"
      ],
      "execution_count": null,
      "outputs": [
        {
          "output_type": "stream",
          "name": "stdout",
          "text": [
            "H\n"
          ]
        }
      ]
    },
    {
      "cell_type": "code",
      "metadata": {
        "id": "wxIOU3U1wPDt",
        "colab": {
          "base_uri": "https://localhost:8080/",
          "height": 170
        },
        "outputId": "1bb64155-9de1-4cee-a642-9a5923c8f471"
      },
      "source": [
        "print(my_string[100])"
      ],
      "execution_count": null,
      "outputs": [
        {
          "output_type": "error",
          "ename": "IndexError",
          "evalue": "ignored",
          "traceback": [
            "\u001b[0;31m---------------------------------------------------------------------------\u001b[0m",
            "\u001b[0;31mIndexError\u001b[0m                                Traceback (most recent call last)",
            "\u001b[0;32m<ipython-input-139-857e65174683>\u001b[0m in \u001b[0;36m<module>\u001b[0;34m()\u001b[0m\n\u001b[0;32m----> 1\u001b[0;31m \u001b[0mprint\u001b[0m\u001b[0;34m(\u001b[0m\u001b[0mmy_string\u001b[0m\u001b[0;34m[\u001b[0m\u001b[0;36m100\u001b[0m\u001b[0;34m]\u001b[0m\u001b[0;34m)\u001b[0m\u001b[0;34m\u001b[0m\u001b[0;34m\u001b[0m\u001b[0m\n\u001b[0m",
            "\u001b[0;31mIndexError\u001b[0m: string index out of range"
          ]
        }
      ]
    },
    {
      "cell_type": "code",
      "metadata": {
        "id": "S-06jhQmwPDt",
        "colab": {
          "base_uri": "https://localhost:8080/"
        },
        "outputId": "73f0785a-2393-41ad-f348-ed7f141f02d9"
      },
      "source": [
        "print(my_string[-5])"
      ],
      "execution_count": null,
      "outputs": [
        {
          "output_type": "stream",
          "name": "stdout",
          "text": [
            "W\n"
          ]
        }
      ]
    },
    {
      "cell_type": "code",
      "metadata": {
        "id": "pKByS2_VwPDt",
        "colab": {
          "base_uri": "https://localhost:8080/"
        },
        "outputId": "9d17d8fa-c475-4639-e205-ee22144f331f"
      },
      "source": [
        "print(my_string[3:8])"
      ],
      "execution_count": null,
      "outputs": [
        {
          "output_type": "stream",
          "name": "stdout",
          "text": [
            "lo Wo\n"
          ]
        }
      ]
    },
    {
      "cell_type": "code",
      "metadata": {
        "id": "jcYD5ZlmwpyS",
        "colab": {
          "base_uri": "https://localhost:8080/"
        },
        "outputId": "3a5a2e1a-252e-4c22-8fc5-09ab9ae4f9d9"
      },
      "source": [
        "print(my_string[1:8:2])"
      ],
      "execution_count": null,
      "outputs": [
        {
          "output_type": "stream",
          "name": "stdout",
          "text": [
            "el o\n"
          ]
        }
      ]
    },
    {
      "cell_type": "code",
      "source": [
        "print(my_string[5::2])"
      ],
      "metadata": {
        "colab": {
          "base_uri": "https://localhost:8080/"
        },
        "id": "5AD3jtSG04og",
        "outputId": "272d55c3-24bf-4aac-d5b2-bb326fd6523f"
      },
      "execution_count": null,
      "outputs": [
        {
          "output_type": "stream",
          "name": "stdout",
          "text": [
            " ol\n"
          ]
        }
      ]
    },
    {
      "cell_type": "code",
      "metadata": {
        "id": "xKkIm9aiwwT8",
        "colab": {
          "base_uri": "https://localhost:8080/"
        },
        "outputId": "ff46ac14-8ef3-47a3-c41f-785e13ff26fe"
      },
      "source": [
        "print(my_string[::-1])"
      ],
      "execution_count": null,
      "outputs": [
        {
          "output_type": "stream",
          "name": "stdout",
          "text": [
            "dlroW olleH\n"
          ]
        }
      ]
    },
    {
      "cell_type": "markdown",
      "metadata": {
        "id": "l39r5h_rCSJe"
      },
      "source": [
        "Т.к. строки являются неимзеняемым типом, то нельзя перезаписать какой-то отдельный символ или срез в строке."
      ]
    },
    {
      "cell_type": "code",
      "metadata": {
        "id": "1e1ncJObCSJf",
        "scrolled": true,
        "colab": {
          "base_uri": "https://localhost:8080/",
          "height": 170
        },
        "outputId": "c994fbf2-c126-4b96-b0b0-cea599788237"
      },
      "source": [
        "my_string[-1] = '!'"
      ],
      "execution_count": null,
      "outputs": [
        {
          "output_type": "error",
          "ename": "TypeError",
          "evalue": "ignored",
          "traceback": [
            "\u001b[0;31m---------------------------------------------------------------------------\u001b[0m",
            "\u001b[0;31mTypeError\u001b[0m                                 Traceback (most recent call last)",
            "\u001b[0;32m<ipython-input-147-7470e2dc20b8>\u001b[0m in \u001b[0;36m<module>\u001b[0;34m()\u001b[0m\n\u001b[0;32m----> 1\u001b[0;31m \u001b[0mmy_string\u001b[0m\u001b[0;34m[\u001b[0m\u001b[0;34m-\u001b[0m\u001b[0;36m1\u001b[0m\u001b[0;34m]\u001b[0m \u001b[0;34m=\u001b[0m \u001b[0;34m'!'\u001b[0m\u001b[0;34m\u001b[0m\u001b[0;34m\u001b[0m\u001b[0m\n\u001b[0m",
            "\u001b[0;31mTypeError\u001b[0m: 'str' object does not support item assignment"
          ]
        }
      ]
    },
    {
      "cell_type": "markdown",
      "metadata": {
        "id": "SFgwtcgtwPDu"
      },
      "source": [
        "**Практика**.\n",
        "Дана переменная, в которой хранится текст из четного числа символов. Напишите код, который выводит на экран две средних буквы этой строки\n",
        "\n",
        "Примеры работы программы:\n",
        "\n",
        "`word = 'test'`  \n",
        "Результат:  \n",
        "`es`"
      ]
    },
    {
      "cell_type": "code",
      "metadata": {
        "id": "3P6QEr_wZY28"
      },
      "source": [
        "word = 'test'"
      ],
      "execution_count": null,
      "outputs": []
    },
    {
      "cell_type": "code",
      "metadata": {
        "id": "qMui6ECXwPDu",
        "colab": {
          "base_uri": "https://localhost:8080/"
        },
        "outputId": "59c70a86-24df-4d6a-abc6-b66dc5103fbe"
      },
      "source": [
        "print(word[len(word)//2-1:len(word)//2+1])"
      ],
      "execution_count": null,
      "outputs": [
        {
          "output_type": "stream",
          "name": "stdout",
          "text": [
            "es\n"
          ]
        }
      ]
    },
    {
      "cell_type": "markdown",
      "metadata": {
        "id": "nLrBxG2UuXqQ"
      },
      "source": [
        "## Рекомендуемые материалы\n",
        "\n",
        "1. Тренажеры: https://t.me/solidtalk/94\n",
        "\n",
        "2. Литература:\n",
        " - А Byte of Python [англ. версия](https://python.swaroopch.com/), [рус. перевод](https://wombat.org.ua/AByteOfPython/AByteofPythonRussian-2.02.pdf). Легально, бесплатно, без СМС и регистрации.\n",
        " - Адитья Бхаргава, Грокаем алгоритмы. [На бумаге](https://bit.ly/3c4Drq3), [Электронная](https://bit.ly/3IWxklj). Бесплатно сами.\n",
        "\n"
      ]
    },
    {
      "cell_type": "markdown",
      "metadata": {
        "id": "n0u7ea-9TC6U"
      },
      "source": [
        "**Установка  и настройка Anaconda**\n",
        "\n",
        "\n",
        "https://www.anaconda.com/distribution/\n",
        "\n",
        "1. Запустите скачанный инсталлятор. В первом появившемся окне необходимо нажать “Next”.\n",
        "2. Далее следует принять лицензионное соглашение.\n",
        "3. Выберете одну из опций установки:\n",
        "\n",
        "    * Just Me – только для пользователя, запустившего установку;\n",
        "    * All Users – для всех пользователей. (для тех, кто планирует выйти за пределы анализа данных)\n",
        "    \n",
        "4. Укажите путь, по которому будет установлена Anaconda.\n",
        "5. Укажите дополнительные опции:\n",
        "\n",
        "    * Add Anaconda to the system PATH environment variable – добавить Anaconda в системную переменную PATH\n",
        "    * Register Anaconda as the system Python  – использовать Anaconda, как интерпретатор Python по умолчанию.\n",
        "\n",
        "6. Для начала установки нажмите на кнопку “Install”\n",
        "7. После установки программы запустите Jupyter Notebook  (наберите его в поиске)\n",
        "8. В результате запустится веб-сервер и среда разработки в браузере.\n",
        "9. Создайте ноутбук для разработки, для этого нажмите на кнопку New (в правом углу окна) и в появившемся списке выберете Python.\n"
      ]
    },
    {
      "cell_type": "markdown",
      "metadata": {
        "id": "7EGuFGDPuVom"
      },
      "source": [
        "# Спасибо за внимание! Буду рад ответить на ваши вопросы\n",
        "Форма ОС: https://forms.gle/y8xaFwJqtbFSjUeG8"
      ]
    }
  ]
}