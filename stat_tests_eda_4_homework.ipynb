{
  "cells": [
    {
      "cell_type": "markdown",
      "metadata": {
        "id": "view-in-github",
        "colab_type": "text"
      },
      "source": [
        "<a href=\"https://colab.research.google.com/github/Dredox22/sf_data_science/blob/main/stat_tests_eda_4_homework.ipynb\" target=\"_parent\"><img src=\"https://colab.research.google.com/assets/colab-badge.svg\" alt=\"Open In Colab\"/></a>"
      ]
    },
    {
      "cell_type": "markdown",
      "metadata": {
        "id": "OHVffejibt2_"
      },
      "source": [
        "# Установка библиотек"
      ]
    },
    {
      "cell_type": "code",
      "execution_count": 1,
      "metadata": {
        "id": "KduVFzA8a6FL"
      },
      "outputs": [],
      "source": [
        "import pandas as pd #для работы с таблицами"
      ]
    },
    {
      "cell_type": "markdown",
      "metadata": {
        "id": "YulE_s4FcYUK"
      },
      "source": [
        "Для автоматического применения статистического критерия (теста) используется модуль `stats` библиотеки `scipy`.\n",
        "\n",
        "Этот модуль содержит большое количество вероятностных распределений, корреляционные функции и статистические тесты и многое другое.\n",
        "\n",
        "Также активно используется библиотека `statsmodels`\n",
        "\n",
        "Для установки библиотеки `scipy` и `statsmodels` можно воспользоваться менеджером пакетов `pip`."
      ]
    },
    {
      "cell_type": "code",
      "execution_count": 2,
      "metadata": {
        "colab": {
          "base_uri": "https://localhost:8080/"
        },
        "id": "EcpkUidIb7Am",
        "outputId": "b880be5f-4a49-415c-92ea-cfbe1b7babd6"
      },
      "outputs": [
        {
          "output_type": "stream",
          "name": "stdout",
          "text": [
            "Looking in indexes: https://pypi.org/simple, https://us-python.pkg.dev/colab-wheels/public/simple/\n",
            "Requirement already satisfied: scipy in /usr/local/lib/python3.10/dist-packages (1.10.1)\n",
            "Requirement already satisfied: numpy<1.27.0,>=1.19.5 in /usr/local/lib/python3.10/dist-packages (from scipy) (1.22.4)\n"
          ]
        }
      ],
      "source": [
        "%pip install scipy"
      ]
    },
    {
      "cell_type": "code",
      "execution_count": 3,
      "metadata": {
        "colab": {
          "base_uri": "https://localhost:8080/"
        },
        "id": "zal3K0H0_qIx",
        "outputId": "f172216a-7df2-4df5-fe0f-27878e3d46e9"
      },
      "outputs": [
        {
          "output_type": "stream",
          "name": "stdout",
          "text": [
            "Looking in indexes: https://pypi.org/simple, https://us-python.pkg.dev/colab-wheels/public/simple/\n",
            "Requirement already satisfied: statsmodels in /usr/local/lib/python3.10/dist-packages (0.13.5)\n",
            "Requirement already satisfied: pandas>=0.25 in /usr/local/lib/python3.10/dist-packages (from statsmodels) (1.5.3)\n",
            "Requirement already satisfied: patsy>=0.5.2 in /usr/local/lib/python3.10/dist-packages (from statsmodels) (0.5.3)\n",
            "Requirement already satisfied: packaging>=21.3 in /usr/local/lib/python3.10/dist-packages (from statsmodels) (23.1)\n",
            "Requirement already satisfied: scipy>=1.3 in /usr/local/lib/python3.10/dist-packages (from statsmodels) (1.10.1)\n",
            "Requirement already satisfied: numpy>=1.17 in /usr/local/lib/python3.10/dist-packages (from statsmodels) (1.22.4)\n",
            "Requirement already satisfied: python-dateutil>=2.8.1 in /usr/local/lib/python3.10/dist-packages (from pandas>=0.25->statsmodels) (2.8.2)\n",
            "Requirement already satisfied: pytz>=2020.1 in /usr/local/lib/python3.10/dist-packages (from pandas>=0.25->statsmodels) (2022.7.1)\n",
            "Requirement already satisfied: six in /usr/local/lib/python3.10/dist-packages (from patsy>=0.5.2->statsmodels) (1.16.0)\n"
          ]
        }
      ],
      "source": [
        "%pip install statsmodels"
      ]
    },
    {
      "cell_type": "markdown",
      "metadata": {
        "id": "-vBWXginfhcC"
      },
      "source": [
        "\n",
        "# Загрузка данных"
      ]
    },
    {
      "cell_type": "markdown",
      "metadata": {
        "id": "2dThpRAafkwo"
      },
      "source": [
        "Для скачивания данных используем команду `!wget`. \n",
        "\n",
        "Данные появятся в локальной директории.\n",
        "\n",
        "Мы будем использовать информацию о диаметре пицц разных производителей."
      ]
    },
    {
      "cell_type": "code",
      "execution_count": 4,
      "metadata": {
        "colab": {
          "base_uri": "https://localhost:8080/"
        },
        "id": "KNT0oXUSdTDp",
        "outputId": "b2089b47-a311-423c-8d7e-878aa00ce7fb"
      },
      "outputs": [
        {
          "output_type": "stream",
          "name": "stdout",
          "text": [
            "--2023-05-12 22:25:26--  https://raw.githubusercontent.com/harika-bonthu/Hypothesis-test-examples/main/pizzas.csv\n",
            "Resolving raw.githubusercontent.com (raw.githubusercontent.com)... 185.199.108.133, 185.199.109.133, 185.199.110.133, ...\n",
            "Connecting to raw.githubusercontent.com (raw.githubusercontent.com)|185.199.108.133|:443... connected.\n",
            "HTTP request sent, awaiting response... 200 OK\n",
            "Length: 539 [text/plain]\n",
            "Saving to: ‘pizzas.csv’\n",
            "\n",
            "pizzas.csv          100%[===================>]     539  --.-KB/s    in 0s      \n",
            "\n",
            "2023-05-12 22:25:26 (14.7 MB/s) - ‘pizzas.csv’ saved [539/539]\n",
            "\n"
          ]
        }
      ],
      "source": [
        "!wget https://raw.githubusercontent.com/harika-bonthu/Hypothesis-test-examples/main/pizzas.csv"
      ]
    },
    {
      "cell_type": "markdown",
      "metadata": {
        "id": "vCArXsDrfy2H"
      },
      "source": [
        "Загрузим данные в память ноутбука."
      ]
    },
    {
      "cell_type": "code",
      "execution_count": 5,
      "metadata": {
        "id": "g_Ew2HTZfyOF"
      },
      "outputs": [],
      "source": [
        "data = pd.read_csv('pizzas.csv')"
      ]
    },
    {
      "cell_type": "code",
      "execution_count": 6,
      "metadata": {
        "id": "vM38BV_KsBBR"
      },
      "outputs": [],
      "source": [
        "data.rename(columns={'Making Unit 1': 'Пиццерия №1', 'Making Unit 2': 'Пиццерия №2'}, inplace=True)"
      ]
    },
    {
      "cell_type": "code",
      "execution_count": 7,
      "metadata": {
        "colab": {
          "base_uri": "https://localhost:8080/",
          "height": 206
        },
        "id": "1q4YmSNvgokX",
        "outputId": "13765af2-ed6f-48df-d730-8ddfab708799"
      },
      "outputs": [
        {
          "output_type": "execute_result",
          "data": {
            "text/plain": [
              "   Пиццерия №1  Пиццерия №2\n",
              "0       6.8090       6.7703\n",
              "1       6.4376       7.5093\n",
              "2       6.9157       6.7300\n",
              "3       7.3012       6.7878\n",
              "4       7.4488       7.1522"
            ],
            "text/html": [
              "\n",
              "  <div id=\"df-15a37eff-34e5-4e52-839a-355fac0779e0\">\n",
              "    <div class=\"colab-df-container\">\n",
              "      <div>\n",
              "<style scoped>\n",
              "    .dataframe tbody tr th:only-of-type {\n",
              "        vertical-align: middle;\n",
              "    }\n",
              "\n",
              "    .dataframe tbody tr th {\n",
              "        vertical-align: top;\n",
              "    }\n",
              "\n",
              "    .dataframe thead th {\n",
              "        text-align: right;\n",
              "    }\n",
              "</style>\n",
              "<table border=\"1\" class=\"dataframe\">\n",
              "  <thead>\n",
              "    <tr style=\"text-align: right;\">\n",
              "      <th></th>\n",
              "      <th>Пиццерия №1</th>\n",
              "      <th>Пиццерия №2</th>\n",
              "    </tr>\n",
              "  </thead>\n",
              "  <tbody>\n",
              "    <tr>\n",
              "      <th>0</th>\n",
              "      <td>6.8090</td>\n",
              "      <td>6.7703</td>\n",
              "    </tr>\n",
              "    <tr>\n",
              "      <th>1</th>\n",
              "      <td>6.4376</td>\n",
              "      <td>7.5093</td>\n",
              "    </tr>\n",
              "    <tr>\n",
              "      <th>2</th>\n",
              "      <td>6.9157</td>\n",
              "      <td>6.7300</td>\n",
              "    </tr>\n",
              "    <tr>\n",
              "      <th>3</th>\n",
              "      <td>7.3012</td>\n",
              "      <td>6.7878</td>\n",
              "    </tr>\n",
              "    <tr>\n",
              "      <th>4</th>\n",
              "      <td>7.4488</td>\n",
              "      <td>7.1522</td>\n",
              "    </tr>\n",
              "  </tbody>\n",
              "</table>\n",
              "</div>\n",
              "      <button class=\"colab-df-convert\" onclick=\"convertToInteractive('df-15a37eff-34e5-4e52-839a-355fac0779e0')\"\n",
              "              title=\"Convert this dataframe to an interactive table.\"\n",
              "              style=\"display:none;\">\n",
              "        \n",
              "  <svg xmlns=\"http://www.w3.org/2000/svg\" height=\"24px\"viewBox=\"0 0 24 24\"\n",
              "       width=\"24px\">\n",
              "    <path d=\"M0 0h24v24H0V0z\" fill=\"none\"/>\n",
              "    <path d=\"M18.56 5.44l.94 2.06.94-2.06 2.06-.94-2.06-.94-.94-2.06-.94 2.06-2.06.94zm-11 1L8.5 8.5l.94-2.06 2.06-.94-2.06-.94L8.5 2.5l-.94 2.06-2.06.94zm10 10l.94 2.06.94-2.06 2.06-.94-2.06-.94-.94-2.06-.94 2.06-2.06.94z\"/><path d=\"M17.41 7.96l-1.37-1.37c-.4-.4-.92-.59-1.43-.59-.52 0-1.04.2-1.43.59L10.3 9.45l-7.72 7.72c-.78.78-.78 2.05 0 2.83L4 21.41c.39.39.9.59 1.41.59.51 0 1.02-.2 1.41-.59l7.78-7.78 2.81-2.81c.8-.78.8-2.07 0-2.86zM5.41 20L4 18.59l7.72-7.72 1.47 1.35L5.41 20z\"/>\n",
              "  </svg>\n",
              "      </button>\n",
              "      \n",
              "  <style>\n",
              "    .colab-df-container {\n",
              "      display:flex;\n",
              "      flex-wrap:wrap;\n",
              "      gap: 12px;\n",
              "    }\n",
              "\n",
              "    .colab-df-convert {\n",
              "      background-color: #E8F0FE;\n",
              "      border: none;\n",
              "      border-radius: 50%;\n",
              "      cursor: pointer;\n",
              "      display: none;\n",
              "      fill: #1967D2;\n",
              "      height: 32px;\n",
              "      padding: 0 0 0 0;\n",
              "      width: 32px;\n",
              "    }\n",
              "\n",
              "    .colab-df-convert:hover {\n",
              "      background-color: #E2EBFA;\n",
              "      box-shadow: 0px 1px 2px rgba(60, 64, 67, 0.3), 0px 1px 3px 1px rgba(60, 64, 67, 0.15);\n",
              "      fill: #174EA6;\n",
              "    }\n",
              "\n",
              "    [theme=dark] .colab-df-convert {\n",
              "      background-color: #3B4455;\n",
              "      fill: #D2E3FC;\n",
              "    }\n",
              "\n",
              "    [theme=dark] .colab-df-convert:hover {\n",
              "      background-color: #434B5C;\n",
              "      box-shadow: 0px 1px 3px 1px rgba(0, 0, 0, 0.15);\n",
              "      filter: drop-shadow(0px 1px 2px rgba(0, 0, 0, 0.3));\n",
              "      fill: #FFFFFF;\n",
              "    }\n",
              "  </style>\n",
              "\n",
              "      <script>\n",
              "        const buttonEl =\n",
              "          document.querySelector('#df-15a37eff-34e5-4e52-839a-355fac0779e0 button.colab-df-convert');\n",
              "        buttonEl.style.display =\n",
              "          google.colab.kernel.accessAllowed ? 'block' : 'none';\n",
              "\n",
              "        async function convertToInteractive(key) {\n",
              "          const element = document.querySelector('#df-15a37eff-34e5-4e52-839a-355fac0779e0');\n",
              "          const dataTable =\n",
              "            await google.colab.kernel.invokeFunction('convertToInteractive',\n",
              "                                                     [key], {});\n",
              "          if (!dataTable) return;\n",
              "\n",
              "          const docLinkHtml = 'Like what you see? Visit the ' +\n",
              "            '<a target=\"_blank\" href=https://colab.research.google.com/notebooks/data_table.ipynb>data table notebook</a>'\n",
              "            + ' to learn more about interactive tables.';\n",
              "          element.innerHTML = '';\n",
              "          dataTable['output_type'] = 'display_data';\n",
              "          await google.colab.output.renderOutput(dataTable, element);\n",
              "          const docLink = document.createElement('div');\n",
              "          docLink.innerHTML = docLinkHtml;\n",
              "          element.appendChild(docLink);\n",
              "        }\n",
              "      </script>\n",
              "    </div>\n",
              "  </div>\n",
              "  "
            ]
          },
          "metadata": {},
          "execution_count": 7
        }
      ],
      "source": [
        "data.head()"
      ]
    },
    {
      "cell_type": "markdown",
      "metadata": {
        "id": "W7hG5sEM2lmb"
      },
      "source": [
        "# Проверка данных на нормальность\n"
      ]
    },
    {
      "cell_type": "code",
      "execution_count": 8,
      "metadata": {
        "id": "I9M0a3qn2QIw"
      },
      "outputs": [],
      "source": [
        "H0 = 'Данные распределены нормально'\n",
        "Ha = 'Данные не распределены нормально (мы отвергаем H0)'"
      ]
    },
    {
      "cell_type": "markdown",
      "metadata": {
        "id": "0VR1hwcS3J7Y"
      },
      "source": [
        "Установим уровень значимости"
      ]
    },
    {
      "cell_type": "code",
      "execution_count": 9,
      "metadata": {
        "id": "4Kh4PVmV3MfS"
      },
      "outputs": [],
      "source": [
        "alpha = 0.05"
      ]
    },
    {
      "cell_type": "markdown",
      "metadata": {
        "id": "pCXYmT6Ix2H1"
      },
      "source": [
        "## Тест Шапиро-Уилка"
      ]
    },
    {
      "cell_type": "code",
      "execution_count": 10,
      "metadata": {
        "id": "H7xzCLs03M7v"
      },
      "outputs": [],
      "source": [
        "from scipy.stats import shapiro"
      ]
    },
    {
      "cell_type": "code",
      "execution_count": 11,
      "metadata": {
        "colab": {
          "base_uri": "https://localhost:8080/"
        },
        "id": "z62NREnsx7sn",
        "outputId": "83a3c944-b6d9-4140-949a-ba02e2f1f163"
      },
      "outputs": [
        {
          "output_type": "stream",
          "name": "stdout",
          "text": [
            "p=0.204\n",
            "Данные распределены нормально\n"
          ]
        }
      ],
      "source": [
        "_, p = shapiro(data)\n",
        "print('p=%.3f' % p)\n",
        "\n",
        "# Интерпретация \n",
        "\n",
        "if p > alpha:\n",
        "\tprint(H0)\n",
        "else:\n",
        "\tprint(Ha)"
      ]
    },
    {
      "cell_type": "markdown",
      "metadata": {
        "id": "ZUTL3OctykmR"
      },
      "source": [
        "## Тест Д’Агостино"
      ]
    },
    {
      "cell_type": "code",
      "execution_count": 12,
      "metadata": {
        "id": "V3rmWxUTyl_y"
      },
      "outputs": [],
      "source": [
        "from scipy.stats import normaltest"
      ]
    },
    {
      "cell_type": "code",
      "execution_count": 13,
      "metadata": {
        "colab": {
          "base_uri": "https://localhost:8080/"
        },
        "id": "W4Ma9jelyqbB",
        "outputId": "fdd89960-a6c5-4971-8802-25dec5a0ebe6"
      },
      "outputs": [
        {
          "output_type": "stream",
          "name": "stdout",
          "text": [
            "p=0.251\n",
            "Данные распределены нормально\n"
          ]
        }
      ],
      "source": [
        "_, p = normaltest(data)\n",
        "#normaltest возвращает двустороннюю вероятность для проверки гипотезы\n",
        "\n",
        "print('p=%.3f' % p[0])\n",
        "\n",
        "# Интерпретация \n",
        "\n",
        "if p[0] > alpha/2:\n",
        "\tprint(H0)\n",
        "else:\n",
        "\tprint(Ha)"
      ]
    },
    {
      "cell_type": "markdown",
      "metadata": {
        "id": "MFtBDbQq1-vE"
      },
      "source": [
        "# Независимый T-тест "
      ]
    },
    {
      "cell_type": "code",
      "execution_count": 14,
      "metadata": {
        "id": "1028Lbas2CZ5"
      },
      "outputs": [],
      "source": [
        "from scipy.stats import ttest_ind"
      ]
    },
    {
      "cell_type": "code",
      "execution_count": 15,
      "metadata": {
        "id": "52VDODJB2KGN"
      },
      "outputs": [],
      "source": [
        "H0 = 'Нет значимой разницы между диаметрами пиццы в разных пиццериях.'\n",
        "Ha = 'Есть значимая разница между диаметрами пиццы в разных пиццериях.'"
      ]
    },
    {
      "cell_type": "markdown",
      "metadata": {
        "id": "pLNOEbxd2-WH"
      },
      "source": [
        "Зависимая переменная (диаметр пиццы) является количественной. Группы происходят из разных совокупностей. Следовательно, мы используем независимый T-тест."
      ]
    },
    {
      "cell_type": "code",
      "execution_count": 16,
      "metadata": {
        "colab": {
          "base_uri": "https://localhost:8080/"
        },
        "id": "RCu5a6lv2un8",
        "outputId": "6d9b65f6-f196-4222-b094-6f4a50f6d6ec"
      },
      "outputs": [
        {
          "output_type": "stream",
          "name": "stdout",
          "text": [
            "\n",
            "*** Результаты независимого T-теста ***\n",
            "0.47 > 0.05. Мы не можем отвергнуть нулевую гипотезу. Нет значимой разницы между диаметрами пиццы в разных пиццериях.\n"
          ]
        }
      ],
      "source": [
        "def t_test(df):\n",
        "    print('\\n' + \"*** Результаты независимого T-теста ***\")\n",
        "    test_results = ttest_ind(data['Пиццерия №1'], data['Пиццерия №2'], equal_var=True)\n",
        "\n",
        "    p = round(test_results[1],2)\n",
        "\n",
        "    if p>alpha:\n",
        "        print(f\"{p} > {alpha}. Мы не можем отвергнуть нулевую гипотезу. {H0}\")\n",
        "    else:\n",
        "        print(f\"{p} <= {alpha}. Мы отвергаем нулевую гипотезу. {Ha}\")\n",
        "\n",
        "t_test(data)"
      ]
    },
    {
      "cell_type": "markdown",
      "metadata": {
        "id": "QDXPsLmx9tg7"
      },
      "source": [
        "-----"
      ]
    },
    {
      "cell_type": "markdown",
      "metadata": {
        "id": "6zjJNCzMBpYY"
      },
      "source": [
        "# Корреляция Спирмана "
      ]
    },
    {
      "cell_type": "code",
      "execution_count": 17,
      "metadata": {
        "id": "etkN4gIJBsCz"
      },
      "outputs": [],
      "source": [
        "from numpy.random import rand\n",
        "from scipy.stats import spearmanr\n",
        "\n",
        "data1 = rand(1000) * 20\n",
        "data2 = data1 + (rand(1000) * 10)\n",
        "\n",
        "\n",
        "corr, p = spearmanr(data1, data2)"
      ]
    },
    {
      "cell_type": "code",
      "execution_count": 18,
      "metadata": {
        "colab": {
          "base_uri": "https://localhost:8080/"
        },
        "id": "2MEO85JnCJMT",
        "outputId": "d3d7e8af-12f6-47f5-884f-4eee13936f80"
      },
      "outputs": [
        {
          "output_type": "stream",
          "name": "stdout",
          "text": [
            "0.9083873843873845 0.0\n"
          ]
        }
      ],
      "source": [
        "print(corr,p)"
      ]
    },
    {
      "cell_type": "code",
      "execution_count": 19,
      "metadata": {
        "colab": {
          "base_uri": "https://localhost:8080/"
        },
        "id": "Q2ecofJHB8Vl",
        "outputId": "904f38c9-8ea3-45f8-d2a5-82dcb3cecc30"
      },
      "outputs": [
        {
          "output_type": "stream",
          "name": "stdout",
          "text": [
            "0.0 <= 0.05. Мы отвергаем нулевую гипотезу об отсутсвии зависимости между переменными.\n"
          ]
        }
      ],
      "source": [
        "if p>alpha:\n",
        "    print(f\"{p} > {alpha}. Мы не можем отвергнуть нулевую гипотезу об отсутсвии зависимости между переменными.\")\n",
        "else:\n",
        "    print(f\"{p} <= {alpha}. Мы отвергаем нулевую гипотезу об отсутсвии зависимости между переменными.\")"
      ]
    },
    {
      "cell_type": "markdown",
      "metadata": {
        "id": "_-iLGwp49yMV"
      },
      "source": [
        "# ANOVA тест"
      ]
    },
    {
      "cell_type": "code",
      "execution_count": 20,
      "metadata": {
        "id": "u6gdyAIW9tAE"
      },
      "outputs": [],
      "source": [
        "from scipy.stats import f_oneway"
      ]
    },
    {
      "cell_type": "markdown",
      "metadata": {
        "id": "CC4QRciQ9_Sa"
      },
      "source": [
        "Однофакторный дисперсионный анализ ANOVA проверяет нулевую гипотезу о том, что две или более групп имеют одинаковое среднее значение генеральной совокупности."
      ]
    },
    {
      "cell_type": "markdown",
      "metadata": {
        "id": "vZrfJBaVDNRQ"
      },
      "source": [
        "В качестве данных возьмем информацию по размерам раковины мидий, выращенных в разных местах."
      ]
    },
    {
      "cell_type": "code",
      "execution_count": 21,
      "metadata": {
        "id": "wZBbsO6891Vo"
      },
      "outputs": [],
      "source": [
        "petersburg = [0.0974, 0.1352, 0.0817, 0.1016, 0.0968, 0.1064, 0.105]\n",
        "magadan = [0.1033, 0.0915, 0.0781, 0.0685, 0.0677, 0.0697, 0.0764,\n",
        "           0.0689]\n",
        "tvarminne = [0.0703, 0.1026, 0.0956, 0.0973, 0.1039, 0.1045]"
      ]
    },
    {
      "cell_type": "code",
      "execution_count": 22,
      "metadata": {
        "id": "ln2515HB9wjm"
      },
      "outputs": [],
      "source": [
        "_, p = f_oneway(petersburg, magadan, tvarminne)"
      ]
    },
    {
      "cell_type": "code",
      "execution_count": 23,
      "metadata": {
        "id": "8yIxIJab-p6X"
      },
      "outputs": [],
      "source": [
        "H0 = 'Нет значимой разницы между средним размером раковины мидий в трех разных местах.'\n",
        "Ha = 'Есть значимая разница между средним размером раковины мидий в трех разных местах.'"
      ]
    },
    {
      "cell_type": "code",
      "execution_count": 24,
      "metadata": {
        "colab": {
          "base_uri": "https://localhost:8080/"
        },
        "id": "b5y6tsPt-ckX",
        "outputId": "db8c3001-7486-446a-bf1f-ecf6dcdeda47"
      },
      "outputs": [
        {
          "output_type": "stream",
          "name": "stdout",
          "text": [
            "0.007870900547143829 <= 0.05. Мы отвергаем нулевую гипотезу. Есть значимая разница между средним размером раковины мидий в трех разных местах.\n"
          ]
        }
      ],
      "source": [
        "if p>alpha:\n",
        "  print(f\"{p} > {alpha}. Мы не можем отвергнуть нулевую гипотезу. {H0}\")\n",
        "else:\n",
        "  print(f\"{p} <= {alpha}. Мы отвергаем нулевую гипотезу. {Ha}\")"
      ]
    },
    {
      "cell_type": "markdown",
      "metadata": {
        "id": "EMcz-XTVC3lJ"
      },
      "source": [
        "_____"
      ]
    },
    {
      "cell_type": "markdown",
      "metadata": {
        "id": "6D6X-qaiC41B"
      },
      "source": [
        "# Домашнее задание"
      ]
    },
    {
      "cell_type": "markdown",
      "metadata": {
        "id": "9LRTnw71DHUf"
      },
      "source": [
        "Используя информацию по мидиям Петербурга и Магадана, которые представлены в виде двух массивов petersburg и magadan в разделе ANOVA тест, проверьте данные на нормальность и на наличие корреляции. Для этого объедините 2 массива в DataFrame. Обоснуйте выбор теста на корреляцию. Сделайте вывод по гипотезе.\n",
        " \n",
        " \n",
        "Также ответьте на вопрос:\n",
        "Какова разница в среднем размере мидии в зависимости от города-производителя. Обоснуйте выбор теста. Сделайте вывод по гипотезе.\n"
      ]
    },
    {
      "cell_type": "code",
      "execution_count": 25,
      "metadata": {
        "id": "lRvtv6tPENJi"
      },
      "outputs": [],
      "source": [
        "petersburg = [0.0974, 0.1352, 0.0817, 0.1016, 0.0968, 0.1064, 0.105]\n",
        "magadan = [0.1033, 0.0915, 0.0781, 0.0685, 0.0677, 0.0697, 0.0764, 0.0689]"
      ]
    },
    {
      "cell_type": "code",
      "execution_count": 26,
      "metadata": {
        "colab": {
          "base_uri": "https://localhost:8080/",
          "height": 300
        },
        "id": "XHbn49xZENJi",
        "outputId": "1b0c3652-26f0-4fbd-a318-35eb6994b29c"
      },
      "outputs": [
        {
          "output_type": "display_data",
          "data": {
            "text/plain": [
              "   petersburg  magadan\n",
              "0      0.0974   0.1033\n",
              "1      0.1352   0.0915\n",
              "2      0.0817   0.0781\n",
              "3      0.1016   0.0685\n",
              "4      0.0968   0.0677\n",
              "5      0.1064   0.0697\n",
              "6      0.1050   0.0764\n",
              "7      0.1016   0.0689"
            ],
            "text/html": [
              "\n",
              "  <div id=\"df-5a7aecae-e4bd-43b9-a587-5b5af16806bd\">\n",
              "    <div class=\"colab-df-container\">\n",
              "      <div>\n",
              "<style scoped>\n",
              "    .dataframe tbody tr th:only-of-type {\n",
              "        vertical-align: middle;\n",
              "    }\n",
              "\n",
              "    .dataframe tbody tr th {\n",
              "        vertical-align: top;\n",
              "    }\n",
              "\n",
              "    .dataframe thead th {\n",
              "        text-align: right;\n",
              "    }\n",
              "</style>\n",
              "<table border=\"1\" class=\"dataframe\">\n",
              "  <thead>\n",
              "    <tr style=\"text-align: right;\">\n",
              "      <th></th>\n",
              "      <th>petersburg</th>\n",
              "      <th>magadan</th>\n",
              "    </tr>\n",
              "  </thead>\n",
              "  <tbody>\n",
              "    <tr>\n",
              "      <th>0</th>\n",
              "      <td>0.0974</td>\n",
              "      <td>0.1033</td>\n",
              "    </tr>\n",
              "    <tr>\n",
              "      <th>1</th>\n",
              "      <td>0.1352</td>\n",
              "      <td>0.0915</td>\n",
              "    </tr>\n",
              "    <tr>\n",
              "      <th>2</th>\n",
              "      <td>0.0817</td>\n",
              "      <td>0.0781</td>\n",
              "    </tr>\n",
              "    <tr>\n",
              "      <th>3</th>\n",
              "      <td>0.1016</td>\n",
              "      <td>0.0685</td>\n",
              "    </tr>\n",
              "    <tr>\n",
              "      <th>4</th>\n",
              "      <td>0.0968</td>\n",
              "      <td>0.0677</td>\n",
              "    </tr>\n",
              "    <tr>\n",
              "      <th>5</th>\n",
              "      <td>0.1064</td>\n",
              "      <td>0.0697</td>\n",
              "    </tr>\n",
              "    <tr>\n",
              "      <th>6</th>\n",
              "      <td>0.1050</td>\n",
              "      <td>0.0764</td>\n",
              "    </tr>\n",
              "    <tr>\n",
              "      <th>7</th>\n",
              "      <td>0.1016</td>\n",
              "      <td>0.0689</td>\n",
              "    </tr>\n",
              "  </tbody>\n",
              "</table>\n",
              "</div>\n",
              "      <button class=\"colab-df-convert\" onclick=\"convertToInteractive('df-5a7aecae-e4bd-43b9-a587-5b5af16806bd')\"\n",
              "              title=\"Convert this dataframe to an interactive table.\"\n",
              "              style=\"display:none;\">\n",
              "        \n",
              "  <svg xmlns=\"http://www.w3.org/2000/svg\" height=\"24px\"viewBox=\"0 0 24 24\"\n",
              "       width=\"24px\">\n",
              "    <path d=\"M0 0h24v24H0V0z\" fill=\"none\"/>\n",
              "    <path d=\"M18.56 5.44l.94 2.06.94-2.06 2.06-.94-2.06-.94-.94-2.06-.94 2.06-2.06.94zm-11 1L8.5 8.5l.94-2.06 2.06-.94-2.06-.94L8.5 2.5l-.94 2.06-2.06.94zm10 10l.94 2.06.94-2.06 2.06-.94-2.06-.94-.94-2.06-.94 2.06-2.06.94z\"/><path d=\"M17.41 7.96l-1.37-1.37c-.4-.4-.92-.59-1.43-.59-.52 0-1.04.2-1.43.59L10.3 9.45l-7.72 7.72c-.78.78-.78 2.05 0 2.83L4 21.41c.39.39.9.59 1.41.59.51 0 1.02-.2 1.41-.59l7.78-7.78 2.81-2.81c.8-.78.8-2.07 0-2.86zM5.41 20L4 18.59l7.72-7.72 1.47 1.35L5.41 20z\"/>\n",
              "  </svg>\n",
              "      </button>\n",
              "      \n",
              "  <style>\n",
              "    .colab-df-container {\n",
              "      display:flex;\n",
              "      flex-wrap:wrap;\n",
              "      gap: 12px;\n",
              "    }\n",
              "\n",
              "    .colab-df-convert {\n",
              "      background-color: #E8F0FE;\n",
              "      border: none;\n",
              "      border-radius: 50%;\n",
              "      cursor: pointer;\n",
              "      display: none;\n",
              "      fill: #1967D2;\n",
              "      height: 32px;\n",
              "      padding: 0 0 0 0;\n",
              "      width: 32px;\n",
              "    }\n",
              "\n",
              "    .colab-df-convert:hover {\n",
              "      background-color: #E2EBFA;\n",
              "      box-shadow: 0px 1px 2px rgba(60, 64, 67, 0.3), 0px 1px 3px 1px rgba(60, 64, 67, 0.15);\n",
              "      fill: #174EA6;\n",
              "    }\n",
              "\n",
              "    [theme=dark] .colab-df-convert {\n",
              "      background-color: #3B4455;\n",
              "      fill: #D2E3FC;\n",
              "    }\n",
              "\n",
              "    [theme=dark] .colab-df-convert:hover {\n",
              "      background-color: #434B5C;\n",
              "      box-shadow: 0px 1px 3px 1px rgba(0, 0, 0, 0.15);\n",
              "      filter: drop-shadow(0px 1px 2px rgba(0, 0, 0, 0.3));\n",
              "      fill: #FFFFFF;\n",
              "    }\n",
              "  </style>\n",
              "\n",
              "      <script>\n",
              "        const buttonEl =\n",
              "          document.querySelector('#df-5a7aecae-e4bd-43b9-a587-5b5af16806bd button.colab-df-convert');\n",
              "        buttonEl.style.display =\n",
              "          google.colab.kernel.accessAllowed ? 'block' : 'none';\n",
              "\n",
              "        async function convertToInteractive(key) {\n",
              "          const element = document.querySelector('#df-5a7aecae-e4bd-43b9-a587-5b5af16806bd');\n",
              "          const dataTable =\n",
              "            await google.colab.kernel.invokeFunction('convertToInteractive',\n",
              "                                                     [key], {});\n",
              "          if (!dataTable) return;\n",
              "\n",
              "          const docLinkHtml = 'Like what you see? Visit the ' +\n",
              "            '<a target=\"_blank\" href=https://colab.research.google.com/notebooks/data_table.ipynb>data table notebook</a>'\n",
              "            + ' to learn more about interactive tables.';\n",
              "          element.innerHTML = '';\n",
              "          dataTable['output_type'] = 'display_data';\n",
              "          await google.colab.output.renderOutput(dataTable, element);\n",
              "          const docLink = document.createElement('div');\n",
              "          docLink.innerHTML = docLinkHtml;\n",
              "          element.appendChild(docLink);\n",
              "        }\n",
              "      </script>\n",
              "    </div>\n",
              "  </div>\n",
              "  "
            ]
          },
          "metadata": {}
        }
      ],
      "source": [
        "# Создание DataFrame\n",
        "mussels = pd.DataFrame(\n",
        "    data={\n",
        "        'petersburg': pd.Series(petersburg, index=range(7)),\n",
        "        'magadan': pd.Series(magadan, index=range(8))\n",
        "    }\n",
        ")\n",
        "\n",
        "# Заполняем пропущенное значение медианой\n",
        "mussels.fillna({'petersburg': mussels['petersburg'].median()}, inplace=True)\n",
        "\n",
        "display(mussels)"
      ]
    },
    {
      "cell_type": "markdown",
      "metadata": {
        "id": "SQ60ZxAXENJj"
      },
      "source": [
        "**Проверка признаков на нормальность**\n",
        "\n",
        "* *Нулевая гипотеза H0: размеры раковин распределены по нормальному закону*\n",
        "* *Альтернативная гипотеза Ha: распределение размеров раковин не является нормальным*\n",
        "\n",
        "*Принимаем стандартное значение уровня значимости alpha = 0.05*\n",
        "\n",
        "*Для проверки признаков на соответствие нормальному распределению применим критерий Шапиро-Уилка*"
      ]
    },
    {
      "cell_type": "code",
      "execution_count": 27,
      "metadata": {
        "colab": {
          "base_uri": "https://localhost:8080/"
        },
        "id": "CpedcfhnENJk",
        "outputId": "93507f3d-8b05-43af-f054-55a014cf5ad2"
      },
      "outputs": [
        {
          "output_type": "stream",
          "name": "stdout",
          "text": [
            "Критерий Шапиро-Уилка: p-value =  0.101\n"
          ]
        }
      ],
      "source": [
        "_, p = shapiro(mussels)\n",
        "print(f\"Критерий Шапиро-Уилка: p-value = {p: .3f}\")"
      ]
    },
    {
      "cell_type": "markdown",
      "metadata": {
        "id": "SpZuH28EENJk"
      },
      "source": [
        "*Вывод: p-value больше принятого уровня значимости 0.05, следовательно нулевая гипотеза не отвергается, а распределение размеров раковин можно считать нормальным*"
      ]
    },
    {
      "cell_type": "markdown",
      "metadata": {
        "id": "rJIX6GugENJl"
      },
      "source": [
        "**Проверка на наличие корреляции**\n",
        "\n",
        "*Поскольку данные распределены по нормальному закону, следует применять параметрические тесты, в случае проверки на корреляцию непрерывных числовых признаков- это коэффициент корреляции r Пирсона*"
      ]
    },
    {
      "cell_type": "code",
      "execution_count": 28,
      "metadata": {
        "colab": {
          "base_uri": "https://localhost:8080/",
          "height": 112
        },
        "id": "KvedNKYOENJl",
        "outputId": "e9e4af47-a233-4684-f901-9af7fda20313"
      },
      "outputs": [
        {
          "output_type": "display_data",
          "data": {
            "text/plain": [
              "            petersburg   magadan\n",
              "petersburg    1.000000  0.256665\n",
              "magadan       0.256665  1.000000"
            ],
            "text/html": [
              "\n",
              "  <div id=\"df-118d4a7f-1f9e-4ece-938e-11ad264148a1\">\n",
              "    <div class=\"colab-df-container\">\n",
              "      <div>\n",
              "<style scoped>\n",
              "    .dataframe tbody tr th:only-of-type {\n",
              "        vertical-align: middle;\n",
              "    }\n",
              "\n",
              "    .dataframe tbody tr th {\n",
              "        vertical-align: top;\n",
              "    }\n",
              "\n",
              "    .dataframe thead th {\n",
              "        text-align: right;\n",
              "    }\n",
              "</style>\n",
              "<table border=\"1\" class=\"dataframe\">\n",
              "  <thead>\n",
              "    <tr style=\"text-align: right;\">\n",
              "      <th></th>\n",
              "      <th>petersburg</th>\n",
              "      <th>magadan</th>\n",
              "    </tr>\n",
              "  </thead>\n",
              "  <tbody>\n",
              "    <tr>\n",
              "      <th>petersburg</th>\n",
              "      <td>1.000000</td>\n",
              "      <td>0.256665</td>\n",
              "    </tr>\n",
              "    <tr>\n",
              "      <th>magadan</th>\n",
              "      <td>0.256665</td>\n",
              "      <td>1.000000</td>\n",
              "    </tr>\n",
              "  </tbody>\n",
              "</table>\n",
              "</div>\n",
              "      <button class=\"colab-df-convert\" onclick=\"convertToInteractive('df-118d4a7f-1f9e-4ece-938e-11ad264148a1')\"\n",
              "              title=\"Convert this dataframe to an interactive table.\"\n",
              "              style=\"display:none;\">\n",
              "        \n",
              "  <svg xmlns=\"http://www.w3.org/2000/svg\" height=\"24px\"viewBox=\"0 0 24 24\"\n",
              "       width=\"24px\">\n",
              "    <path d=\"M0 0h24v24H0V0z\" fill=\"none\"/>\n",
              "    <path d=\"M18.56 5.44l.94 2.06.94-2.06 2.06-.94-2.06-.94-.94-2.06-.94 2.06-2.06.94zm-11 1L8.5 8.5l.94-2.06 2.06-.94-2.06-.94L8.5 2.5l-.94 2.06-2.06.94zm10 10l.94 2.06.94-2.06 2.06-.94-2.06-.94-.94-2.06-.94 2.06-2.06.94z\"/><path d=\"M17.41 7.96l-1.37-1.37c-.4-.4-.92-.59-1.43-.59-.52 0-1.04.2-1.43.59L10.3 9.45l-7.72 7.72c-.78.78-.78 2.05 0 2.83L4 21.41c.39.39.9.59 1.41.59.51 0 1.02-.2 1.41-.59l7.78-7.78 2.81-2.81c.8-.78.8-2.07 0-2.86zM5.41 20L4 18.59l7.72-7.72 1.47 1.35L5.41 20z\"/>\n",
              "  </svg>\n",
              "      </button>\n",
              "      \n",
              "  <style>\n",
              "    .colab-df-container {\n",
              "      display:flex;\n",
              "      flex-wrap:wrap;\n",
              "      gap: 12px;\n",
              "    }\n",
              "\n",
              "    .colab-df-convert {\n",
              "      background-color: #E8F0FE;\n",
              "      border: none;\n",
              "      border-radius: 50%;\n",
              "      cursor: pointer;\n",
              "      display: none;\n",
              "      fill: #1967D2;\n",
              "      height: 32px;\n",
              "      padding: 0 0 0 0;\n",
              "      width: 32px;\n",
              "    }\n",
              "\n",
              "    .colab-df-convert:hover {\n",
              "      background-color: #E2EBFA;\n",
              "      box-shadow: 0px 1px 2px rgba(60, 64, 67, 0.3), 0px 1px 3px 1px rgba(60, 64, 67, 0.15);\n",
              "      fill: #174EA6;\n",
              "    }\n",
              "\n",
              "    [theme=dark] .colab-df-convert {\n",
              "      background-color: #3B4455;\n",
              "      fill: #D2E3FC;\n",
              "    }\n",
              "\n",
              "    [theme=dark] .colab-df-convert:hover {\n",
              "      background-color: #434B5C;\n",
              "      box-shadow: 0px 1px 3px 1px rgba(0, 0, 0, 0.15);\n",
              "      filter: drop-shadow(0px 1px 2px rgba(0, 0, 0, 0.3));\n",
              "      fill: #FFFFFF;\n",
              "    }\n",
              "  </style>\n",
              "\n",
              "      <script>\n",
              "        const buttonEl =\n",
              "          document.querySelector('#df-118d4a7f-1f9e-4ece-938e-11ad264148a1 button.colab-df-convert');\n",
              "        buttonEl.style.display =\n",
              "          google.colab.kernel.accessAllowed ? 'block' : 'none';\n",
              "\n",
              "        async function convertToInteractive(key) {\n",
              "          const element = document.querySelector('#df-118d4a7f-1f9e-4ece-938e-11ad264148a1');\n",
              "          const dataTable =\n",
              "            await google.colab.kernel.invokeFunction('convertToInteractive',\n",
              "                                                     [key], {});\n",
              "          if (!dataTable) return;\n",
              "\n",
              "          const docLinkHtml = 'Like what you see? Visit the ' +\n",
              "            '<a target=\"_blank\" href=https://colab.research.google.com/notebooks/data_table.ipynb>data table notebook</a>'\n",
              "            + ' to learn more about interactive tables.';\n",
              "          element.innerHTML = '';\n",
              "          dataTable['output_type'] = 'display_data';\n",
              "          await google.colab.output.renderOutput(dataTable, element);\n",
              "          const docLink = document.createElement('div');\n",
              "          docLink.innerHTML = docLinkHtml;\n",
              "          element.appendChild(docLink);\n",
              "        }\n",
              "      </script>\n",
              "    </div>\n",
              "  </div>\n",
              "  "
            ]
          },
          "metadata": {}
        }
      ],
      "source": [
        "display(mussels.corr(method='pearson'))"
      ]
    },
    {
      "cell_type": "markdown",
      "metadata": {
        "id": "1wUN9rp4ENJl"
      },
      "source": [
        "*Вывод: коэффициент корреляции 0.26 свидетельствует об отсутствии связи между признаками либо об очень слабой связи*"
      ]
    },
    {
      "cell_type": "markdown",
      "metadata": {
        "id": "S6HzFI__ENJm"
      },
      "source": [
        "**Сравнение средних размеров по выборкам**\n",
        "\n",
        "* *Нулевая гипотеза H0: средние размеры раковин в двух выборках (Петербург и Магадан) не отличаются*\n",
        "* *Альтернативная гипотеза Ha: есть статистически значимое различие в средних размерах раковин*\n",
        "\n",
        "*Принимаем стандартное значение уровня значимости alpha = 0.05*\n",
        "\n",
        "*Поскольку признаки распределены нормально (необходим параметрический тест), сравниваются только две выборки по одному параметру (не нужен дисперсионный анализ), объем выборок не превышает 30 (исключаем z-тест), и выборки независимы (происходят из разных совокупностей), применяем t-test (критерий Стьюдента) для независимых выборок. Предполагаем равенство дисперсий в двух выборках.*"
      ]
    },
    {
      "cell_type": "code",
      "execution_count": 29,
      "metadata": {
        "colab": {
          "base_uri": "https://localhost:8080/"
        },
        "id": "k_53V-gqENJm",
        "outputId": "8331a988-77a4-4739-8b75-0fc94f57a155"
      },
      "outputs": [
        {
          "output_type": "stream",
          "name": "stdout",
          "text": [
            "Независимый t-тест: p-value =  0.003\n"
          ]
        }
      ],
      "source": [
        "_, p = ttest_ind(mussels['petersburg'], mussels['magadan'])\n",
        "print(f'Независимый t-тест: p-value = {p: .3f}')"
      ]
    },
    {
      "cell_type": "markdown",
      "metadata": {
        "id": "AOGPK_v8ENJn"
      },
      "source": [
        "*p-value меньше установленного уровня значимости 0.05 (более того, меньше уровня 1%), следовательно есть статистические значимые различия в рамерах раковин. Рассчитаем средние размеры:*"
      ]
    },
    {
      "cell_type": "code",
      "execution_count": 30,
      "metadata": {
        "colab": {
          "base_uri": "https://localhost:8080/"
        },
        "id": "3zBfLD03ENJn",
        "outputId": "23998bf0-998b-4c3d-f6cc-ed478e804e02"
      },
      "outputs": [
        {
          "output_type": "stream",
          "name": "stdout",
          "text": [
            "Средний размер раковины (Петербург): 0.10321249999999998\n",
            "Средний размер раковины (Магадан): 0.0780125\n"
          ]
        }
      ],
      "source": [
        "aver_peter = mussels['petersburg'].mean()\n",
        "aver_magadan = mussels['magadan'].mean()\n",
        "print(f'Средний размер раковины (Петербург): {aver_peter}')\n",
        "print(f'Средний размер раковины (Магадан): {aver_magadan}')"
      ]
    },
    {
      "cell_type": "markdown",
      "metadata": {
        "id": "EpQEIdtyENJo"
      },
      "source": [
        "*Вывод: мидии из Петербурга в среднем на 25% крупнее, различия статистически значимы*"
      ]
    },
    {
      "cell_type": "markdown",
      "metadata": {
        "id": "QStt6SskWs6T"
      },
      "source": [
        "# Бонус"
      ]
    },
    {
      "cell_type": "markdown",
      "metadata": {
        "id": "mIS-m13WW66R"
      },
      "source": [
        "Скачаем датасет, содержащий информацию по давлению 120 человек.\n",
        "\n"
      ]
    },
    {
      "cell_type": "code",
      "execution_count": 31,
      "metadata": {
        "colab": {
          "base_uri": "https://localhost:8080/"
        },
        "id": "s97bH1NtYJW6",
        "outputId": "bc01fc9b-3792-4651-bceb-b9d13a537c28"
      },
      "outputs": [
        {
          "output_type": "stream",
          "name": "stdout",
          "text": [
            "--2023-05-12 22:29:31--  https://raw.githubusercontent.com/yug95/MachineLearning/master/Hypothesis%20testing/blood_pressure.csv\n",
            "Resolving raw.githubusercontent.com (raw.githubusercontent.com)... 185.199.108.133, 185.199.109.133, 185.199.110.133, ...\n",
            "Connecting to raw.githubusercontent.com (raw.githubusercontent.com)|185.199.108.133|:443... connected.\n",
            "HTTP request sent, awaiting response... 200 OK\n",
            "Length: 2851 (2.8K) [text/plain]\n",
            "Saving to: ‘blood_pressure.csv’\n",
            "\n",
            "\rblood_pressure.csv    0%[                    ]       0  --.-KB/s               \rblood_pressure.csv  100%[===================>]   2.78K  --.-KB/s    in 0s      \n",
            "\n",
            "2023-05-12 22:29:31 (39.0 MB/s) - ‘blood_pressure.csv’ saved [2851/2851]\n",
            "\n"
          ]
        }
      ],
      "source": [
        "!wget https://raw.githubusercontent.com/yug95/MachineLearning/master/Hypothesis%20testing/blood_pressure.csv"
      ]
    },
    {
      "cell_type": "code",
      "execution_count": 32,
      "metadata": {
        "id": "ulyWmtYJYlVA"
      },
      "outputs": [],
      "source": [
        "data = pd.read_csv('blood_pressure.csv')"
      ]
    },
    {
      "cell_type": "code",
      "execution_count": 33,
      "metadata": {
        "colab": {
          "base_uri": "https://localhost:8080/"
        },
        "id": "JqNIeUoGYx-y",
        "outputId": "c5e24c98-ff3d-49e2-d23a-b913311e6aa2"
      },
      "outputs": [
        {
          "output_type": "stream",
          "name": "stdout",
          "text": [
            "Размер выборки:  (120, 5)\n"
          ]
        }
      ],
      "source": [
        "print('Размер выборки: ', data.shape)"
      ]
    },
    {
      "cell_type": "code",
      "execution_count": 34,
      "metadata": {
        "colab": {
          "base_uri": "https://localhost:8080/",
          "height": 206
        },
        "id": "BiPeJeI3Y4aN",
        "outputId": "be3b63f5-b021-4827-dabb-7585e4387c16"
      },
      "outputs": [
        {
          "output_type": "execute_result",
          "data": {
            "text/plain": [
              "   patient   sex agegrp  bp_before  bp_after\n",
              "0        1  Male  30-45        143       153\n",
              "1        2  Male  30-45        163       170\n",
              "2        3  Male  30-45        153       168\n",
              "3        4  Male  30-45        153       142\n",
              "4        5  Male  30-45        146       141"
            ],
            "text/html": [
              "\n",
              "  <div id=\"df-33ea10ce-f047-4c54-bac8-dc306ce3611e\">\n",
              "    <div class=\"colab-df-container\">\n",
              "      <div>\n",
              "<style scoped>\n",
              "    .dataframe tbody tr th:only-of-type {\n",
              "        vertical-align: middle;\n",
              "    }\n",
              "\n",
              "    .dataframe tbody tr th {\n",
              "        vertical-align: top;\n",
              "    }\n",
              "\n",
              "    .dataframe thead th {\n",
              "        text-align: right;\n",
              "    }\n",
              "</style>\n",
              "<table border=\"1\" class=\"dataframe\">\n",
              "  <thead>\n",
              "    <tr style=\"text-align: right;\">\n",
              "      <th></th>\n",
              "      <th>patient</th>\n",
              "      <th>sex</th>\n",
              "      <th>agegrp</th>\n",
              "      <th>bp_before</th>\n",
              "      <th>bp_after</th>\n",
              "    </tr>\n",
              "  </thead>\n",
              "  <tbody>\n",
              "    <tr>\n",
              "      <th>0</th>\n",
              "      <td>1</td>\n",
              "      <td>Male</td>\n",
              "      <td>30-45</td>\n",
              "      <td>143</td>\n",
              "      <td>153</td>\n",
              "    </tr>\n",
              "    <tr>\n",
              "      <th>1</th>\n",
              "      <td>2</td>\n",
              "      <td>Male</td>\n",
              "      <td>30-45</td>\n",
              "      <td>163</td>\n",
              "      <td>170</td>\n",
              "    </tr>\n",
              "    <tr>\n",
              "      <th>2</th>\n",
              "      <td>3</td>\n",
              "      <td>Male</td>\n",
              "      <td>30-45</td>\n",
              "      <td>153</td>\n",
              "      <td>168</td>\n",
              "    </tr>\n",
              "    <tr>\n",
              "      <th>3</th>\n",
              "      <td>4</td>\n",
              "      <td>Male</td>\n",
              "      <td>30-45</td>\n",
              "      <td>153</td>\n",
              "      <td>142</td>\n",
              "    </tr>\n",
              "    <tr>\n",
              "      <th>4</th>\n",
              "      <td>5</td>\n",
              "      <td>Male</td>\n",
              "      <td>30-45</td>\n",
              "      <td>146</td>\n",
              "      <td>141</td>\n",
              "    </tr>\n",
              "  </tbody>\n",
              "</table>\n",
              "</div>\n",
              "      <button class=\"colab-df-convert\" onclick=\"convertToInteractive('df-33ea10ce-f047-4c54-bac8-dc306ce3611e')\"\n",
              "              title=\"Convert this dataframe to an interactive table.\"\n",
              "              style=\"display:none;\">\n",
              "        \n",
              "  <svg xmlns=\"http://www.w3.org/2000/svg\" height=\"24px\"viewBox=\"0 0 24 24\"\n",
              "       width=\"24px\">\n",
              "    <path d=\"M0 0h24v24H0V0z\" fill=\"none\"/>\n",
              "    <path d=\"M18.56 5.44l.94 2.06.94-2.06 2.06-.94-2.06-.94-.94-2.06-.94 2.06-2.06.94zm-11 1L8.5 8.5l.94-2.06 2.06-.94-2.06-.94L8.5 2.5l-.94 2.06-2.06.94zm10 10l.94 2.06.94-2.06 2.06-.94-2.06-.94-.94-2.06-.94 2.06-2.06.94z\"/><path d=\"M17.41 7.96l-1.37-1.37c-.4-.4-.92-.59-1.43-.59-.52 0-1.04.2-1.43.59L10.3 9.45l-7.72 7.72c-.78.78-.78 2.05 0 2.83L4 21.41c.39.39.9.59 1.41.59.51 0 1.02-.2 1.41-.59l7.78-7.78 2.81-2.81c.8-.78.8-2.07 0-2.86zM5.41 20L4 18.59l7.72-7.72 1.47 1.35L5.41 20z\"/>\n",
              "  </svg>\n",
              "      </button>\n",
              "      \n",
              "  <style>\n",
              "    .colab-df-container {\n",
              "      display:flex;\n",
              "      flex-wrap:wrap;\n",
              "      gap: 12px;\n",
              "    }\n",
              "\n",
              "    .colab-df-convert {\n",
              "      background-color: #E8F0FE;\n",
              "      border: none;\n",
              "      border-radius: 50%;\n",
              "      cursor: pointer;\n",
              "      display: none;\n",
              "      fill: #1967D2;\n",
              "      height: 32px;\n",
              "      padding: 0 0 0 0;\n",
              "      width: 32px;\n",
              "    }\n",
              "\n",
              "    .colab-df-convert:hover {\n",
              "      background-color: #E2EBFA;\n",
              "      box-shadow: 0px 1px 2px rgba(60, 64, 67, 0.3), 0px 1px 3px 1px rgba(60, 64, 67, 0.15);\n",
              "      fill: #174EA6;\n",
              "    }\n",
              "\n",
              "    [theme=dark] .colab-df-convert {\n",
              "      background-color: #3B4455;\n",
              "      fill: #D2E3FC;\n",
              "    }\n",
              "\n",
              "    [theme=dark] .colab-df-convert:hover {\n",
              "      background-color: #434B5C;\n",
              "      box-shadow: 0px 1px 3px 1px rgba(0, 0, 0, 0.15);\n",
              "      filter: drop-shadow(0px 1px 2px rgba(0, 0, 0, 0.3));\n",
              "      fill: #FFFFFF;\n",
              "    }\n",
              "  </style>\n",
              "\n",
              "      <script>\n",
              "        const buttonEl =\n",
              "          document.querySelector('#df-33ea10ce-f047-4c54-bac8-dc306ce3611e button.colab-df-convert');\n",
              "        buttonEl.style.display =\n",
              "          google.colab.kernel.accessAllowed ? 'block' : 'none';\n",
              "\n",
              "        async function convertToInteractive(key) {\n",
              "          const element = document.querySelector('#df-33ea10ce-f047-4c54-bac8-dc306ce3611e');\n",
              "          const dataTable =\n",
              "            await google.colab.kernel.invokeFunction('convertToInteractive',\n",
              "                                                     [key], {});\n",
              "          if (!dataTable) return;\n",
              "\n",
              "          const docLinkHtml = 'Like what you see? Visit the ' +\n",
              "            '<a target=\"_blank\" href=https://colab.research.google.com/notebooks/data_table.ipynb>data table notebook</a>'\n",
              "            + ' to learn more about interactive tables.';\n",
              "          element.innerHTML = '';\n",
              "          dataTable['output_type'] = 'display_data';\n",
              "          await google.colab.output.renderOutput(dataTable, element);\n",
              "          const docLink = document.createElement('div');\n",
              "          docLink.innerHTML = docLinkHtml;\n",
              "          element.appendChild(docLink);\n",
              "        }\n",
              "      </script>\n",
              "    </div>\n",
              "  </div>\n",
              "  "
            ]
          },
          "metadata": {},
          "execution_count": 34
        }
      ],
      "source": [
        "data.head()"
      ]
    },
    {
      "cell_type": "markdown",
      "metadata": {
        "id": "4DgsNBXIF7AY"
      },
      "source": [
        "## Z-тест"
      ]
    },
    {
      "cell_type": "markdown",
      "metadata": {
        "id": "-mAQZnC_YZTO"
      },
      "source": [
        "Проведем Z-тест для проверки двух независимых групп данных на равенство средних значений выборок."
      ]
    },
    {
      "cell_type": "code",
      "execution_count": 35,
      "metadata": {
        "id": "U7yWgrnGC7QD"
      },
      "outputs": [],
      "source": [
        "from statsmodels.stats import weightstats"
      ]
    },
    {
      "cell_type": "code",
      "execution_count": 36,
      "metadata": {
        "colab": {
          "base_uri": "https://localhost:8080/"
        },
        "id": "qnraDYOpBGps",
        "outputId": "68d4205a-e86c-4006-d283-0c158a6a9077"
      },
      "outputs": [
        {
          "output_type": "stream",
          "name": "stdout",
          "text": [
            "0.002162306611369422\n",
            "Мы отвергаем нулевую гипотезу об отсутсвии различий между данными.\n"
          ]
        }
      ],
      "source": [
        "_ ,p = weightstats.ztest(data['bp_before'], x2=data['bp_after'], value=0,alternative='two-sided')\n",
        "print(float(p))\n",
        "\n",
        "\n",
        "if p < 0.05:\n",
        "    print(\"Мы отвергаем нулевую гипотезу об отсутсвии различий между данными.\")\n",
        "else:\n",
        "    print(\"Мы не можем отвергнуть нулевую гипотезу об отсутсвии различий между данными.\")"
      ]
    },
    {
      "cell_type": "markdown",
      "metadata": {
        "id": "WdtE6WckGKCB"
      },
      "source": [
        "## Z-тест на пропорцию"
      ]
    },
    {
      "cell_type": "markdown",
      "metadata": {
        "id": "IUIgCw7YGPrj"
      },
      "source": [
        "Z-критерий одной пропорции используется для сравнения наблюдаемой пропорции с теоретической.\n",
        "\n",
        "В этом тесте используются следующие нулевые гипотезы:\n",
        "\n",
        "$H_0: p = p_0$ (доля мужчин, предоставивших данные о своем давлении, равна гипотетической пропорции $p_0$)\n",
        "\n",
        "Альтернативная гипотеза может быть двусторонней, левосторонней или правосторонней:\n",
        "\n",
        "$H_1 (двусторонний): p ≠ p_0$ (доля мужчин не равна некоторому гипотетическому значению $p_0$)\n",
        "$H_1 (левосторонний): p < p_0$ (доля мужчин меньше некоторого гипотетического значения $p_0$)\n",
        "$H_1 (правосторонний): p > p_0$ (доля мужчин больше некоторого гипотетического значения $p_0$)"
      ]
    },
    {
      "cell_type": "markdown",
      "metadata": {
        "id": "j0o4Q9AkHtiV"
      },
      "source": [
        "Предположим, что доля мужчин в нашем датачете равна 40%.\n",
        "\n",
        "$p_0$: гипотетическая доля мужчин = 0.40\n",
        "\n",
        "$x$: число мужчин в выборке мужчин: `len(data[data.sex == 'Male'])`\n",
        "\n",
        "$n$: размер выборки = `len(data)`\n",
        "\n",
        "Покажем, как использовать функцию `proportions_ztest` для выполнения  **z-теста**:"
      ]
    },
    {
      "cell_type": "code",
      "execution_count": 37,
      "metadata": {
        "colab": {
          "base_uri": "https://localhost:8080/"
        },
        "id": "njuMmGIMJK2J",
        "outputId": "7bfb7b62-dec4-4d22-898a-255da31c8718"
      },
      "outputs": [
        {
          "output_type": "stream",
          "name": "stdout",
          "text": [
            "120 60\n"
          ]
        }
      ],
      "source": [
        "p_0 = 0.4\n",
        "n = len(data)\n",
        "x = len(data[data.sex == 'Male'])\n",
        "\n",
        "print(n, x)"
      ]
    },
    {
      "cell_type": "code",
      "execution_count": 38,
      "metadata": {
        "id": "P9dLX0GFHisW"
      },
      "outputs": [],
      "source": [
        "from statsmodels.stats.proportion import proportions_ztest\n",
        "\n",
        "#perform one proportion z-test\n",
        "_, p = proportions_ztest(count=x, nobs=n, value=p_0)"
      ]
    },
    {
      "cell_type": "code",
      "execution_count": 39,
      "metadata": {
        "colab": {
          "base_uri": "https://localhost:8080/"
        },
        "id": "BAYRIF7rJY_C",
        "outputId": "cc200c72-c17b-433a-e3b6-bd3572403c8e"
      },
      "outputs": [
        {
          "output_type": "stream",
          "name": "stdout",
          "text": [
            "Мы отвергаем нулевую гипотезу о том, что доля мужчин, предоставивших данные о своем давлении, равна 40%.\n"
          ]
        }
      ],
      "source": [
        "if p < 0.05:\n",
        "    print(\"Мы отвергаем нулевую гипотезу о том, что доля мужчин, предоставивших данные о своем давлении, равна 40%.\")\n",
        "else:\n",
        "    print(\"Мы не можем отвергнуть нулевую гипотезу.\")"
      ]
    }
  ],
  "metadata": {
    "colab": {
      "provenance": [],
      "include_colab_link": true
    },
    "kernelspec": {
      "display_name": "Python 3",
      "language": "python",
      "name": "python3"
    },
    "language_info": {
      "codemirror_mode": {
        "name": "ipython",
        "version": 3
      },
      "file_extension": ".py",
      "mimetype": "text/x-python",
      "name": "python",
      "nbconvert_exporter": "python",
      "pygments_lexer": "ipython3",
      "version": "3.10.7 (v3.10.7:6cc6b13308, Sep  5 2022, 14:02:52) [Clang 13.0.0 (clang-1300.0.29.30)]"
    },
    "vscode": {
      "interpreter": {
        "hash": "aee8b7b246df8f9039afb4144a1f6fd8d2ca17a180786b69acc140d282b71a49"
      }
    }
  },
  "nbformat": 4,
  "nbformat_minor": 0
}